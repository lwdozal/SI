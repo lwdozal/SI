{
  "nbformat": 4,
  "nbformat_minor": 0,
  "metadata": {
    "colab": {
      "name": "InsightCrime-HAN_try",
      "provenance": [],
      "collapsed_sections": [
        "8roPbMQOyC7B",
        "v3eaV2N7H4xk",
        "68rU458T3-LJ",
        "NLCVxOrHq_wr"
      ],
      "include_colab_link": true
    },
    "kernelspec": {
      "name": "python3",
      "display_name": "Python 3"
    },
    "accelerator": "TPU"
  },
  "cells": [
    {
      "cell_type": "markdown",
      "metadata": {
        "id": "view-in-github",
        "colab_type": "text"
      },
      "source": [
        "<a href=\"https://colab.research.google.com/github/lwerth/SI/blob/master/InsightCrime_HAN_try.ipynb\" target=\"_parent\"><img src=\"https://colab.research.google.com/assets/colab-badge.svg\" alt=\"Open In Colab\"/></a>"
      ]
    },
    {
      "cell_type": "markdown",
      "metadata": {
        "id": "ZOAYivo7mq3N",
        "colab_type": "text"
      },
      "source": [
        "##Preprocessing and other stuff\n"
      ]
    },
    {
      "cell_type": "code",
      "metadata": {
        "id": "pdyVOsermwZ5",
        "colab_type": "code",
        "colab": {}
      },
      "source": [
        "#code taken from https://www.kaggle.com/hsankesara/news-classification-using-han/notebook\n",
        "#and\n",
        "#https://colab.research.google.com/drive/1Q2tf4wSQRVq_opjWAYzpbYpPpzcnDaje?usp=sharing\n",
        "#and\n",
        "#https://colab.research.google.com/drive/1Q2tf4wSQRVq_opjWAYzpbYpPpzcnDaje?usp=sharing"
      ],
      "execution_count": 1,
      "outputs": []
    },
    {
      "cell_type": "code",
      "metadata": {
        "id": "qZp01sKhwv1c",
        "colab_type": "code",
        "colab": {
          "base_uri": "https://localhost:8080/",
          "height": 68
        },
        "outputId": "03305949-9121-4ff2-ce45-e6e1132a9e5c"
      },
      "source": [
        "import pandas as pd\n",
        "import numpy as np\n",
        "from keras.preprocessing.text import Tokenizer,  text_to_word_sequence\n",
        "from keras.engine.topology import Layer\n",
        "from keras import initializers as initializers, regularizers, constraints\n",
        "from keras.callbacks import Callback, ModelCheckpoint\n",
        "from keras.utils.np_utils import to_categorical\n",
        "from keras.layers import Embedding, Input, Dense, LSTM, GRU, Bidirectional, TimeDistributed, Dropout\n",
        "from keras import backend as K\n",
        "from keras import optimizers\n",
        "from keras.models import Model\n",
        "import nltk\n",
        "import re\n",
        "import matplotlib.pyplot as plt\n",
        "import sys\n",
        "from sklearn.metrics import roc_auc_score\n",
        "from nltk import tokenize\n",
        "import seaborn as sns\n",
        "import json\n",
        "from tqdm import tqdm\n",
        "from sklearn.feature_extraction.text import TfidfVectorizer\n",
        "from sklearn.model_selection import train_test_split"
      ],
      "execution_count": 2,
      "outputs": [
        {
          "output_type": "stream",
          "text": [
            "Using TensorFlow backend.\n",
            "/usr/local/lib/python3.6/dist-packages/statsmodels/tools/_testing.py:19: FutureWarning: pandas.util.testing is deprecated. Use the functions in the public API at pandas.testing instead.\n",
            "  import pandas.util.testing as tm\n"
          ],
          "name": "stderr"
        }
      ]
    },
    {
      "cell_type": "code",
      "metadata": {
        "id": "XuKYiw5MjWpN",
        "colab_type": "code",
        "colab": {
          "base_uri": "https://localhost:8080/",
          "height": 731
        },
        "outputId": "6b712248-8879-4acd-e644-fdbd5937cdb1"
      },
      "source": [
        "# %tensorflow_version 2.x\n",
        "# import tensorflow as tf\n",
        "# device_name = tf.test.gpu_device_name()\n",
        "# if device_name != '/device:GPU:0':\n",
        "#   raise SystemError('GPU device not found')\n",
        "# print('Found GPU at: {}'.format(device_name))\n",
        "\n",
        "%tensorflow_version 2.x\n",
        "import tensorflow as tf\n",
        "print(\"Tensorflow version \" + tf.__version__)\n",
        "\n",
        "try:\n",
        "  tpu = tf.distribute.cluster_resolver.TPUClusterResolver()  # TPU detection\n",
        "  print('Running on TPU ', tpu.cluster_spec().as_dict()['worker'])\n",
        "except ValueError:\n",
        "  raise BaseException('ERROR: Not connected to a TPU runtime; please see the previous cell in this notebook for instructions!')\n",
        "\n",
        "tf.config.experimental_connect_to_cluster(tpu)\n",
        "tf.tpu.experimental.initialize_tpu_system(tpu)\n",
        "tpu_strategy = tf.distribute.experimental.TPUStrategy(tpu)"
      ],
      "execution_count": 3,
      "outputs": [
        {
          "output_type": "stream",
          "text": [
            "Tensorflow version 2.2.0\n",
            "Running on TPU  ['10.32.150.250:8470']\n",
            "INFO:tensorflow:Initializing the TPU system: grpc://10.32.150.250:8470\n"
          ],
          "name": "stdout"
        },
        {
          "output_type": "stream",
          "text": [
            "INFO:tensorflow:Initializing the TPU system: grpc://10.32.150.250:8470\n"
          ],
          "name": "stderr"
        },
        {
          "output_type": "stream",
          "text": [
            "INFO:tensorflow:Clearing out eager caches\n"
          ],
          "name": "stdout"
        },
        {
          "output_type": "stream",
          "text": [
            "INFO:tensorflow:Clearing out eager caches\n"
          ],
          "name": "stderr"
        },
        {
          "output_type": "stream",
          "text": [
            "INFO:tensorflow:Finished initializing TPU system.\n"
          ],
          "name": "stdout"
        },
        {
          "output_type": "stream",
          "text": [
            "INFO:tensorflow:Finished initializing TPU system.\n"
          ],
          "name": "stderr"
        },
        {
          "output_type": "stream",
          "text": [
            "INFO:tensorflow:Found TPU system:\n"
          ],
          "name": "stdout"
        },
        {
          "output_type": "stream",
          "text": [
            "INFO:tensorflow:Found TPU system:\n"
          ],
          "name": "stderr"
        },
        {
          "output_type": "stream",
          "text": [
            "INFO:tensorflow:*** Num TPU Cores: 8\n"
          ],
          "name": "stdout"
        },
        {
          "output_type": "stream",
          "text": [
            "INFO:tensorflow:*** Num TPU Cores: 8\n"
          ],
          "name": "stderr"
        },
        {
          "output_type": "stream",
          "text": [
            "INFO:tensorflow:*** Num TPU Workers: 1\n"
          ],
          "name": "stdout"
        },
        {
          "output_type": "stream",
          "text": [
            "INFO:tensorflow:*** Num TPU Workers: 1\n"
          ],
          "name": "stderr"
        },
        {
          "output_type": "stream",
          "text": [
            "INFO:tensorflow:*** Num TPU Cores Per Worker: 8\n"
          ],
          "name": "stdout"
        },
        {
          "output_type": "stream",
          "text": [
            "INFO:tensorflow:*** Num TPU Cores Per Worker: 8\n"
          ],
          "name": "stderr"
        },
        {
          "output_type": "stream",
          "text": [
            "INFO:tensorflow:*** Available Device: _DeviceAttributes(/job:localhost/replica:0/task:0/device:CPU:0, CPU, 0, 0)\n"
          ],
          "name": "stdout"
        },
        {
          "output_type": "stream",
          "text": [
            "INFO:tensorflow:*** Available Device: _DeviceAttributes(/job:localhost/replica:0/task:0/device:CPU:0, CPU, 0, 0)\n"
          ],
          "name": "stderr"
        },
        {
          "output_type": "stream",
          "text": [
            "INFO:tensorflow:*** Available Device: _DeviceAttributes(/job:localhost/replica:0/task:0/device:XLA_CPU:0, XLA_CPU, 0, 0)\n"
          ],
          "name": "stdout"
        },
        {
          "output_type": "stream",
          "text": [
            "INFO:tensorflow:*** Available Device: _DeviceAttributes(/job:localhost/replica:0/task:0/device:XLA_CPU:0, XLA_CPU, 0, 0)\n"
          ],
          "name": "stderr"
        },
        {
          "output_type": "stream",
          "text": [
            "INFO:tensorflow:*** Available Device: _DeviceAttributes(/job:worker/replica:0/task:0/device:CPU:0, CPU, 0, 0)\n"
          ],
          "name": "stdout"
        },
        {
          "output_type": "stream",
          "text": [
            "INFO:tensorflow:*** Available Device: _DeviceAttributes(/job:worker/replica:0/task:0/device:CPU:0, CPU, 0, 0)\n"
          ],
          "name": "stderr"
        },
        {
          "output_type": "stream",
          "text": [
            "INFO:tensorflow:*** Available Device: _DeviceAttributes(/job:worker/replica:0/task:0/device:TPU:0, TPU, 0, 0)\n"
          ],
          "name": "stdout"
        },
        {
          "output_type": "stream",
          "text": [
            "INFO:tensorflow:*** Available Device: _DeviceAttributes(/job:worker/replica:0/task:0/device:TPU:0, TPU, 0, 0)\n"
          ],
          "name": "stderr"
        },
        {
          "output_type": "stream",
          "text": [
            "INFO:tensorflow:*** Available Device: _DeviceAttributes(/job:worker/replica:0/task:0/device:TPU:1, TPU, 0, 0)\n"
          ],
          "name": "stdout"
        },
        {
          "output_type": "stream",
          "text": [
            "INFO:tensorflow:*** Available Device: _DeviceAttributes(/job:worker/replica:0/task:0/device:TPU:1, TPU, 0, 0)\n"
          ],
          "name": "stderr"
        },
        {
          "output_type": "stream",
          "text": [
            "INFO:tensorflow:*** Available Device: _DeviceAttributes(/job:worker/replica:0/task:0/device:TPU:2, TPU, 0, 0)\n"
          ],
          "name": "stdout"
        },
        {
          "output_type": "stream",
          "text": [
            "INFO:tensorflow:*** Available Device: _DeviceAttributes(/job:worker/replica:0/task:0/device:TPU:2, TPU, 0, 0)\n"
          ],
          "name": "stderr"
        },
        {
          "output_type": "stream",
          "text": [
            "INFO:tensorflow:*** Available Device: _DeviceAttributes(/job:worker/replica:0/task:0/device:TPU:3, TPU, 0, 0)\n"
          ],
          "name": "stdout"
        },
        {
          "output_type": "stream",
          "text": [
            "INFO:tensorflow:*** Available Device: _DeviceAttributes(/job:worker/replica:0/task:0/device:TPU:3, TPU, 0, 0)\n"
          ],
          "name": "stderr"
        },
        {
          "output_type": "stream",
          "text": [
            "INFO:tensorflow:*** Available Device: _DeviceAttributes(/job:worker/replica:0/task:0/device:TPU:4, TPU, 0, 0)\n"
          ],
          "name": "stdout"
        },
        {
          "output_type": "stream",
          "text": [
            "INFO:tensorflow:*** Available Device: _DeviceAttributes(/job:worker/replica:0/task:0/device:TPU:4, TPU, 0, 0)\n"
          ],
          "name": "stderr"
        },
        {
          "output_type": "stream",
          "text": [
            "INFO:tensorflow:*** Available Device: _DeviceAttributes(/job:worker/replica:0/task:0/device:TPU:5, TPU, 0, 0)\n"
          ],
          "name": "stdout"
        },
        {
          "output_type": "stream",
          "text": [
            "INFO:tensorflow:*** Available Device: _DeviceAttributes(/job:worker/replica:0/task:0/device:TPU:5, TPU, 0, 0)\n"
          ],
          "name": "stderr"
        },
        {
          "output_type": "stream",
          "text": [
            "INFO:tensorflow:*** Available Device: _DeviceAttributes(/job:worker/replica:0/task:0/device:TPU:6, TPU, 0, 0)\n"
          ],
          "name": "stdout"
        },
        {
          "output_type": "stream",
          "text": [
            "INFO:tensorflow:*** Available Device: _DeviceAttributes(/job:worker/replica:0/task:0/device:TPU:6, TPU, 0, 0)\n"
          ],
          "name": "stderr"
        },
        {
          "output_type": "stream",
          "text": [
            "INFO:tensorflow:*** Available Device: _DeviceAttributes(/job:worker/replica:0/task:0/device:TPU:7, TPU, 0, 0)\n"
          ],
          "name": "stdout"
        },
        {
          "output_type": "stream",
          "text": [
            "INFO:tensorflow:*** Available Device: _DeviceAttributes(/job:worker/replica:0/task:0/device:TPU:7, TPU, 0, 0)\n"
          ],
          "name": "stderr"
        },
        {
          "output_type": "stream",
          "text": [
            "INFO:tensorflow:*** Available Device: _DeviceAttributes(/job:worker/replica:0/task:0/device:TPU_SYSTEM:0, TPU_SYSTEM, 0, 0)\n"
          ],
          "name": "stdout"
        },
        {
          "output_type": "stream",
          "text": [
            "INFO:tensorflow:*** Available Device: _DeviceAttributes(/job:worker/replica:0/task:0/device:TPU_SYSTEM:0, TPU_SYSTEM, 0, 0)\n"
          ],
          "name": "stderr"
        },
        {
          "output_type": "stream",
          "text": [
            "INFO:tensorflow:*** Available Device: _DeviceAttributes(/job:worker/replica:0/task:0/device:XLA_CPU:0, XLA_CPU, 0, 0)\n"
          ],
          "name": "stdout"
        },
        {
          "output_type": "stream",
          "text": [
            "INFO:tensorflow:*** Available Device: _DeviceAttributes(/job:worker/replica:0/task:0/device:XLA_CPU:0, XLA_CPU, 0, 0)\n"
          ],
          "name": "stderr"
        }
      ]
    },
    {
      "cell_type": "code",
      "metadata": {
        "id": "opG1R3J5kdSM",
        "colab_type": "code",
        "colab": {}
      },
      "source": [
        "def dot_product(x, kernel):\n",
        "    \"\"\"\n",
        "    Wrapper for dot product operation, in order to be compatibl|e with both\n",
        "    Theano and Tensorflow\n",
        "    Args:\n",
        "        x (): input\n",
        "        kernel (): weights\n",
        "    Returns:\n",
        "    \"\"\"\n",
        "    if K.backend() == 'tensorflow':\n",
        "        return K.squeeze(K.dot(x, K.expand_dims(kernel)), axis=-1)\n",
        "    else:\n",
        "        return K.dot(x, kernel)\n",
        "\n",
        "class AttentionWithContext(Layer):\n",
        "    \"\"\"\n",
        "    Attention operation, with a context/query vector, for temporal data.\n",
        "    Supports Masking.\n",
        "    Follows the work of Yang et al. [https://www.cs.cmu.edu/~diyiy/docs/naacl16.pdf]\n",
        "    \"Hierarchical Attention Networks for Document Classification\"\n",
        "    by using a context vector to assist the attention\n",
        "    # Input shape\n",
        "        3D tensor with shape: `(samples, steps, features)`.\n",
        "    # Output shape\n",
        "        2D tensor with shape: `(samples, features)`.\n",
        "    How to use:\n",
        "    Just put it on top of an RNN Layer (GRU/LSTM/SimpleRNN) with return_sequences=True.\n",
        "    The dimensions are inferred based on the output shape of the RNN.\n",
        "    Note: The layer has been tested with Keras 2.0.6\n",
        "    Example:\n",
        "        model.add(LSTM(64, return_sequences=True))\n",
        "        model.add(AttentionWithContext())\n",
        "        # next add a Dense layer (for classification/regression) or whatever...\n",
        "    \"\"\"\n",
        "\n",
        "    def __init__(self,\n",
        "                 W_regularizer=None, u_regularizer=None, b_regularizer=None,\n",
        "                 W_constraint=None, u_constraint=None, b_constraint=None,\n",
        "                 bias=True, **kwargs):\n",
        "\n",
        "        self.supports_masking = True\n",
        "        self.init = initializers.get('glorot_uniform')\n",
        "\n",
        "        self.W_regularizer = regularizers.get(W_regularizer)\n",
        "        self.u_regularizer = regularizers.get(u_regularizer)\n",
        "        self.b_regularizer = regularizers.get(b_regularizer)\n",
        "\n",
        "        self.W_constraint = constraints.get(W_constraint)\n",
        "        self.u_constraint = constraints.get(u_constraint)\n",
        "        self.b_constraint = constraints.get(b_constraint)\n",
        "\n",
        "        self.bias = bias\n",
        "        super(AttentionWithContext, self).__init__(**kwargs)\n",
        "\n",
        "    def build(self, input_shape):\n",
        "        assert len(input_shape) == 3\n",
        "\n",
        "        self.W = self.add_weight(shape = (input_shape[-1], input_shape[-1],),\n",
        "                                 initializer=self.init,\n",
        "                                 name='{}_W'.format(self.name),\n",
        "                                 regularizer=self.W_regularizer,\n",
        "                                 constraint=self.W_constraint)\n",
        "        if self.bias:\n",
        "            self.b = self.add_weight(shape = (input_shape[-1],),\n",
        "                                     initializer='zero',\n",
        "                                     name='{}_b'.format(self.name),\n",
        "                                     regularizer=self.b_regularizer,\n",
        "                                     constraint=self.b_constraint)\n",
        "\n",
        "        self.u = self.add_weight(shape = (input_shape[-1],),\n",
        "                                 initializer=self.init,\n",
        "                                 name='{}_u'.format(self.name),\n",
        "                                 regularizer=self.u_regularizer,\n",
        "                                 constraint=self.u_constraint)\n",
        "\n",
        "        super(AttentionWithContext, self).build(input_shape)\n",
        "\n",
        "    def compute_mask(self, input, input_mask=None):\n",
        "        # do not pass the mask to the next layers\n",
        "        return None\n",
        "\n",
        "    def call(self, x, mask=None):\n",
        "        uit = dot_product(x, self.W)\n",
        "\n",
        "        if self.bias:\n",
        "            uit += self.b\n",
        "\n",
        "        uit = K.tanh(uit)\n",
        "        ait = dot_product(uit, self.u)\n",
        "\n",
        "        a = K.exp(ait)\n",
        "\n",
        "        # apply mask after the exp. will be re-normalized next\n",
        "        if mask is not None:\n",
        "            # Cast the mask to floatX to avoid float64 upcasting in theano\n",
        "            a *= K.cast(mask, K.floatx())\n",
        "\n",
        "        # in some cases especially in the early stages of training the sum may be almost zero\n",
        "        # and this results in NaN's. A workaround is to add a very small positive number ε to the sum.\n",
        "        # a /= K.cast(K.sum(a, axis=1, keepdims=True), K.floatx())\n",
        "        a /= K.cast(K.sum(a, axis=1, keepdims=True) + K.epsilon(), K.floatx())\n",
        "\n",
        "        a = K.expand_dims(a)\n",
        "        weighted_input = x * a\n",
        "        return K.sum(weighted_input, axis=1)\n",
        "\n",
        "    def compute_output_shape(self, input_shape):\n",
        "        return input_shape[0], input_shape[-1]\n",
        "        "
      ],
      "execution_count": 4,
      "outputs": []
    },
    {
      "cell_type": "code",
      "metadata": {
        "id": "0-IvAiQBxPFG",
        "colab_type": "code",
        "colab": {}
      },
      "source": [
        "from sklearn.utils import shuffle"
      ],
      "execution_count": 5,
      "outputs": []
    },
    {
      "cell_type": "code",
      "metadata": {
        "id": "q_zIe_7mqw1z",
        "colab_type": "code",
        "colab": {
          "base_uri": "https://localhost:8080/",
          "height": 122
        },
        "outputId": "06adde66-a780-4119-c151-f8a96934da71"
      },
      "source": [
        "from google.colab import drive\n",
        "drive.mount('/content/drive')"
      ],
      "execution_count": 6,
      "outputs": [
        {
          "output_type": "stream",
          "text": [
            "Go to this URL in a browser: https://accounts.google.com/o/oauth2/auth?client_id=947318989803-6bn6qk8qdgf4n4g3pfee6491hc0brc4i.apps.googleusercontent.com&redirect_uri=urn%3aietf%3awg%3aoauth%3a2.0%3aoob&response_type=code&scope=email%20https%3a%2f%2fwww.googleapis.com%2fauth%2fdocs.test%20https%3a%2f%2fwww.googleapis.com%2fauth%2fdrive%20https%3a%2f%2fwww.googleapis.com%2fauth%2fdrive.photos.readonly%20https%3a%2f%2fwww.googleapis.com%2fauth%2fpeopleapi.readonly\n",
            "\n",
            "Enter your authorization code:\n",
            "··········\n",
            "Mounted at /content/drive\n"
          ],
          "name": "stdout"
        }
      ]
    },
    {
      "cell_type": "markdown",
      "metadata": {
        "id": "vTQytHgGakY5",
        "colab_type": "text"
      },
      "source": [
        ""
      ]
    },
    {
      "cell_type": "code",
      "metadata": {
        "id": "1TLtyl1dq6u5",
        "colab_type": "code",
        "colab": {
          "base_uri": "https://localhost:8080/",
          "height": 51
        },
        "outputId": "5e2779d6-6ed4-44fa-f609-6756c0579798"
      },
      "source": [
        "%cd /content/drive\n",
        "!ls\n"
      ],
      "execution_count": 7,
      "outputs": [
        {
          "output_type": "stream",
          "text": [
            "/content/drive\n",
            "'My Drive'\n"
          ],
          "name": "stdout"
        }
      ]
    },
    {
      "cell_type": "code",
      "metadata": {
        "id": "ccHo_O2RrEpQ",
        "colab_type": "code",
        "colab": {}
      },
      "source": [
        "import pandas as pd"
      ],
      "execution_count": 8,
      "outputs": []
    },
    {
      "cell_type": "code",
      "metadata": {
        "id": "LHbJb5ayw_YG",
        "colab_type": "code",
        "colab": {}
      },
      "source": [
        "max_features=200000\n",
        "max_senten_len=246\n",
        "max_senten_num=100\n",
        "embed_size=300 # I changed this from 100 to 300\n",
        "VALIDATION_SPLIT = 0.3"
      ],
      "execution_count": 9,
      "outputs": []
    },
    {
      "cell_type": "markdown",
      "metadata": {
        "id": "DCeYOAgGs7If",
        "colab_type": "text"
      },
      "source": [
        "Let's read in the csv file created from the spider crawl. Make sure encoding is utf-8 and we are dropping rows with no observations. "
      ]
    },
    {
      "cell_type": "code",
      "metadata": {
        "id": "7-h4VGEX19RD",
        "colab_type": "code",
        "colab": {}
      },
      "source": [
        "#df = pd.read_csv('My Drive/Projects/InSightCrime/Insight_Crime/scrape/insight/InsightCrime_News.csv', ).dropna()\n",
        "df = pd.read_csv('My Drive/Projects/InSightCrime/Insight_Crime/scrape/insight/InsightCrime_News.csv', encoding='utf-8').dropna()\n"
      ],
      "execution_count": 10,
      "outputs": []
    },
    {
      "cell_type": "markdown",
      "metadata": {
        "id": "UtL_x6I_yxin",
        "colab_type": "text"
      },
      "source": [
        "\n",
        "Review the number of \"unique\" tags per article. some tags could still be repeated because of their list-like nature."
      ]
    },
    {
      "cell_type": "code",
      "metadata": {
        "id": "udUtYQ_PxmGJ",
        "colab_type": "code",
        "colab": {
          "base_uri": "https://localhost:8080/",
          "height": 34
        },
        "outputId": "9cabac36-7544-4b47-f6f4-558ac6789b55"
      },
      "source": [
        "len(df.tags.unique())"
      ],
      "execution_count": 11,
      "outputs": [
        {
          "output_type": "execute_result",
          "data": {
            "text/plain": [
              "5365"
            ]
          },
          "metadata": {
            "tags": []
          },
          "execution_count": 11
        }
      ]
    },
    {
      "cell_type": "code",
      "metadata": {
        "id": "pAflUXFExwRM",
        "colab_type": "code",
        "colab": {
          "base_uri": "https://localhost:8080/",
          "height": 289
        },
        "outputId": "ecb45040-9bb2-4d34-a694-06e660c59810"
      },
      "source": [
        "df.head()"
      ],
      "execution_count": 12,
      "outputs": [
        {
          "output_type": "execute_result",
          "data": {
            "text/html": [
              "<div>\n",
              "<style scoped>\n",
              "    .dataframe tbody tr th:only-of-type {\n",
              "        vertical-align: middle;\n",
              "    }\n",
              "\n",
              "    .dataframe tbody tr th {\n",
              "        vertical-align: top;\n",
              "    }\n",
              "\n",
              "    .dataframe thead th {\n",
              "        text-align: right;\n",
              "    }\n",
              "</style>\n",
              "<table border=\"1\" class=\"dataframe\">\n",
              "  <thead>\n",
              "    <tr style=\"text-align: right;\">\n",
              "      <th></th>\n",
              "      <th>author</th>\n",
              "      <th>content</th>\n",
              "      <th>date</th>\n",
              "      <th>tags</th>\n",
              "      <th>title</th>\n",
              "      <th>type</th>\n",
              "      <th>url</th>\n",
              "    </tr>\n",
              "  </thead>\n",
              "  <tbody>\n",
              "    <tr>\n",
              "      <th>0</th>\n",
              "      <td>Max Radwin</td>\n",
              "      <td>Protests broke out in Bolivia last year in the...</td>\n",
              "      <td>2020-03-09</td>\n",
              "      <td>Bolivia,Cocaine,Elites and Organized Crime,Inf...</td>\n",
              "      <td>Bolivia Investigations Target Members of Evo M...</td>\n",
              "      <td>Analysis</td>\n",
              "      <td>https://www.insightcrime.org/news/analysis/bol...</td>\n",
              "    </tr>\n",
              "    <tr>\n",
              "      <th>1</th>\n",
              "      <td>Chris Dalby</td>\n",
              "      <td>Increased security of containers entering the ...</td>\n",
              "      <td>2020-02-27</td>\n",
              "      <td>Brazil,Cocaine,European Organized Crime,Securi...</td>\n",
              "      <td>Can Port of Antwerp Truly Stem Cocaine Enterin...</td>\n",
              "      <td>Analysis</td>\n",
              "      <td>https://www.insightcrime.org/news/analysis/por...</td>\n",
              "    </tr>\n",
              "    <tr>\n",
              "      <th>2</th>\n",
              "      <td>Chris Dalby and Charlotte Dierkes</td>\n",
              "      <td>The sight of children bearing arms in Guerrero...</td>\n",
              "      <td>2020-02-17</td>\n",
              "      <td>Homicides,Mexico</td>\n",
              "      <td>Los Ardillos Continue Terrorizing Indigenous C...</td>\n",
              "      <td>Analysis</td>\n",
              "      <td>https://www.insightcrime.org/news/analysis/los...</td>\n",
              "    </tr>\n",
              "    <tr>\n",
              "      <th>3</th>\n",
              "      <td>Maria Fernanda Ramírez</td>\n",
              "      <td>Helena is one of the many former FARC members ...</td>\n",
              "      <td>2020-02-04</td>\n",
              "      <td>Colombia,FARC,FARC peace,Gender and Organized ...</td>\n",
              "      <td>Former FARC Guerrillas Recognized as Victims o...</td>\n",
              "      <td>Brief</td>\n",
              "      <td>https://www.insightcrime.org/news/brief/colomb...</td>\n",
              "    </tr>\n",
              "    <tr>\n",
              "      <th>4</th>\n",
              "      <td>Maria Alejandra Navarrete</td>\n",
              "      <td>Luis Del Río Jiménez, alias “el Tío,” or “Seño...</td>\n",
              "      <td>2020-01-21</td>\n",
              "      <td>Colombia,Elites and Organized Crime</td>\n",
              "      <td>Was ‘Señor T’ One of Colombia’s Invisible Drug...</td>\n",
              "      <td>Analysis</td>\n",
              "      <td>https://www.insightcrime.org/news/analysis/sen...</td>\n",
              "    </tr>\n",
              "  </tbody>\n",
              "</table>\n",
              "</div>"
            ],
            "text/plain": [
              "                              author  ...                                                url\n",
              "0                         Max Radwin  ...  https://www.insightcrime.org/news/analysis/bol...\n",
              "1                        Chris Dalby  ...  https://www.insightcrime.org/news/analysis/por...\n",
              "2  Chris Dalby and Charlotte Dierkes  ...  https://www.insightcrime.org/news/analysis/los...\n",
              "3             Maria Fernanda Ramírez  ...  https://www.insightcrime.org/news/brief/colomb...\n",
              "4          Maria Alejandra Navarrete  ...  https://www.insightcrime.org/news/analysis/sen...\n",
              "\n",
              "[5 rows x 7 columns]"
            ]
          },
          "metadata": {
            "tags": []
          },
          "execution_count": 12
        }
      ]
    },
    {
      "cell_type": "code",
      "metadata": {
        "id": "3s3LDnyk0lNu",
        "colab_type": "code",
        "colab": {
          "base_uri": "https://localhost:8080/",
          "height": 442
        },
        "outputId": "6cf92511-795b-45c9-8686-b5f41bc79d80"
      },
      "source": [
        "df['text'] = df['title'] +'. ' +df['content']\n",
        "df.head()"
      ],
      "execution_count": 13,
      "outputs": [
        {
          "output_type": "execute_result",
          "data": {
            "text/html": [
              "<div>\n",
              "<style scoped>\n",
              "    .dataframe tbody tr th:only-of-type {\n",
              "        vertical-align: middle;\n",
              "    }\n",
              "\n",
              "    .dataframe tbody tr th {\n",
              "        vertical-align: top;\n",
              "    }\n",
              "\n",
              "    .dataframe thead th {\n",
              "        text-align: right;\n",
              "    }\n",
              "</style>\n",
              "<table border=\"1\" class=\"dataframe\">\n",
              "  <thead>\n",
              "    <tr style=\"text-align: right;\">\n",
              "      <th></th>\n",
              "      <th>author</th>\n",
              "      <th>content</th>\n",
              "      <th>date</th>\n",
              "      <th>tags</th>\n",
              "      <th>title</th>\n",
              "      <th>type</th>\n",
              "      <th>url</th>\n",
              "      <th>text</th>\n",
              "    </tr>\n",
              "  </thead>\n",
              "  <tbody>\n",
              "    <tr>\n",
              "      <th>0</th>\n",
              "      <td>Max Radwin</td>\n",
              "      <td>Protests broke out in Bolivia last year in the...</td>\n",
              "      <td>2020-03-09</td>\n",
              "      <td>Bolivia,Cocaine,Elites and Organized Crime,Inf...</td>\n",
              "      <td>Bolivia Investigations Target Members of Evo M...</td>\n",
              "      <td>Analysis</td>\n",
              "      <td>https://www.insightcrime.org/news/analysis/bol...</td>\n",
              "      <td>Bolivia Investigations Target Members of Evo M...</td>\n",
              "    </tr>\n",
              "    <tr>\n",
              "      <th>1</th>\n",
              "      <td>Chris Dalby</td>\n",
              "      <td>Increased security of containers entering the ...</td>\n",
              "      <td>2020-02-27</td>\n",
              "      <td>Brazil,Cocaine,European Organized Crime,Securi...</td>\n",
              "      <td>Can Port of Antwerp Truly Stem Cocaine Enterin...</td>\n",
              "      <td>Analysis</td>\n",
              "      <td>https://www.insightcrime.org/news/analysis/por...</td>\n",
              "      <td>Can Port of Antwerp Truly Stem Cocaine Enterin...</td>\n",
              "    </tr>\n",
              "    <tr>\n",
              "      <th>2</th>\n",
              "      <td>Chris Dalby and Charlotte Dierkes</td>\n",
              "      <td>The sight of children bearing arms in Guerrero...</td>\n",
              "      <td>2020-02-17</td>\n",
              "      <td>Homicides,Mexico</td>\n",
              "      <td>Los Ardillos Continue Terrorizing Indigenous C...</td>\n",
              "      <td>Analysis</td>\n",
              "      <td>https://www.insightcrime.org/news/analysis/los...</td>\n",
              "      <td>Los Ardillos Continue Terrorizing Indigenous C...</td>\n",
              "    </tr>\n",
              "    <tr>\n",
              "      <th>3</th>\n",
              "      <td>Maria Fernanda Ramírez</td>\n",
              "      <td>Helena is one of the many former FARC members ...</td>\n",
              "      <td>2020-02-04</td>\n",
              "      <td>Colombia,FARC,FARC peace,Gender and Organized ...</td>\n",
              "      <td>Former FARC Guerrillas Recognized as Victims o...</td>\n",
              "      <td>Brief</td>\n",
              "      <td>https://www.insightcrime.org/news/brief/colomb...</td>\n",
              "      <td>Former FARC Guerrillas Recognized as Victims o...</td>\n",
              "    </tr>\n",
              "    <tr>\n",
              "      <th>4</th>\n",
              "      <td>Maria Alejandra Navarrete</td>\n",
              "      <td>Luis Del Río Jiménez, alias “el Tío,” or “Seño...</td>\n",
              "      <td>2020-01-21</td>\n",
              "      <td>Colombia,Elites and Organized Crime</td>\n",
              "      <td>Was ‘Señor T’ One of Colombia’s Invisible Drug...</td>\n",
              "      <td>Analysis</td>\n",
              "      <td>https://www.insightcrime.org/news/analysis/sen...</td>\n",
              "      <td>Was ‘Señor T’ One of Colombia’s Invisible Drug...</td>\n",
              "    </tr>\n",
              "  </tbody>\n",
              "</table>\n",
              "</div>"
            ],
            "text/plain": [
              "                              author  ...                                               text\n",
              "0                         Max Radwin  ...  Bolivia Investigations Target Members of Evo M...\n",
              "1                        Chris Dalby  ...  Can Port of Antwerp Truly Stem Cocaine Enterin...\n",
              "2  Chris Dalby and Charlotte Dierkes  ...  Los Ardillos Continue Terrorizing Indigenous C...\n",
              "3             Maria Fernanda Ramírez  ...  Former FARC Guerrillas Recognized as Victims o...\n",
              "4          Maria Alejandra Navarrete  ...  Was ‘Señor T’ One of Colombia’s Invisible Drug...\n",
              "\n",
              "[5 rows x 8 columns]"
            ]
          },
          "metadata": {
            "tags": []
          },
          "execution_count": 13
        }
      ]
    },
    {
      "cell_type": "markdown",
      "metadata": {
        "id": "5rc1h3lYycI6",
        "colab_type": "text"
      },
      "source": [
        "Check for reduncancies and replace them.\n",
        "\n",
        "The accents are not counted as redundant here"
      ]
    },
    {
      "cell_type": "code",
      "metadata": {
        "id": "zSC6lffNx0TN",
        "colab_type": "code",
        "colab": {
          "base_uri": "https://localhost:8080/",
          "height": 119
        },
        "outputId": "2f16af00-810a-4cd0-9315-ac6a2c54f4da"
      },
      "source": [
        "df.tags.unique()"
      ],
      "execution_count": 14,
      "outputs": [
        {
          "output_type": "execute_result",
          "data": {
            "text/plain": [
              "array(['Bolivia,Cocaine,Elites and Organized Crime,Infographics',\n",
              "       'Brazil,Cocaine,European Organized Crime,Security Policy,Suriname',\n",
              "       'Homicides,Mexico', ...,\n",
              "       'Colombia,Oficina de Envigado,Sebastián (oficina)',\n",
              "       'Cartel de Juárez,Cartel de Sinaloa,El Chapo,Homicidios,México',\n",
              "       'Costa Rica,Lavado de dinero,Nicaragua'], dtype=object)"
            ]
          },
          "metadata": {
            "tags": []
          },
          "execution_count": 14
        }
      ]
    },
    {
      "cell_type": "code",
      "metadata": {
        "id": "JdDh44ICx91T",
        "colab_type": "code",
        "colab": {}
      },
      "source": [
        "df.tags = df.tags.map(lambda x: \"Juarez\" if x == \"Juárez\" else x)\n",
        "df.tags = df.tags.map(lambda x: \"Elites and Organized Crime\" if x == \"Élites y Crimen Organizado\" else x)\n",
        "df.tags = df.tags.map(lambda x: \"Mexico\" if x == \"México\" else x)\n",
        "df.tags = df.tags.map(lambda x: \"Brazil\" if x == \"Brasil\" else x)\n",
        "df.tags = df.tags.map(lambda x: \"Human Rights\" if x == \"Derechos Humanos\" else x)\n",
        "df.tags = df.tags.map(lambda x: \"Peru\" if x == \"Perú\" else x)\n",
        "df.tags = df.tags.map(lambda x: \"Sinaloa Cartel\" if x == \"Cartel de Sinaloa\" else x)\n",
        "df.tags = df.tags.map(lambda x: \"FARC peace\" if x == \"Paz FARC\" else x)"
      ],
      "execution_count": 15,
      "outputs": []
    },
    {
      "cell_type": "code",
      "metadata": {
        "id": "RPki0CGN5OQH",
        "colab_type": "code",
        "colab": {
          "base_uri": "https://localhost:8080/",
          "height": 34
        },
        "outputId": "17397832-aa44-452b-c586-d80324cd17be"
      },
      "source": [
        "len(df.tags.unique())"
      ],
      "execution_count": 16,
      "outputs": [
        {
          "output_type": "execute_result",
          "data": {
            "text/plain": [
              "5361"
            ]
          },
          "metadata": {
            "tags": []
          },
          "execution_count": 16
        }
      ]
    },
    {
      "cell_type": "code",
      "metadata": {
        "id": "O1idu1NEzq52",
        "colab_type": "code",
        "colab": {}
      },
      "source": [
        "df['cats'] = df.tags.str.split(\",\", expand=False)"
      ],
      "execution_count": 17,
      "outputs": []
    },
    {
      "cell_type": "code",
      "metadata": {
        "id": "0JFeADzj0hM4",
        "colab_type": "code",
        "colab": {
          "base_uri": "https://localhost:8080/",
          "height": 34
        },
        "outputId": "b56ceae6-a71f-4ad9-809c-bf9df11544eb"
      },
      "source": [
        "df.cats[0]\n",
        "#len(df.cats)"
      ],
      "execution_count": 18,
      "outputs": [
        {
          "output_type": "execute_result",
          "data": {
            "text/plain": [
              "['Bolivia', 'Cocaine', 'Elites and Organized Crime', 'Infographics']"
            ]
          },
          "metadata": {
            "tags": []
          },
          "execution_count": 18
        }
      ]
    },
    {
      "cell_type": "code",
      "metadata": {
        "id": "s7Ra0QN93WTt",
        "colab_type": "code",
        "colab": {}
      },
      "source": [
        "df.cats = df.cats.map(lambda x: \"Elites and Organized Crime\" if x == \"Élites y Crimen Organizado\" else x)\n",
        "df.cats = df.cats.map(lambda x: \"Mexico\" if x == \"México\" else x)\n",
        "df.cats = df.cats.map(lambda x: \"Brazil\" if x == \"Brasil\" else x)\n",
        "df.cats = df.cats.map(lambda x: \"Human Rights\" if x == \"Derechos Humanos\" else x)\n",
        "df.cats = df.cats.map(lambda x: \"Peru\" if x == \"Perú\" else x)\n",
        "df.cats = df.cats.map(lambda x: \"Sinaloa Cartel\" if x == \"Cartel de Sinaloa\" else x)\n",
        "df.cats = df.cats.map(lambda x: \"FARC peace\" if x == \"Paz FARC\" else x)"
      ],
      "execution_count": 19,
      "outputs": []
    },
    {
      "cell_type": "code",
      "metadata": {
        "id": "ePeHqjZzuvrj",
        "colab_type": "code",
        "colab": {
          "base_uri": "https://localhost:8080/",
          "height": 357
        },
        "outputId": "6ec237eb-6a3b-420e-db67-4838c79527bb"
      },
      "source": [
        "df.tail()"
      ],
      "execution_count": 20,
      "outputs": [
        {
          "output_type": "execute_result",
          "data": {
            "text/html": [
              "<div>\n",
              "<style scoped>\n",
              "    .dataframe tbody tr th:only-of-type {\n",
              "        vertical-align: middle;\n",
              "    }\n",
              "\n",
              "    .dataframe tbody tr th {\n",
              "        vertical-align: top;\n",
              "    }\n",
              "\n",
              "    .dataframe thead th {\n",
              "        text-align: right;\n",
              "    }\n",
              "</style>\n",
              "<table border=\"1\" class=\"dataframe\">\n",
              "  <thead>\n",
              "    <tr style=\"text-align: right;\">\n",
              "      <th></th>\n",
              "      <th>author</th>\n",
              "      <th>content</th>\n",
              "      <th>date</th>\n",
              "      <th>tags</th>\n",
              "      <th>title</th>\n",
              "      <th>type</th>\n",
              "      <th>url</th>\n",
              "      <th>text</th>\n",
              "      <th>cats</th>\n",
              "    </tr>\n",
              "  </thead>\n",
              "  <tbody>\n",
              "    <tr>\n",
              "      <th>15764</th>\n",
              "      <td>Elyssa Pachico</td>\n",
              "      <td>SHARE\\nLa captura de Daniel “El Loco” Barrera ...</td>\n",
              "      <td>2012-09-19</td>\n",
              "      <td>El Loco Barrera,Venezuela</td>\n",
              "      <td>El arresto del ‘Loco Barrera’ muestra a Venezu...</td>\n",
              "      <td>Análisis</td>\n",
              "      <td>https://es.insightcrime.org/noticias/analisis/...</td>\n",
              "      <td>El arresto del ‘Loco Barrera’ muestra a Venezu...</td>\n",
              "      <td>[El Loco Barrera, Venezuela]</td>\n",
              "    </tr>\n",
              "    <tr>\n",
              "      <th>15765</th>\n",
              "      <td>Daniela Castro</td>\n",
              "      <td>SHARE\\nEl informe\\nelaborado por el inspector ...</td>\n",
              "      <td>2012-09-20</td>\n",
              "      <td>Frontera EU/México,Tráfico de armas</td>\n",
              "      <td>Veredicto sobre la Operación ‘Rápido y Furioso’</td>\n",
              "      <td>Noticias del día</td>\n",
              "      <td>https://es.insightcrime.org/noticias/noticias-...</td>\n",
              "      <td>Veredicto sobre la Operación ‘Rápido y Furioso...</td>\n",
              "      <td>[Frontera EU/México, Tráfico de armas]</td>\n",
              "    </tr>\n",
              "    <tr>\n",
              "      <th>15766</th>\n",
              "      <td>Daniela Castro</td>\n",
              "      <td>SHARE\\nFalsos periodistas de la cadena Televis...</td>\n",
              "      <td>2012-09-20</td>\n",
              "      <td>Costa Rica,Lavado de dinero,Nicaragua</td>\n",
              "      <td>Falsos Periodistas Acusados por los Delitos de...</td>\n",
              "      <td>Noticias del día</td>\n",
              "      <td>https://es.insightcrime.org/noticias/noticias-...</td>\n",
              "      <td>Falsos Periodistas Acusados por los Delitos de...</td>\n",
              "      <td>[Costa Rica, Lavado de dinero, Nicaragua]</td>\n",
              "    </tr>\n",
              "    <tr>\n",
              "      <th>15767</th>\n",
              "      <td>Andres Ortiz</td>\n",
              "      <td>SHARE\\nEn lo corrido del año, la Secretaría de...</td>\n",
              "      <td>2012-09-21</td>\n",
              "      <td>Mexico</td>\n",
              "      <td>Aproximadamente 8.000 Detenidos por Narcotráfi...</td>\n",
              "      <td>Noticias del día</td>\n",
              "      <td>https://es.insightcrime.org/noticias/noticias-...</td>\n",
              "      <td>Aproximadamente 8.000 Detenidos por Narcotráfi...</td>\n",
              "      <td>[Mexico]</td>\n",
              "    </tr>\n",
              "    <tr>\n",
              "      <th>15768</th>\n",
              "      <td>Andres Ortiz</td>\n",
              "      <td>SHARE\\nLuego de retirarse del país en 1994 por...</td>\n",
              "      <td>2012-09-21</td>\n",
              "      <td>Uruguay</td>\n",
              "      <td>La DEA Vuelve a Pisar Uruguay</td>\n",
              "      <td>Noticias del día</td>\n",
              "      <td>https://es.insightcrime.org/noticias/noticias-...</td>\n",
              "      <td>La DEA Vuelve a Pisar Uruguay. SHARE\\nLuego de...</td>\n",
              "      <td>[Uruguay]</td>\n",
              "    </tr>\n",
              "  </tbody>\n",
              "</table>\n",
              "</div>"
            ],
            "text/plain": [
              "               author  ...                                       cats\n",
              "15764  Elyssa Pachico  ...               [El Loco Barrera, Venezuela]\n",
              "15765  Daniela Castro  ...     [Frontera EU/México, Tráfico de armas]\n",
              "15766  Daniela Castro  ...  [Costa Rica, Lavado de dinero, Nicaragua]\n",
              "15767    Andres Ortiz  ...                                   [Mexico]\n",
              "15768    Andres Ortiz  ...                                  [Uruguay]\n",
              "\n",
              "[5 rows x 9 columns]"
            ]
          },
          "metadata": {
            "tags": []
          },
          "execution_count": 20
        }
      ]
    },
    {
      "cell_type": "code",
      "metadata": {
        "id": "CcAHR66V1JhL",
        "colab_type": "code",
        "colab": {}
      },
      "source": [
        "df = df[['title', 'text', 'cats','tags','content']]"
      ],
      "execution_count": 21,
      "outputs": []
    },
    {
      "cell_type": "code",
      "metadata": {
        "id": "etUV8MhO1UYO",
        "colab_type": "code",
        "colab": {
          "base_uri": "https://localhost:8080/",
          "height": 221
        },
        "outputId": "2311cdae-9c82-437f-aa61-d7a2c2433916"
      },
      "source": [
        "df.info()"
      ],
      "execution_count": 22,
      "outputs": [
        {
          "output_type": "stream",
          "text": [
            "<class 'pandas.core.frame.DataFrame'>\n",
            "Int64Index: 15655 entries, 0 to 15768\n",
            "Data columns (total 5 columns):\n",
            " #   Column   Non-Null Count  Dtype \n",
            "---  ------   --------------  ----- \n",
            " 0   title    15655 non-null  object\n",
            " 1   text     15655 non-null  object\n",
            " 2   cats     15655 non-null  object\n",
            " 3   tags     15655 non-null  object\n",
            " 4   content  15655 non-null  object\n",
            "dtypes: object(5)\n",
            "memory usage: 1.3+ MB\n"
          ],
          "name": "stdout"
        }
      ]
    },
    {
      "cell_type": "markdown",
      "metadata": {
        "id": "Kii9KbrvceWG",
        "colab_type": "text"
      },
      "source": [
        "##Genres"
      ]
    },
    {
      "cell_type": "markdown",
      "metadata": {
        "id": "nqqLIFNYIfNh",
        "colab_type": "text"
      },
      "source": [
        "I'm going to edit out the genres tab because it only has 253 rows when we need 15655. I though this would help with binarization but it does not."
      ]
    },
    {
      "cell_type": "code",
      "metadata": {
        "id": "0zMa8_4qVSb9",
        "colab_type": "code",
        "colab": {}
      },
      "source": [
        "# select a column as series and then convert it into a column\n",
        "list_of_names = df.cats.to_list()\n",
        "#list_of_names"
      ],
      "execution_count": 23,
      "outputs": []
    },
    {
      "cell_type": "code",
      "metadata": {
        "id": "qVIM0pWR5KZA",
        "colab_type": "code",
        "colab": {
          "base_uri": "https://localhost:8080/",
          "height": 34
        },
        "outputId": "52a1c62a-4ae4-41b8-d2d0-55f8414be4d8"
      },
      "source": [
        "all_genres = sum(list_of_names, [])\n",
        "len(set(all_genres))"
      ],
      "execution_count": 24,
      "outputs": [
        {
          "output_type": "execute_result",
          "data": {
            "text/plain": [
              "253"
            ]
          },
          "metadata": {
            "tags": []
          },
          "execution_count": 24
        }
      ]
    },
    {
      "cell_type": "code",
      "metadata": {
        "id": "mi_IWr0hoOsK",
        "colab_type": "code",
        "colab": {
          "base_uri": "https://localhost:8080/",
          "height": 255
        },
        "outputId": "f07d8455-1a39-4319-f4d1-d3a5d927638b"
      },
      "source": [
        "all_genres = nltk.FreqDist(all_genres) \n",
        "\n",
        "# create dataframe\n",
        "all_genres_df = pd.DataFrame({'Genre': list(all_genres.keys()), \n",
        "                              'Count': list(all_genres.values())})\n",
        "\n",
        "all_genres_df.head"
      ],
      "execution_count": 25,
      "outputs": [
        {
          "output_type": "execute_result",
          "data": {
            "text/plain": [
              "<bound method NDFrame.head of                           Genre  Count\n",
              "0                       Bolivia    541\n",
              "1                       Cocaine    141\n",
              "2    Elites and Organized Crime    792\n",
              "3                  Infographics    368\n",
              "4                        Brazil    696\n",
              "..                          ...    ...\n",
              "248         Cartel los Perrones     12\n",
              "249             Cartel de Texis     43\n",
              "250             Víctor Carranza      8\n",
              "251             Pijarbey Farfan      4\n",
              "252         Sebastián (oficina)      1\n",
              "\n",
              "[253 rows x 2 columns]>"
            ]
          },
          "metadata": {
            "tags": []
          },
          "execution_count": 25
        }
      ]
    },
    {
      "cell_type": "markdown",
      "metadata": {
        "id": "Qno14Af_G1MN",
        "colab_type": "text"
      },
      "source": [
        "Figure out how to merge genres into the dataframe"
      ]
    },
    {
      "cell_type": "code",
      "metadata": {
        "id": "6Xk8KAqcvwvn",
        "colab_type": "code",
        "colab": {
          "base_uri": "https://localhost:8080/",
          "height": 71
        },
        "outputId": "4f79edb6-ce86-42b4-ee63-3f0300ee077f"
      },
      "source": [
        "df.genres = all_genres_df['Genre']"
      ],
      "execution_count": 26,
      "outputs": [
        {
          "output_type": "stream",
          "text": [
            "/usr/local/lib/python3.6/dist-packages/ipykernel_launcher.py:1: UserWarning: Pandas doesn't allow columns to be created via a new attribute name - see https://pandas.pydata.org/pandas-docs/stable/indexing.html#attribute-access\n",
            "  \"\"\"Entry point for launching an IPython kernel.\n"
          ],
          "name": "stderr"
        }
      ]
    },
    {
      "cell_type": "markdown",
      "metadata": {
        "id": "9HjfCBiog7Uf",
        "colab_type": "text"
      },
      "source": [
        "Here is the genres error, the All_genres_df is being assigned to df[genres] but they are not the same length nor in the same order. So 1 through 253 are being assigned to that index position in df but it's not correct."
      ]
    },
    {
      "cell_type": "code",
      "metadata": {
        "id": "-jVH3vi4HiEW",
        "colab_type": "code",
        "colab": {}
      },
      "source": [
        "# df.genres = df.genres.map(lambda x: \"Elites and Organized Crime\" if x == \"Élites y Crimen Organizado\" else x)\n",
        "# df.genres = df.genres.map(lambda x: \"Mexico\" if x == \"México\" else x)\n",
        "# df.genres = df.genres.map(lambda x: \"Brazil\" if x == \"Brasil\" else x)\n",
        "# df.genres = df.genres.map(lambda x: \"Human Rights\" if x == \"Derechos Humanos\" else x)\n",
        "# df.genres = df.genres.map(lambda x: \"Peru\" if x == \"Perú\" else x)\n",
        "# df.genres = df.genres.map(lambda x: \"Sinaloa Cartel\" if x == \"Cartel de Sinaloa\" else x)\n",
        "# df.genres = df.genres.map(lambda x: \"FARC peace\" if x == \"Paz FARC\" else x)"
      ],
      "execution_count": 27,
      "outputs": []
    },
    {
      "cell_type": "code",
      "metadata": {
        "id": "OSoqERP-IGT2",
        "colab_type": "code",
        "colab": {}
      },
      "source": [
        "# all_genres_df.Genre = all_genres_df.Genre.map(lambda x: \"Elites and Organized Crime\" if x == \"Élites y Crimen Organizado\" else x)\n",
        "# all_genres_df.Genre = all_genres_df.Genre.map(lambda x: \"Mexico\" if x == \"México\" else x)\n",
        "# all_genres_df.Genre = all_genres_df.Genre.map(lambda x: \"Brazil\" if x == \"Brasil\" else x)\n",
        "# all_genres_df.Genre = all_genres_df.Genre.map(lambda x: \"Human Rights\" if x == \"Derechos Humanos\" else x)\n",
        "# all_genres_df.Genre = all_genres_df.Genre.map(lambda x: \"Peru\" if x == \"Perú\" else x)\n",
        "# all_genres_df.Genre = all_genres_df.Genre.map(lambda x: \"Sinaloa Cartel\" if x == \"Cartel de Sinaloa\" else x)\n",
        "# all_genres_df.Genre = all_genres_df.Genre.map(lambda x: \"FARC peace\" if x == \"Paz FARC\" else x)"
      ],
      "execution_count": 28,
      "outputs": []
    },
    {
      "cell_type": "code",
      "metadata": {
        "id": "PwjXumi2HsQg",
        "colab_type": "code",
        "colab": {}
      },
      "source": [
        "#len(df.tags.unique())\n",
        "# len(all_genres_df.Genre.unique())"
      ],
      "execution_count": 29,
      "outputs": []
    },
    {
      "cell_type": "code",
      "metadata": {
        "id": "SnNkj9Zm3QYF",
        "colab_type": "code",
        "colab": {}
      },
      "source": [
        "# g = all_genres_df.nlargest(columns=\"Count\", n = 100) \n",
        "# plt.figure(figsize=(12,15)) \n",
        "# ax = sns.barplot(data=g, x= \"Count\", y = \"Genre\") \n",
        "# ax.set(ylabel = 'Count') \n",
        "# plt.show()"
      ],
      "execution_count": 30,
      "outputs": []
    },
    {
      "cell_type": "markdown",
      "metadata": {
        "id": "igfqWF6OcoH-",
        "colab_type": "text"
      },
      "source": [
        "##Cleaning Text"
      ]
    },
    {
      "cell_type": "markdown",
      "metadata": {
        "id": "DMiKayqWIsCH",
        "colab_type": "text"
      },
      "source": [
        "We can start to clean the text"
      ]
    },
    {
      "cell_type": "code",
      "metadata": {
        "id": "6Kn4wJ5r6bOz",
        "colab_type": "code",
        "colab": {}
      },
      "source": [
        "def clean_text(text):\n",
        "    text = re.sub(r'[?|!|\\'|\"|#]',r'',text)\n",
        "    text = re.sub(r'[.|,|)|(|\\|/]',r' ',text)\n",
        "    text = text.strip()\n",
        "    text = text.replace(\"\\n\",\" \")\n",
        "    # remove backslash-apostrophe \n",
        "    text = re.sub(\"\\'\", \"\", text) \n",
        "    # remove everything except alphabets \n",
        "    #text = re.sub(\"[^a-zA-Z]\",\" \",text) \n",
        "    # remove whitespaces \n",
        "    text = ' '.join(text.split()) \n",
        "    # convert text to lowercase \n",
        "    text = text.lower() \n",
        "    \n",
        "    return text"
      ],
      "execution_count": 31,
      "outputs": []
    },
    {
      "cell_type": "code",
      "metadata": {
        "id": "VZ5sxrNb6uCz",
        "colab_type": "code",
        "colab": {}
      },
      "source": [
        "df['clean_text'] = df['text'].apply(lambda x: clean_text(x))\n"
      ],
      "execution_count": 32,
      "outputs": []
    },
    {
      "cell_type": "code",
      "metadata": {
        "id": "ItvWIuA88Xw7",
        "colab_type": "code",
        "colab": {
          "base_uri": "https://localhost:8080/",
          "height": 289
        },
        "outputId": "afa1feb9-3ce3-4be0-8c03-34c2dff3e481"
      },
      "source": [
        "df.head()"
      ],
      "execution_count": 33,
      "outputs": [
        {
          "output_type": "execute_result",
          "data": {
            "text/html": [
              "<div>\n",
              "<style scoped>\n",
              "    .dataframe tbody tr th:only-of-type {\n",
              "        vertical-align: middle;\n",
              "    }\n",
              "\n",
              "    .dataframe tbody tr th {\n",
              "        vertical-align: top;\n",
              "    }\n",
              "\n",
              "    .dataframe thead th {\n",
              "        text-align: right;\n",
              "    }\n",
              "</style>\n",
              "<table border=\"1\" class=\"dataframe\">\n",
              "  <thead>\n",
              "    <tr style=\"text-align: right;\">\n",
              "      <th></th>\n",
              "      <th>title</th>\n",
              "      <th>text</th>\n",
              "      <th>cats</th>\n",
              "      <th>tags</th>\n",
              "      <th>content</th>\n",
              "      <th>clean_text</th>\n",
              "    </tr>\n",
              "  </thead>\n",
              "  <tbody>\n",
              "    <tr>\n",
              "      <th>0</th>\n",
              "      <td>Bolivia Investigations Target Members of Evo M...</td>\n",
              "      <td>Bolivia Investigations Target Members of Evo M...</td>\n",
              "      <td>[Bolivia, Cocaine, Elites and Organized Crime,...</td>\n",
              "      <td>Bolivia,Cocaine,Elites and Organized Crime,Inf...</td>\n",
              "      <td>Protests broke out in Bolivia last year in the...</td>\n",
              "      <td>bolivia investigations target members of evo m...</td>\n",
              "    </tr>\n",
              "    <tr>\n",
              "      <th>1</th>\n",
              "      <td>Can Port of Antwerp Truly Stem Cocaine Enterin...</td>\n",
              "      <td>Can Port of Antwerp Truly Stem Cocaine Enterin...</td>\n",
              "      <td>[Brazil, Cocaine, European Organized Crime, Se...</td>\n",
              "      <td>Brazil,Cocaine,European Organized Crime,Securi...</td>\n",
              "      <td>Increased security of containers entering the ...</td>\n",
              "      <td>can port of antwerp truly stem cocaine enterin...</td>\n",
              "    </tr>\n",
              "    <tr>\n",
              "      <th>2</th>\n",
              "      <td>Los Ardillos Continue Terrorizing Indigenous C...</td>\n",
              "      <td>Los Ardillos Continue Terrorizing Indigenous C...</td>\n",
              "      <td>[Homicides, Mexico]</td>\n",
              "      <td>Homicides,Mexico</td>\n",
              "      <td>The sight of children bearing arms in Guerrero...</td>\n",
              "      <td>los ardillos continue terrorizing indigenous c...</td>\n",
              "    </tr>\n",
              "    <tr>\n",
              "      <th>3</th>\n",
              "      <td>Former FARC Guerrillas Recognized as Victims o...</td>\n",
              "      <td>Former FARC Guerrillas Recognized as Victims o...</td>\n",
              "      <td>[Colombia, FARC, FARC peace, Gender and Organi...</td>\n",
              "      <td>Colombia,FARC,FARC peace,Gender and Organized ...</td>\n",
              "      <td>Helena is one of the many former FARC members ...</td>\n",
              "      <td>former farc guerrillas recognized as victims o...</td>\n",
              "    </tr>\n",
              "    <tr>\n",
              "      <th>4</th>\n",
              "      <td>Was ‘Señor T’ One of Colombia’s Invisible Drug...</td>\n",
              "      <td>Was ‘Señor T’ One of Colombia’s Invisible Drug...</td>\n",
              "      <td>[Colombia, Elites and Organized Crime]</td>\n",
              "      <td>Colombia,Elites and Organized Crime</td>\n",
              "      <td>Luis Del Río Jiménez, alias “el Tío,” or “Seño...</td>\n",
              "      <td>was ‘señor t’ one of colombia’s invisible drug...</td>\n",
              "    </tr>\n",
              "  </tbody>\n",
              "</table>\n",
              "</div>"
            ],
            "text/plain": [
              "                                               title  ...                                         clean_text\n",
              "0  Bolivia Investigations Target Members of Evo M...  ...  bolivia investigations target members of evo m...\n",
              "1  Can Port of Antwerp Truly Stem Cocaine Enterin...  ...  can port of antwerp truly stem cocaine enterin...\n",
              "2  Los Ardillos Continue Terrorizing Indigenous C...  ...  los ardillos continue terrorizing indigenous c...\n",
              "3  Former FARC Guerrillas Recognized as Victims o...  ...  former farc guerrillas recognized as victims o...\n",
              "4  Was ‘Señor T’ One of Colombia’s Invisible Drug...  ...  was ‘señor t’ one of colombia’s invisible drug...\n",
              "\n",
              "[5 rows x 6 columns]"
            ]
          },
          "metadata": {
            "tags": []
          },
          "execution_count": 33
        }
      ]
    },
    {
      "cell_type": "markdown",
      "metadata": {
        "id": "YupZat62Jmfk",
        "colab_type": "text"
      },
      "source": [
        "Now we review stopwords"
      ]
    },
    {
      "cell_type": "code",
      "metadata": {
        "id": "7PwZdw1k8ovG",
        "colab_type": "code",
        "colab": {
          "base_uri": "https://localhost:8080/",
          "height": 877
        },
        "outputId": "364315b1-73ea-4859-e371-95d7f06718f9"
      },
      "source": [
        "def freq_words(x, terms = 30): \n",
        "  all_words = ' '.join([text for text in x]) \n",
        "  all_words = all_words.split() \n",
        "  fdist = nltk.FreqDist(all_words) \n",
        "  words_df = pd.DataFrame({'word':list(fdist.keys()), 'count':list(fdist.values())}) \n",
        "  \n",
        "  # selecting top 20 most frequent words \n",
        "  d = words_df.nlargest(columns=\"count\", n = terms) \n",
        "  \n",
        "  # visualize words and frequencies\n",
        "  plt.figure(figsize=(12,15)) \n",
        "  ax = sns.barplot(data=d, x= \"count\", y = \"word\") \n",
        "  ax.set(ylabel = 'Word') \n",
        "  plt.show()\n",
        "  \n",
        "# print 100 most frequent words \n",
        "freq_words(df['clean_text'], 100)"
      ],
      "execution_count": 34,
      "outputs": [
        {
          "output_type": "display_data",
          "data": {
            "image/png": "[encoded data removed]",
            "text/plain": [
              "<Figure size 864x1080 with 1 Axes>"
            ]
          },
          "metadata": {
            "tags": [],
            "needs_background": "light"
          }
        }
      ]
    },
    {
      "cell_type": "markdown",
      "metadata": {
        "id": "2LrtpT9EtGAY",
        "colab_type": "text"
      },
      "source": [
        "Now let's drop stop-words in english and spanish. \n",
        "\n",
        "---\n",
        "\n"
      ]
    },
    {
      "cell_type": "markdown",
      "metadata": {
        "id": "UwocbMT4x4xY",
        "colab_type": "text"
      },
      "source": [
        "I looked at some of the more frequent words and deleted more stop words, including \"insight crime\", \"link\", \"website\", and \"comment\" among others. Lets see if this will help.\n"
      ]
    },
    {
      "cell_type": "code",
      "metadata": {
        "id": "_rtOZ47i9TkN",
        "colab_type": "code",
        "colab": {
          "base_uri": "https://localhost:8080/",
          "height": 68
        },
        "outputId": "e98d57a6-47ad-4493-f615-699d91eee24a"
      },
      "source": [
        "nltk.download('stopwords')"
      ],
      "execution_count": 35,
      "outputs": [
        {
          "output_type": "stream",
          "text": [
            "[nltk_data] Downloading package stopwords to /root/nltk_data...\n",
            "[nltk_data]   Unzipping corpora/stopwords.zip.\n"
          ],
          "name": "stdout"
        },
        {
          "output_type": "execute_result",
          "data": {
            "text/plain": [
              "True"
            ]
          },
          "metadata": {
            "tags": []
          },
          "execution_count": 35
        }
      ]
    },
    {
      "cell_type": "code",
      "metadata": {
        "id": "xoMnm7octyp0",
        "colab_type": "code",
        "colab": {}
      },
      "source": [
        "from nltk.corpus import stopwords\n",
        "stop_words = set(stopwords.words('english'))\n",
        "stop_words_es = set(stopwords.words(\"spanish\"))\n",
        "#stop_words_es"
      ],
      "execution_count": 36,
      "outputs": []
    },
    {
      "cell_type": "code",
      "metadata": {
        "id": "gWGqGmd3w3uR",
        "colab_type": "code",
        "colab": {}
      },
      "source": [
        "stop_words = stop_words.union(stop_words_es)\n",
        "#stop_words"
      ],
      "execution_count": 37,
      "outputs": []
    },
    {
      "cell_type": "code",
      "metadata": {
        "id": "XfH0wDJVuBtn",
        "colab_type": "code",
        "colab": {}
      },
      "source": [
        "\n",
        "\n",
        "newStopWords = ('crime','insight', 'share','article','articulo', 'x', '-', 'email','si', '000', 'link','click','copy',\n",
        "                  'website','comment','comments','aqui','reporte','creative','commons','please','readers','correo','electronico',\n",
        "                  'send','would','thoughts', 'report','said','bottom','could','comentarios', '—', 'X', '\"')\n",
        "\n",
        "stop_words = stop_words.union(newStopWords)\n",
        "#stop_words"
      ],
      "execution_count": 38,
      "outputs": []
    },
    {
      "cell_type": "code",
      "metadata": {
        "id": "xzyvtnCp9ERX",
        "colab_type": "code",
        "colab": {}
      },
      "source": [
        "# function to remove stopwords\n",
        "def remove_stopwords(text):\n",
        "    no_stopword_text = [w for w in text.split() if not w in stop_words]\n",
        "    return ' '.join(no_stopword_text)\n",
        "\n",
        "df['clean_text'] = df['clean_text'].apply(lambda x: remove_stopwords(x))"
      ],
      "execution_count": 39,
      "outputs": []
    },
    {
      "cell_type": "code",
      "metadata": {
        "id": "XopXo9dno0xM",
        "colab_type": "code",
        "colab": {
          "base_uri": "https://localhost:8080/",
          "height": 221
        },
        "outputId": "a8537852-66a3-4d1e-a9f0-eaf6ffeaa68b"
      },
      "source": [
        "df.clean_text"
      ],
      "execution_count": 40,
      "outputs": [
        {
          "output_type": "execute_result",
          "data": {
            "text/plain": [
              "0        bolivia investigations target members evo mora...\n",
              "1        port antwerp truly stem cocaine entering europ...\n",
              "2        ardillos continue terrorizing indigenous commu...\n",
              "3        former farc guerrillas recognized victims sexu...\n",
              "4        ‘señor t’ one colombia’s invisible drug traffi...\n",
              "                               ...                        \n",
              "15764    arresto ‘loco barrera’ muestra venezuela refug...\n",
              "15765    veredicto operación ‘rápido furioso’ informe e...\n",
              "15766    falsos periodistas acusados delitos narcotráfi...\n",
              "15767    aproximadamente 8 detenidos narcotráfico méxic...\n",
              "15768    dea vuelve pisar uruguay luego retirarse país ...\n",
              "Name: clean_text, Length: 15655, dtype: object"
            ]
          },
          "metadata": {
            "tags": []
          },
          "execution_count": 40
        }
      ]
    },
    {
      "cell_type": "markdown",
      "metadata": {
        "id": "TL4OJuGmBLeA",
        "colab_type": "text"
      },
      "source": [
        "## Setting up HAN - 1"
      ]
    },
    {
      "cell_type": "code",
      "metadata": {
        "id": "NMppY9tnSYuA",
        "colab_type": "code",
        "colab": {
          "base_uri": "https://localhost:8080/",
          "height": 289
        },
        "outputId": "008033e0-d3f2-4d88-8ca2-815f32b4ecbf"
      },
      "source": [
        "df.tail()"
      ],
      "execution_count": 41,
      "outputs": [
        {
          "output_type": "execute_result",
          "data": {
            "text/html": [
              "<div>\n",
              "<style scoped>\n",
              "    .dataframe tbody tr th:only-of-type {\n",
              "        vertical-align: middle;\n",
              "    }\n",
              "\n",
              "    .dataframe tbody tr th {\n",
              "        vertical-align: top;\n",
              "    }\n",
              "\n",
              "    .dataframe thead th {\n",
              "        text-align: right;\n",
              "    }\n",
              "</style>\n",
              "<table border=\"1\" class=\"dataframe\">\n",
              "  <thead>\n",
              "    <tr style=\"text-align: right;\">\n",
              "      <th></th>\n",
              "      <th>title</th>\n",
              "      <th>text</th>\n",
              "      <th>cats</th>\n",
              "      <th>tags</th>\n",
              "      <th>content</th>\n",
              "      <th>clean_text</th>\n",
              "    </tr>\n",
              "  </thead>\n",
              "  <tbody>\n",
              "    <tr>\n",
              "      <th>15764</th>\n",
              "      <td>El arresto del ‘Loco Barrera’ muestra a Venezu...</td>\n",
              "      <td>El arresto del ‘Loco Barrera’ muestra a Venezu...</td>\n",
              "      <td>[El Loco Barrera, Venezuela]</td>\n",
              "      <td>El Loco Barrera,Venezuela</td>\n",
              "      <td>SHARE\\nLa captura de Daniel “El Loco” Barrera ...</td>\n",
              "      <td>arresto ‘loco barrera’ muestra venezuela refug...</td>\n",
              "    </tr>\n",
              "    <tr>\n",
              "      <th>15765</th>\n",
              "      <td>Veredicto sobre la Operación ‘Rápido y Furioso’</td>\n",
              "      <td>Veredicto sobre la Operación ‘Rápido y Furioso...</td>\n",
              "      <td>[Frontera EU/México, Tráfico de armas]</td>\n",
              "      <td>Frontera EU/México,Tráfico de armas</td>\n",
              "      <td>SHARE\\nEl informe\\nelaborado por el inspector ...</td>\n",
              "      <td>veredicto operación ‘rápido furioso’ informe e...</td>\n",
              "    </tr>\n",
              "    <tr>\n",
              "      <th>15766</th>\n",
              "      <td>Falsos Periodistas Acusados por los Delitos de...</td>\n",
              "      <td>Falsos Periodistas Acusados por los Delitos de...</td>\n",
              "      <td>[Costa Rica, Lavado de dinero, Nicaragua]</td>\n",
              "      <td>Costa Rica,Lavado de dinero,Nicaragua</td>\n",
              "      <td>SHARE\\nFalsos periodistas de la cadena Televis...</td>\n",
              "      <td>falsos periodistas acusados delitos narcotráfi...</td>\n",
              "    </tr>\n",
              "    <tr>\n",
              "      <th>15767</th>\n",
              "      <td>Aproximadamente 8.000 Detenidos por Narcotráfi...</td>\n",
              "      <td>Aproximadamente 8.000 Detenidos por Narcotráfi...</td>\n",
              "      <td>[Mexico]</td>\n",
              "      <td>Mexico</td>\n",
              "      <td>SHARE\\nEn lo corrido del año, la Secretaría de...</td>\n",
              "      <td>aproximadamente 8 detenidos narcotráfico méxic...</td>\n",
              "    </tr>\n",
              "    <tr>\n",
              "      <th>15768</th>\n",
              "      <td>La DEA Vuelve a Pisar Uruguay</td>\n",
              "      <td>La DEA Vuelve a Pisar Uruguay. SHARE\\nLuego de...</td>\n",
              "      <td>[Uruguay]</td>\n",
              "      <td>Uruguay</td>\n",
              "      <td>SHARE\\nLuego de retirarse del país en 1994 por...</td>\n",
              "      <td>dea vuelve pisar uruguay luego retirarse país ...</td>\n",
              "    </tr>\n",
              "  </tbody>\n",
              "</table>\n",
              "</div>"
            ],
            "text/plain": [
              "                                                   title  ...                                         clean_text\n",
              "15764  El arresto del ‘Loco Barrera’ muestra a Venezu...  ...  arresto ‘loco barrera’ muestra venezuela refug...\n",
              "15765    Veredicto sobre la Operación ‘Rápido y Furioso’  ...  veredicto operación ‘rápido furioso’ informe e...\n",
              "15766  Falsos Periodistas Acusados por los Delitos de...  ...  falsos periodistas acusados delitos narcotráfi...\n",
              "15767  Aproximadamente 8.000 Detenidos por Narcotráfi...  ...  aproximadamente 8 detenidos narcotráfico méxic...\n",
              "15768                      La DEA Vuelve a Pisar Uruguay  ...  dea vuelve pisar uruguay luego retirarse país ...\n",
              "\n",
              "[5 rows x 6 columns]"
            ]
          },
          "metadata": {
            "tags": []
          },
          "execution_count": 41
        }
      ]
    },
    {
      "cell_type": "code",
      "metadata": {
        "id": "iOSBrEo8_oKr",
        "colab_type": "code",
        "colab": {
          "base_uri": "https://localhost:8080/",
          "height": 238
        },
        "outputId": "783f8254-b9a0-487b-919b-e579e5c2bbcb"
      },
      "source": [
        "df.info()"
      ],
      "execution_count": 42,
      "outputs": [
        {
          "output_type": "stream",
          "text": [
            "<class 'pandas.core.frame.DataFrame'>\n",
            "Int64Index: 15655 entries, 0 to 15768\n",
            "Data columns (total 6 columns):\n",
            " #   Column      Non-Null Count  Dtype \n",
            "---  ------      --------------  ----- \n",
            " 0   title       15655 non-null  object\n",
            " 1   text        15655 non-null  object\n",
            " 2   cats        15655 non-null  object\n",
            " 3   tags        15655 non-null  object\n",
            " 4   content     15655 non-null  object\n",
            " 5   clean_text  15655 non-null  object\n",
            "dtypes: object(6)\n",
            "memory usage: 1.5+ MB\n"
          ],
          "name": "stdout"
        }
      ]
    },
    {
      "cell_type": "code",
      "metadata": {
        "id": "p-T-H4eRYUFg",
        "colab_type": "code",
        "colab": {
          "base_uri": "https://localhost:8080/",
          "height": 119
        },
        "outputId": "0cb37f09-6e22-4e91-845d-f92743bc8efa"
      },
      "source": [
        "df['text'].head()"
      ],
      "execution_count": 43,
      "outputs": [
        {
          "output_type": "execute_result",
          "data": {
            "text/plain": [
              "0    Bolivia Investigations Target Members of Evo M...\n",
              "1    Can Port of Antwerp Truly Stem Cocaine Enterin...\n",
              "2    Los Ardillos Continue Terrorizing Indigenous C...\n",
              "3    Former FARC Guerrillas Recognized as Victims o...\n",
              "4    Was ‘Señor T’ One of Colombia’s Invisible Drug...\n",
              "Name: text, dtype: object"
            ]
          },
          "metadata": {
            "tags": []
          },
          "execution_count": 43
        }
      ]
    },
    {
      "cell_type": "code",
      "metadata": {
        "id": "cT9oNKXK_fGr",
        "colab_type": "code",
        "colab": {
          "base_uri": "https://localhost:8080/",
          "height": 34
        },
        "outputId": "c604e716-1805-4140-cdc1-6e8b96adbf55"
      },
      "source": [
        "#categories = df['genres']\n",
        "# AB added this here\n",
        "\n",
        "text = df['text']\n",
        "len(text)"
      ],
      "execution_count": 44,
      "outputs": [
        {
          "output_type": "execute_result",
          "data": {
            "text/plain": [
              "15655"
            ]
          },
          "metadata": {
            "tags": []
          },
          "execution_count": 44
        }
      ]
    },
    {
      "cell_type": "code",
      "metadata": {
        "id": "qIYidEkp_20R",
        "colab_type": "code",
        "colab": {
          "base_uri": "https://localhost:8080/",
          "height": 255
        },
        "outputId": "72605264-6869-4053-ab52-d2864a3a60c2"
      },
      "source": [
        "cates = df.groupby('tags')\n",
        "print(\"total categories:\", cates.ngroups)\n",
        "print(cates.size())"
      ],
      "execution_count": 45,
      "outputs": [
        {
          "output_type": "stream",
          "text": [
            "total categories: 5361\n",
            "tags\n",
            "AUC,Autodefensas,Colombia                                                         1\n",
            "AUC,Barrio 18,Colombia,El Salvador,El Salvador gang truce,MS13                    1\n",
            "AUC,Barrio 18,Colombia,El Salvador,MS13,Tregua entre pandillas en El Salvador     1\n",
            "AUC,Colombia                                                                     39\n",
            "AUC,Colombia,Derechos Humanos                                                     1\n",
            "                                                                                 ..\n",
            "Élites y Crimen Organizado,Reforma judicial                                       1\n",
            "Élites y Crimen Organizado,República Dominicana                                   1\n",
            "Élites y Crimen Organizado,Surinam                                                2\n",
            "Élites y Crimen Organizado,Venezuela                                             29\n",
            "Élites y Crimen Organizado,Venezuela,Walid Makled                                 1\n",
            "Length: 5361, dtype: int64\n"
          ],
          "name": "stdout"
        }
      ]
    },
    {
      "cell_type": "code",
      "metadata": {
        "id": "N6u8Bgr9AWEZ",
        "colab_type": "code",
        "colab": {
          "base_uri": "https://localhost:8080/",
          "height": 68
        },
        "outputId": "d3344593-e32b-4928-db5e-58cd0405e695"
      },
      "source": [
        "import nltk\n",
        "nltk.download('punkt')"
      ],
      "execution_count": 46,
      "outputs": [
        {
          "output_type": "stream",
          "text": [
            "[nltk_data] Downloading package punkt to /root/nltk_data...\n",
            "[nltk_data]   Unzipping tokenizers/punkt.zip.\n"
          ],
          "name": "stdout"
        },
        {
          "output_type": "execute_result",
          "data": {
            "text/plain": [
              "True"
            ]
          },
          "metadata": {
            "tags": []
          },
          "execution_count": 46
        }
      ]
    },
    {
      "cell_type": "code",
      "metadata": {
        "id": "64MPOUdUAEkk",
        "colab_type": "code",
        "colab": {}
      },
      "source": [
        "import re\n",
        "def clean_str(string):\n",
        "    \"\"\"\n",
        "    Tokenization/string cleaning for dataset\n",
        "    Every dataset is lower cased except\n",
        "    \"\"\"\n",
        "    string = re.sub(r\"\\\\\", \"\", string)    \n",
        "    string = re.sub(r\"\\'\", \"\", string)    \n",
        "    string = re.sub(r\"\\\"\", \"\", string)    \n",
        "    return string.strip().lower()"
      ],
      "execution_count": 47,
      "outputs": []
    },
    {
      "cell_type": "code",
      "metadata": {
        "id": "dzyEmrI4AMGF",
        "colab_type": "code",
        "colab": {}
      },
      "source": [
        "paras = []\n",
        "labels = []\n",
        "texts = []"
      ],
      "execution_count": 48,
      "outputs": []
    },
    {
      "cell_type": "code",
      "metadata": {
        "id": "Sv4xaVjyAOyh",
        "colab_type": "code",
        "colab": {}
      },
      "source": [
        "sent_lens = []\n",
        "sent_nums = []\n",
        "for idx in range(df.text.shape[0]):\n",
        "    text = clean_str(df.text.iloc[idx])\n",
        "    texts.append(text)\n",
        "    sentences = tokenize.sent_tokenize(text)\n",
        "    sent_nums.append(len(sentences))\n",
        "    for sent in sentences:\n",
        "        sent_lens.append(len(text_to_word_sequence(sent)))\n",
        "    paras.append(sentences)\n"
      ],
      "execution_count": 49,
      "outputs": []
    },
    {
      "cell_type": "code",
      "metadata": {
        "id": "jkWLiZrEu0FC",
        "colab_type": "code",
        "colab": {
          "base_uri": "https://localhost:8080/",
          "height": 51
        },
        "outputId": "535512d1-e45f-46c4-b1f2-4845f4492aaf"
      },
      "source": [
        "print(len(texts))\n",
        "print(len(text))"
      ],
      "execution_count": 50,
      "outputs": [
        {
          "output_type": "stream",
          "text": [
            "15655\n",
            "1117\n"
          ],
          "name": "stdout"
        }
      ]
    },
    {
      "cell_type": "markdown",
      "metadata": {
        "id": "3Ub4NELknhI3",
        "colab_type": "text"
      },
      "source": [
        "*Theres* an error at line 469 I think in the df. I didn't troubleshoot, I just uncommented out the #text line, ran it, commented it again, ran the line above, and then ran it and it worked..."
      ]
    },
    {
      "cell_type": "markdown",
      "metadata": {
        "id": "0skYOakFZkJV",
        "colab_type": "text"
      },
      "source": [
        "The above code didn't run the first time I ran it, then ran when I tried again..."
      ]
    },
    {
      "cell_type": "code",
      "metadata": {
        "id": "PI8pXYzvL3lV",
        "colab_type": "code",
        "colab": {}
      },
      "source": [
        "# sns.distplot(sent_lens, bins=200)\n",
        "# plt.show()"
      ],
      "execution_count": 51,
      "outputs": []
    },
    {
      "cell_type": "code",
      "metadata": {
        "id": "fWVvL5FeMB_B",
        "colab_type": "code",
        "colab": {}
      },
      "source": [
        "# sns.distplot(sent_nums)\n",
        "# plt.show()"
      ],
      "execution_count": 52,
      "outputs": []
    },
    {
      "cell_type": "code",
      "metadata": {
        "id": "d8BqvukEMg8o",
        "colab_type": "code",
        "colab": {}
      },
      "source": [
        "tokenizer = Tokenizer(num_words=max_features, oov_token=True)\n",
        "tokenizer.fit_on_texts(text)"
      ],
      "execution_count": 53,
      "outputs": []
    },
    {
      "cell_type": "code",
      "metadata": {
        "id": "NHgNxS8ZMmpA",
        "colab_type": "code",
        "colab": {}
      },
      "source": [
        "data = np.zeros((len(texts), max_senten_num, max_senten_len), dtype='int32')\n",
        "for i, sentences in enumerate(paras):\n",
        "    for j, sent in enumerate(sentences):\n",
        "        if j< max_senten_num:\n",
        "            wordTokens = text_to_word_sequence(sent)\n",
        "            k=0\n",
        "            for _, word in enumerate(wordTokens):\n",
        "                try:\n",
        "                    if k<max_senten_len and tokenizer.word_index[word]<max_features:\n",
        "                        data[i,j,k] = tokenizer.word_index[word]\n",
        "                        k=k+1\n",
        "                        \n",
        "                except:\n",
        "                    #print(word)\n",
        "                    pass"
      ],
      "execution_count": 54,
      "outputs": []
    },
    {
      "cell_type": "code",
      "metadata": {
        "id": "c_r66IncM1ZV",
        "colab_type": "code",
        "colab": {
          "base_uri": "https://localhost:8080/",
          "height": 34
        },
        "outputId": "d869ddf6-aa4a-4772-c63b-e839ffd1dd2f"
      },
      "source": [
        "data.shape"
      ],
      "execution_count": 55,
      "outputs": [
        {
          "output_type": "execute_result",
          "data": {
            "text/plain": [
              "(15655, 100, 246)"
            ]
          },
          "metadata": {
            "tags": []
          },
          "execution_count": 55
        }
      ]
    },
    {
      "cell_type": "code",
      "metadata": {
        "id": "NuRBvgv_M6CB",
        "colab_type": "code",
        "colab": {
          "base_uri": "https://localhost:8080/",
          "height": 34
        },
        "outputId": "2a29ec87-0a0e-4be2-d41f-bc5dba9233eb"
      },
      "source": [
        "word_index = tokenizer.word_index\n",
        "print('Total %s unique tokens.' % len(word_index))"
      ],
      "execution_count": 56,
      "outputs": [
        {
          "output_type": "stream",
          "text": [
            "Total 40 unique tokens.\n"
          ],
          "name": "stdout"
        }
      ]
    },
    {
      "cell_type": "markdown",
      "metadata": {
        "id": "ZvJBQ0Y_f7bR",
        "colab_type": "text"
      },
      "source": [
        "Categories are coming from the genres column, which has NaN's. "
      ]
    },
    {
      "cell_type": "markdown",
      "metadata": {
        "id": "qQu9TW5rhzW0",
        "colab_type": "text"
      },
      "source": [
        "The get_dummies is converting a column with single categories into binary. I think you should use multilabel binarizer instead. "
      ]
    },
    {
      "cell_type": "markdown",
      "metadata": {
        "id": "ZAXMcvjRoaxJ",
        "colab_type": "text"
      },
      "source": [
        "I switched categories from cats to tags. I used the multilable binizer before and it worked well. Somehow the model just didn't run. - LW"
      ]
    },
    {
      "cell_type": "code",
      "metadata": {
        "id": "xBJe_bq4M8cJ",
        "colab_type": "code",
        "colab": {}
      },
      "source": [
        "categories = df['cats']\n",
        "\n",
        "# #categories = hash(categories)\n",
        "# labels = pd.get_dummies(categories)\n",
        "# #len(labels)"
      ],
      "execution_count": 57,
      "outputs": []
    },
    {
      "cell_type": "code",
      "metadata": {
        "id": "TA6oHjo8itiR",
        "colab_type": "code",
        "colab": {}
      },
      "source": [
        "from sklearn.preprocessing import MultiLabelBinarizer\n",
        "\n",
        "multilabel_binarizer = MultiLabelBinarizer()\n",
        "multilabel_binarizer.fit(categories)\n",
        "\n",
        "# transform target variable\n",
        "labels = multilabel_binarizer.transform(categories)"
      ],
      "execution_count": 58,
      "outputs": []
    },
    {
      "cell_type": "code",
      "metadata": {
        "id": "WET8eZj2NAaF",
        "colab_type": "code",
        "colab": {
          "base_uri": "https://localhost:8080/",
          "height": 51
        },
        "outputId": "5eb0b32a-48f2-42ae-912f-508be3090991"
      },
      "source": [
        "print('Shape of data tensor:', data.shape)\n",
        "print('Shape of labels tensor:', labels.shape)"
      ],
      "execution_count": 59,
      "outputs": [
        {
          "output_type": "stream",
          "text": [
            "Shape of data tensor: (15655, 100, 246)\n",
            "Shape of labels tensor: (15655, 253)\n"
          ],
          "name": "stdout"
        }
      ]
    },
    {
      "cell_type": "code",
      "metadata": {
        "colab_type": "code",
        "id": "-26b5IYiQewZ",
        "colab": {}
      },
      "source": [
        ""
      ],
      "execution_count": 59,
      "outputs": []
    },
    {
      "cell_type": "code",
      "metadata": {
        "colab_type": "code",
        "id": "I2ScgiUaQewc",
        "colab": {}
      },
      "source": [
        "#xtrain, xval, ytrain, yval = train_test_split(data, labels, test_size=0.1, random_state=9)"
      ],
      "execution_count": 60,
      "outputs": []
    },
    {
      "cell_type": "code",
      "metadata": {
        "colab_type": "code",
        "id": "LhKgKfiiQewd",
        "colab": {}
      },
      "source": [
        "# from sklearn.preprocessing import StandardScaler\n",
        "# sc = StandardScaler()\n",
        "# xtrain = sc.fit_transform(xtrain.reshape(1,-1))\n",
        "# xtest=sc.transform(xval)\n",
        "# ytrain = sc.fit_transform(ytrain.ravel())\n",
        "# ytest=sc.transform(yval)"
      ],
      "execution_count": 61,
      "outputs": []
    },
    {
      "cell_type": "code",
      "metadata": {
        "id": "gUwIaQaFNEiK",
        "colab_type": "code",
        "colab": {
          "base_uri": "https://localhost:8080/",
          "height": 88
        },
        "outputId": "a1471376-88f3-415c-88db-4159ed118111"
      },
      "source": [
        "indices = np.arange(data.shape[0])\n",
        "np.random.shuffle(indices)\n",
        "data = data[indices]\n",
        "labels = labels[indices]\n",
        "#labels = labels[indices].values\n",
        "#\n",
        "nb_validation_samples = int(VALIDATION_SPLIT * data.shape[0])\n",
        "\n",
        "x_train = data[:-nb_validation_samples]\n",
        "y_train = labels[:-nb_validation_samples]\n",
        "x_val = data[-nb_validation_samples:]\n",
        "y_val = labels[-nb_validation_samples:]\n",
        "\n",
        "\n",
        "\n",
        "print('Number of positive and negative reviews in traing and validation set')\n",
        "print(y_train.sum(axis=0).tolist())\n",
        "print(y_val.sum(axis=0).tolist())"
      ],
      "execution_count": 62,
      "outputs": [
        {
          "output_type": "stream",
          "text": [
            "Number of positive and negative reviews in traing and validation set\n",
            "[75, 8, 2, 14, 0, 452, 175, 78, 3, 412, 9, 12, 21, 70, 386, 322, 488, 26, 16, 32, 52, 66, 3, 0, 6, 6, 1, 139, 92, 81, 22, 195, 32, 13, 101, 36, 11, 18, 9, 95, 2, 216, 93, 80, 45, 2064, 7, 36, 8, 110, 84, 183, 7, 21, 55, 100, 39, 7, 27, 150, 21, 43, 9, 23, 51, 4, 8, 236, 210, 24, 31, 76, 4, 29, 85, 68, 275, 7, 2, 188, 11, 4, 0, 5, 31, 45, 14, 6, 1052, 112, 6, 550, 5, 68, 166, 103, 146, 65, 87, 561, 167, 3, 7, 43, 14, 13, 1, 94, 40, 49, 69, 16, 3, 26, 1, 925, 57, 71, 19, 55, 26, 17, 1, 55, 41, 361, 249, 866, 150, 88, 137, 28, 109, 185, 259, 8, 5, 10, 89, 62, 8, 39, 106, 116, 75, 98, 20, 180, 3, 5, 59, 27, 2, 10, 531, 5, 21, 43, 15, 8, 52, 1856, 6, 41, 45, 95, 12, 73, 229, 7, 915, 70, 75, 159, 8, 10, 88, 42, 35, 17, 20, 152, 4, 5, 85, 67, 317, 32, 164, 9, 379, 204, 2, 1, 33, 1, 240, 186, 438, 163, 220, 47, 10, 3, 131, 52, 80, 168, 37, 2, 1, 7, 1, 1, 62, 448, 33, 80, 312, 46, 5, 6, 6, 6, 2, 34, 31, 12, 2, 78, 82, 94, 53, 161, 6, 299, 113, 9, 39, 816, 8, 97, 5, 11, 8, 63, 3, 12, 17, 6, 386, 2, 562]\n",
            "[29, 9, 2, 1, 1, 198, 62, 44, 1, 182, 1, 5, 8, 22, 155, 120, 208, 5, 7, 12, 32, 28, 1, 2, 3, 0, 3, 59, 26, 36, 9, 81, 11, 5, 39, 16, 1, 15, 4, 35, 0, 88, 48, 48, 24, 932, 4, 11, 5, 45, 45, 73, 4, 10, 34, 42, 20, 0, 14, 66, 18, 16, 5, 18, 23, 2, 3, 99, 85, 16, 14, 29, 3, 15, 34, 19, 108, 3, 2, 79, 7, 3, 1, 1, 15, 15, 4, 2, 457, 34, 1, 242, 0, 30, 60, 54, 60, 31, 43, 230, 66, 4, 4, 20, 5, 8, 2, 46, 16, 16, 35, 7, 1, 11, 0, 422, 23, 29, 4, 23, 10, 8, 0, 24, 24, 125, 103, 401, 71, 41, 63, 21, 48, 86, 108, 1, 2, 3, 40, 24, 3, 23, 61, 59, 36, 37, 15, 77, 0, 5, 33, 13, 0, 3, 229, 4, 9, 18, 3, 8, 16, 775, 7, 22, 18, 41, 2, 54, 95, 3, 436, 27, 39, 61, 8, 3, 28, 19, 15, 16, 10, 62, 0, 4, 42, 32, 130, 8, 66, 7, 161, 109, 2, 3, 8, 0, 99, 76, 187, 74, 93, 11, 2, 2, 61, 14, 50, 58, 12, 1, 2, 0, 2, 0, 21, 189, 11, 32, 129, 16, 0, 4, 5, 3, 1, 13, 10, 8, 2, 44, 37, 30, 27, 73, 3, 144, 50, 3, 21, 339, 4, 45, 3, 3, 5, 30, 1, 4, 3, 2, 173, 3, 223]\n"
          ],
          "name": "stdout"
        }
      ]
    },
    {
      "cell_type": "markdown",
      "metadata": {
        "id": "qqNpVyg4HRts",
        "colab_type": "text"
      },
      "source": [
        "## HAN MODEL"
      ]
    },
    {
      "cell_type": "code",
      "metadata": {
        "id": "v_mNEXez0Fuu",
        "colab_type": "code",
        "colab": {}
      },
      "source": [
        "REG_PARAM = 1e-13\n",
        "l2_reg = regularizers.l2(REG_PARAM)"
      ],
      "execution_count": 63,
      "outputs": []
    },
    {
      "cell_type": "code",
      "metadata": {
        "id": "pfuht1s58UWb",
        "colab_type": "code",
        "colab": {}
      },
      "source": [
        "import os\n"
      ],
      "execution_count": 64,
      "outputs": []
    },
    {
      "cell_type": "code",
      "metadata": {
        "id": "ABhGIV9DrF7e",
        "colab_type": "code",
        "colab": {}
      },
      "source": [
        "# import zipfile\n",
        "# from google.colab import drive\n",
        "\n",
        "# zip_ref = zipfile.ZipFile(\"My Drive/Spring 2020/ECE 523 - Machine Learning/ECE_523_FP-(1)/glove.6B.zip\", 'r')\n",
        "# zip_ref.extractall(\"/tmp\")\n",
        "# #zip_ref.close()"
      ],
      "execution_count": 65,
      "outputs": []
    },
    {
      "cell_type": "code",
      "metadata": {
        "id": "a1ONT28ojKBj",
        "colab_type": "code",
        "colab": {
          "base_uri": "https://localhost:8080/",
          "height": 34
        },
        "outputId": "ca49c738-7566-4173-a42e-aa582f00e306"
      },
      "source": [
        "span_DIR = \"My Drive/Projects/InSightCrime/Insight_Crime/models/data/SBW-vectors-300-min5.txt\"\n",
        "#GLOVE_DIR = \"My Drive/Data/Bogota/SBW-vectors-300-min5.txt/SBW-vectors-300-min5.txt\"\n",
        "\n",
        "embeddings_index = {}\n",
        "f = open(span_DIR)\n",
        "for line in f:\n",
        "    try:\n",
        "        values = line.split()\n",
        "        word = values[0]\n",
        "        coefs = np.asarray(values[1:], dtype='float32')\n",
        "        embeddings_index[word] = coefs\n",
        "    except:\n",
        "        print(word)\n",
        "        pass\n",
        "f.close()\n",
        "print('Total %s word vectors.' % len(embeddings_index))"
      ],
      "execution_count": 66,
      "outputs": [
        {
          "output_type": "stream",
          "text": [
            "Total 1000654 word vectors.\n"
          ],
          "name": "stdout"
        }
      ]
    },
    {
      "cell_type": "code",
      "metadata": {
        "id": "DWOVG0znkpop",
        "colab_type": "code",
        "colab": {
          "base_uri": "https://localhost:8080/",
          "height": 136
        },
        "outputId": "dcb29b9b-c829-4811-fc91-d8e97047a33a"
      },
      "source": [
        "embedding_matrix = np.zeros((len(word_index) + 1, embed_size)) # I changed the embed size from 100 to 300\n",
        "embedding_matrix"
      ],
      "execution_count": 67,
      "outputs": [
        {
          "output_type": "execute_result",
          "data": {
            "text/plain": [
              "array([[0., 0., 0., ..., 0., 0., 0.],\n",
              "       [0., 0., 0., ..., 0., 0., 0.],\n",
              "       [0., 0., 0., ..., 0., 0., 0.],\n",
              "       ...,\n",
              "       [0., 0., 0., ..., 0., 0., 0.],\n",
              "       [0., 0., 0., ..., 0., 0., 0.],\n",
              "       [0., 0., 0., ..., 0., 0., 0.]])"
            ]
          },
          "metadata": {
            "tags": []
          },
          "execution_count": 67
        }
      ]
    },
    {
      "cell_type": "code",
      "metadata": {
        "id": "HRuow_5E8p-p",
        "colab_type": "code",
        "colab": {
          "base_uri": "https://localhost:8080/",
          "height": 34
        },
        "outputId": "d32d54a4-ec39-4e55-bd2d-be592b07a0d0"
      },
      "source": [
        "absent_words = 0\n",
        "for word, i in word_index.items():\n",
        "    embedding_vector = embeddings_index.get(word)\n",
        "    if embedding_vector is not None:\n",
        "        # words not found in embedding index will be all-zeros.\n",
        "        embedding_matrix[i] = embedding_vector\n",
        "    else:\n",
        "        absent_words += 1\n",
        "print('Total absent words are', absent_words, 'which is', \"%0.2f\" % (absent_words * 100 / len(word_index)), '% of total words')"
      ],
      "execution_count": 68,
      "outputs": [
        {
          "output_type": "stream",
          "text": [
            "Total absent words are 9 which is 22.50 % of total words\n"
          ],
          "name": "stdout"
        }
      ]
    },
    {
      "cell_type": "markdown",
      "metadata": {
        "id": "2Y_ID5ULjhZ4",
        "colab_type": "text"
      },
      "source": [
        "Using the SBW-vectors-300-min5 I got 9 absent words which is 22.50 % of total words. Glove proved to be very big.\n",
        "\n",
        "This was the previous absent words using GloVe: Total absent words are 89746 which is 65.75 % of total words\n",
        "\n",
        "I was able to fix things in the data and label code so I switched the embed size back to 100. I think this will help. Total absent words are 3 which is 7.5% of the total words.\n",
        "\n",
        "I'll run this with GloVe and then with the spanish vectors\n",
        "\n",
        "---------------------------------\n",
        "\n",
        "This is the absent words using pre-trained for Spanish, see https://www.kaggle.com/rtatman/pretrained-word-vectors-for-spanish. \n",
        "\n",
        "Total absent words are 14 which is 32.56 % of total words\n",
        "\n",
        "This is probably because I increased the embedding size from 100 to 300 to match the SBW shape."
      ]
    },
    {
      "cell_type": "code",
      "metadata": {
        "id": "kT5aSxiQz5UQ",
        "colab_type": "code",
        "colab": {}
      },
      "source": [
        "embedding_layer = Embedding(len(word_index) + 1,embed_size,weights=[embedding_matrix], input_length=max_senten_len, trainable=False)\n"
      ],
      "execution_count": 69,
      "outputs": []
    },
    {
      "cell_type": "code",
      "metadata": {
        "id": "pYXOKJa4oqWM",
        "colab_type": "code",
        "colab": {}
      },
      "source": [
        "#figure out how to customize this for multiclass labels\n",
        "\n",
        "from keras import backend as K\n",
        "\n",
        "def recall_m(y_true, y_pred):\n",
        "    true_positives = K.sum(K.round(K.clip(y_true * y_pred, 0, 1)))\n",
        "    possible_positives = K.sum(K.round(K.clip(y_true, 0, 1)))\n",
        "    recall = true_positives / (possible_positives + K.epsilon())\n",
        "    return recall\n",
        "\n",
        "def precision_m(y_true, y_pred):\n",
        "    true_positives = K.sum(K.round(K.clip(y_true * y_pred, 0, 1)))\n",
        "    predicted_positives = K.sum(K.round(K.clip(y_pred, 0, 1)))\n",
        "    precision = true_positives / (predicted_positives + K.epsilon())\n",
        "    return precision\n",
        "\n",
        "def f1_m(y_true, y_pred):\n",
        "    precision = precision_m(y_true, y_pred)\n",
        "    recall = recall_m(y_true, y_pred)\n",
        "    return 2*((precision*recall)/(precision+recall+K.epsilon()))\n",
        "\n",
        "# compile the model example\n",
        "# model.compile(optimizer='adam', loss='binary_crossentropy', metrics=['acc',f1_m,precision_m, recall_m])\n",
        "\n",
        "# fit the model example\n",
        "# history = model.fit(Xtrain, ytrain, validation_split=0.3, epochs=10, verbose=0)\n",
        "\n",
        "# evaluate the model\n",
        "# loss, accuracy, f1_score, precision, recall = model.evaluate(Xtest, ytest, verbose=0)"
      ],
      "execution_count": 70,
      "outputs": []
    },
    {
      "cell_type": "code",
      "metadata": {
        "id": "uDVXSPsuz9h2",
        "colab_type": "code",
        "colab": {}
      },
      "source": [
        "word_input = Input(shape=(max_senten_len,), dtype='float32')\n",
        "word_sequences = embedding_layer(word_input)\n",
        "word_lstm = Bidirectional(LSTM(150, return_sequences=True, kernel_regularizer=l2_reg))(word_sequences)\n",
        "word_dense = TimeDistributed(Dense(200, kernel_regularizer=l2_reg))(word_lstm)\n",
        "word_att = AttentionWithContext()(word_dense)\n",
        "wordEncoder = Model(word_input, word_att)\n",
        "\n",
        "sent_input = Input(shape=(max_senten_num, max_senten_len), dtype='float32')\n",
        "sent_encoder = TimeDistributed(wordEncoder)(sent_input)\n",
        "sent_lstm = Bidirectional(LSTM(150, return_sequences=True, kernel_regularizer=l2_reg))(sent_encoder)\n",
        "sent_dense = TimeDistributed(Dense(200, kernel_regularizer=l2_reg))(sent_lstm)\n",
        "sent_att = Dropout(0.5)(AttentionWithContext()(sent_dense))\n",
        "preds = Dense(253, activation='sigmoid')(sent_att) # changed (again) from 253 to 69\n",
        "model = Model(sent_input, preds)\n",
        "model.compile(loss='categorical_crossentropy',optimizer='adam', metrics = [tf.keras.metrics.AUC(),f1_m,precision_m, recall_m]) #metrics=[tf.keras.metrics.AUC()]) # changed to f1 from previous change acc to AUC, and adam optimizer to sgd"
      ],
      "execution_count": 71,
      "outputs": []
    },
    {
      "cell_type": "code",
      "metadata": {
        "id": "qhHLb4dBmmMM",
        "colab_type": "code",
        "colab": {
          "base_uri": "https://localhost:8080/",
          "height": 156
        },
        "outputId": "81bf28d6-9945-4e73-f58e-9614d3f1251b"
      },
      "source": [
        "history = model.fit(x_train, y_train, validation_data=(x_val, y_val), epochs=1) #, batch_size=100 this was eating up all my ram, the default seems to run well. I also changed the runtime to gpu.\n",
        "\n",
        "train = model.evaluate(x_train, y_train, verbose = 1)\n",
        "score = model.evaluate(x_val, y_val, verbose =0)\n",
        "\n",
        "print('Train accuracy:', train[1])\n",
        "print('Valication loss:', score[0])\n",
        "print('Validation accuracy:', score[1])\n",
        "\n",
        "loss, accuracy, f1_score, precision, recall = model.evaluate(x_val, y_val, verbose=0)"
      ],
      "execution_count": 72,
      "outputs": [
        {
          "output_type": "stream",
          "text": [
            "Train on 10959 samples, validate on 4696 samples\n",
            "Epoch 1/1\n",
            "10959/10959 [==============================] - 3592s 328ms/step - loss: 12.1024 - auc: 0.8076 - f1_m: 0.1038 - precision_m: 0.0583 - recall_m: 0.5306 - val_loss: 11.9302 - val_auc: 0.8343 - val_f1_m: 0.1346 - val_precision_m: 0.0799 - val_recall_m: 0.4297\n",
            "10959/10959 [==============================] - 1263s 115ms/step\n",
            "Train accuracy: 0.8407410979270935\n",
            "Valication loss: 11.930186846796454\n",
            "Validation accuracy: 0.8444649577140808\n"
          ],
          "name": "stdout"
        }
      ]
    },
    {
      "cell_type": "code",
      "metadata": {
        "id": "a-RAtTT6_wZL",
        "colab_type": "code",
        "colab": {
          "base_uri": "https://localhost:8080/",
          "height": 102
        },
        "outputId": "76a59e13-7aa4-4949-a6d9-b9f81190d212"
      },
      "source": [
        "print(\"loss:\", loss)\n",
        "print(\"accuracy:\", accuracy) \n",
        "print(\"f1 score:\", f1_score) \n",
        "print(\"precision:\",  precision) \n",
        "print(\"recall:\", recall)"
      ],
      "execution_count": 77,
      "outputs": [
        {
          "output_type": "stream",
          "text": [
            "loss: 11.930186846796454\n",
            "accuracy: 0.8456321954727173\n",
            "f1 score: 0.13464294373989105\n",
            "precision: 0.07993198186159134\n",
            "recall: 0.42965492606163025\n"
          ],
          "name": "stdout"
        }
      ]
    },
    {
      "cell_type": "markdown",
      "metadata": {
        "id": "8roPbMQOyC7B",
        "colab_type": "text"
      },
      "source": [
        "## Binarization\n",
        "\n",
        "Now we get to the fun stuff. I'm using multi label binarizer to convert our cats into binary indicators. \n",
        "\n",
        "I use the tags category instead of the cats category to compare lists to string."
      ]
    },
    {
      "cell_type": "code",
      "metadata": {
        "id": "fiVRzOtP9pNp",
        "colab_type": "code",
        "colab": {}
      },
      "source": [
        "from sklearn.preprocessing import MultiLabelBinarizer\n",
        "\n",
        "multilabel_binarizer = MultiLabelBinarizer()\n",
        "multilabel_binarizer.fit(df['cats'])\n",
        "\n",
        "# transform target variable\n",
        "y = multilabel_binarizer.transform(df['cats'])"
      ],
      "execution_count": null,
      "outputs": []
    },
    {
      "cell_type": "code",
      "metadata": {
        "id": "Aq3tJIzy46e7",
        "colab_type": "code",
        "colab": {}
      },
      "source": [
        "y"
      ],
      "execution_count": null,
      "outputs": []
    },
    {
      "cell_type": "markdown",
      "metadata": {
        "id": "I1uLzHwKyQra",
        "colab_type": "text"
      },
      "source": [
        "\n",
        "Instead of 5 \"1\"s accross, the ones are scattered around. Let's see how this applies to our TP-IDF."
      ]
    },
    {
      "cell_type": "code",
      "metadata": {
        "id": "DnEle25m0Ndy",
        "colab_type": "code",
        "colab": {}
      },
      "source": [
        "y[1]"
      ],
      "execution_count": null,
      "outputs": []
    },
    {
      "cell_type": "markdown",
      "metadata": {
        "id": "HMdi7n74yYcu",
        "colab_type": "text"
      },
      "source": [
        "I use TF-IDF to vectorize our content. Max features set to 10,000. This will help weigh properly common and sparse words. "
      ]
    },
    {
      "cell_type": "code",
      "metadata": {
        "id": "WaExt8iniXO-",
        "colab_type": "code",
        "colab": {}
      },
      "source": [
        "tfidf_vectorizer = TfidfVectorizer(max_df=0.8, max_features=10000)"
      ],
      "execution_count": null,
      "outputs": []
    },
    {
      "cell_type": "code",
      "metadata": {
        "id": "V9IUFB-zBuYK",
        "colab_type": "code",
        "colab": {}
      },
      "source": [
        "xtrain, xval, ytrain, yval = train_test_split(df['clean_text'], y, test_size=0.1, random_state=9)"
      ],
      "execution_count": null,
      "outputs": []
    },
    {
      "cell_type": "code",
      "metadata": {
        "id": "feAoYVpNCcvd",
        "colab_type": "code",
        "colab": {}
      },
      "source": [
        "# create TF-IDF features\n",
        "xtrain_tfidf = tfidf_vectorizer.fit_transform(xtrain)\n",
        "xval_tfidf = tfidf_vectorizer.transform(xval)"
      ],
      "execution_count": null,
      "outputs": []
    },
    {
      "cell_type": "markdown",
      "metadata": {
        "id": "x_Ip6ShRze0o",
        "colab_type": "text"
      },
      "source": [
        "Below we define the model. For this example a Logistic Regression is used and a One vs Rest Classifier to determine the relevance of each tag to the article. Thus, for each of the 253 cats it performs an LR and determines the probability of each cat being assigned that specific article, if above a .5 threshold then that is 1 of the labels assigned. This allows for multiple labels being assigned to a single document. "
      ]
    },
    {
      "cell_type": "code",
      "metadata": {
        "id": "GSoDcV7ZJjlQ",
        "colab_type": "code",
        "colab": {}
      },
      "source": [
        "from sklearn.linear_model import LogisticRegression\n",
        "\n",
        "# Binary Relevance\n",
        "from sklearn.multiclass import OneVsRestClassifier\n",
        "\n",
        "# Performance metric\n",
        "from sklearn.metrics import f1_score"
      ],
      "execution_count": null,
      "outputs": []
    },
    {
      "cell_type": "code",
      "metadata": {
        "id": "bTcsYq35OcUr",
        "colab_type": "code",
        "colab": {}
      },
      "source": [
        "lr = LogisticRegression()\n",
        "clf = OneVsRestClassifier(lr)"
      ],
      "execution_count": null,
      "outputs": []
    },
    {
      "cell_type": "markdown",
      "metadata": {
        "id": "01bOj79nm0XN",
        "colab_type": "text"
      },
      "source": [
        "Let's fit the model. "
      ]
    },
    {
      "cell_type": "code",
      "metadata": {
        "id": "58NPLxUFsPH_",
        "colab_type": "code",
        "colab": {}
      },
      "source": [
        "# fit model on train data\n",
        "clf.fit(xtrain_tfidf, ytrain)"
      ],
      "execution_count": null,
      "outputs": []
    },
    {
      "cell_type": "code",
      "metadata": {
        "id": "-C535aNp2Hz5",
        "colab_type": "code",
        "colab": {}
      },
      "source": [
        "# make predictions for validation set\n",
        "y_pred = clf.predict(xval_tfidf)"
      ],
      "execution_count": null,
      "outputs": []
    },
    {
      "cell_type": "markdown",
      "metadata": {
        "id": "qwL7Cy6r0fbh",
        "colab_type": "text"
      },
      "source": [
        "Let's see what the model predicted for an article. It's smaller than our 'cats' model."
      ]
    },
    {
      "cell_type": "code",
      "metadata": {
        "id": "YlXbN1zN4GOA",
        "colab_type": "code",
        "colab": {}
      },
      "source": [
        "y_pred[1]"
      ],
      "execution_count": null,
      "outputs": []
    },
    {
      "cell_type": "markdown",
      "metadata": {
        "id": "IHsJjye50jnn",
        "colab_type": "text"
      },
      "source": [
        "I'm not very good at reading binary so here's the predicted cats. "
      ]
    },
    {
      "cell_type": "code",
      "metadata": {
        "id": "rodtI9Yj2MCl",
        "colab_type": "code",
        "colab": {}
      },
      "source": [
        "multilabel_binarizer.inverse_transform(y_pred)[1]"
      ],
      "execution_count": null,
      "outputs": []
    },
    {
      "cell_type": "markdown",
      "metadata": {
        "id": "bcNnbqh90yRn",
        "colab_type": "text"
      },
      "source": [
        "And here are the actual cats, boom spot on!"
      ]
    },
    {
      "cell_type": "code",
      "metadata": {
        "id": "VyzpQYqJA04Y",
        "colab_type": "code",
        "colab": {}
      },
      "source": [
        "multilabel_binarizer.inverse_transform(yval)[1]"
      ],
      "execution_count": null,
      "outputs": []
    },
    {
      "cell_type": "code",
      "metadata": {
        "id": "IVSkuaYwEsNG",
        "colab_type": "code",
        "colab": {}
      },
      "source": [
        "f1_score(yval, y_pred, average=\"micro\")"
      ],
      "execution_count": null,
      "outputs": []
    },
    {
      "cell_type": "markdown",
      "metadata": {
        "id": "UsWfxFDO1ijL",
        "colab_type": "text"
      },
      "source": [
        "Now let's see how well it does on multiple articles and we'll ask it to print the title of the article for some context. "
      ]
    },
    {
      "cell_type": "code",
      "metadata": {
        "id": "byybDaUrCOln",
        "colab_type": "code",
        "colab": {}
      },
      "source": [
        "def infer_tags(q):\n",
        "    q = clean_text(q)\n",
        "    q = remove_stopwords(q)\n",
        "    q_vec = tfidf_vectorizer.transform([q])\n",
        "    q_pred = clf.predict(q_vec)\n",
        "    return multilabel_binarizer.inverse_transform(q_pred)"
      ],
      "execution_count": null,
      "outputs": []
    },
    {
      "cell_type": "code",
      "metadata": {
        "id": "CFpk8t_yCRG0",
        "colab_type": "code",
        "colab": {}
      },
      "source": [
        "for i in range(5): \n",
        "  k = xval.sample(1).index[0] \n",
        "  print(\"Author: \", df['author'][k], \"\\nPredicted tags: \", infer_tags(xval[k])), print(\"Actual tags: \",df['cats'][k], \"\\n\")"
      ],
      "execution_count": null,
      "outputs": []
    },
    {
      "cell_type": "markdown",
      "metadata": {
        "id": "v3eaV2N7H4xk",
        "colab_type": "text"
      },
      "source": [
        "##Added K-NN Review"
      ]
    },
    {
      "cell_type": "code",
      "metadata": {
        "id": "QZUXJBaOSvpF",
        "colab_type": "code",
        "colab": {
          "base_uri": "https://localhost:8080/",
          "height": 122
        },
        "outputId": "4d6eadfb-bce7-42a2-e34d-eed3ce76601e"
      },
      "source": [
        "!pip install scikit-multilearn"
      ],
      "execution_count": null,
      "outputs": [
        {
          "output_type": "stream",
          "text": [
            "Collecting scikit-multilearn\n",
            "\u001b[?25l  Downloading https://files.pythonhosted.org/packages/bb/1f/e6ff649c72a1cdf2c7a1d31eb21705110ce1c5d3e7e26b2cc300e1637272/scikit_multilearn-0.2.0-py3-none-any.whl (89kB)\n",
            "\r\u001b[K     |███▊                            | 10kB 15.8MB/s eta 0:00:01\r\u001b[K     |███████▍                        | 20kB 1.9MB/s eta 0:00:01\r\u001b[K     |███████████                     | 30kB 2.5MB/s eta 0:00:01\r\u001b[K     |██████████████▊                 | 40kB 2.8MB/s eta 0:00:01\r\u001b[K     |██████████████████▍             | 51kB 2.5MB/s eta 0:00:01\r\u001b[K     |██████████████████████          | 61kB 2.8MB/s eta 0:00:01\r\u001b[K     |█████████████████████████▊      | 71kB 3.0MB/s eta 0:00:01\r\u001b[K     |█████████████████████████████▍  | 81kB 3.4MB/s eta 0:00:01\r\u001b[K     |████████████████████████████████| 92kB 2.7MB/s \n",
            "\u001b[?25hInstalling collected packages: scikit-multilearn\n",
            "Successfully installed scikit-multilearn-0.2.0\n"
          ],
          "name": "stdout"
        }
      ]
    },
    {
      "cell_type": "markdown",
      "metadata": {
        "id": "cFETdnkG3g5o",
        "colab_type": "text"
      },
      "source": [
        "Let's use a multi-label k-nearest neighbor algorithm. "
      ]
    },
    {
      "cell_type": "code",
      "metadata": {
        "id": "OHqOeUBlfXvb",
        "colab_type": "code",
        "colab": {}
      },
      "source": [
        "#import nltk"
      ],
      "execution_count": null,
      "outputs": []
    },
    {
      "cell_type": "code",
      "metadata": {
        "id": "XfoUr8ixfZpx",
        "colab_type": "code",
        "colab": {}
      },
      "source": [
        "from skmultilearn.adapt import MLkNN\n",
        "from scipy.sparse import csr_matrix, lil_matrix"
      ],
      "execution_count": null,
      "outputs": []
    },
    {
      "cell_type": "code",
      "metadata": {
        "id": "dx9Uf4kY5b1e",
        "colab_type": "code",
        "colab": {}
      },
      "source": [
        "classifier_new = MLkNN(k=10)\n",
        "# Note that this classifier can throw up errors when handling sparse matrices.\n",
        "x_train = lil_matrix(xtrain_tfidf).toarray()\n",
        "y_train = lil_matrix(ytrain).toarray()\n",
        "x_test = lil_matrix(xval_tfidf).toarray()\n"
      ],
      "execution_count": null,
      "outputs": []
    },
    {
      "cell_type": "code",
      "metadata": {
        "id": "cj0x1EzwG2-J",
        "colab_type": "code",
        "colab": {}
      },
      "source": [
        "# train\n",
        "classifier_new.fit(x_train, y_train)\n",
        "# predict\n",
        "predictions_new = classifier_new.predict(x_test)"
      ],
      "execution_count": null,
      "outputs": []
    },
    {
      "cell_type": "markdown",
      "metadata": {
        "id": "68rU458T3-LJ",
        "colab_type": "text"
      },
      "source": [
        "## LDA Approach\n",
        "\n",
        "Just to understand the data better I implement an LDA. "
      ]
    },
    {
      "cell_type": "code",
      "metadata": {
        "id": "xzVh7cjVA0xH",
        "colab_type": "code",
        "colab": {
          "base_uri": "https://localhost:8080/",
          "height": 102
        },
        "outputId": "d363bc32-1899-4c56-c93c-bba597f513c2"
      },
      "source": [
        "%tensorflow_version 1.15.0\n",
        "from sklearn.feature_extraction.text import CountVectorizer\n",
        "from sklearn import decomposition\n",
        "import numpy"
      ],
      "execution_count": null,
      "outputs": [
        {
          "output_type": "stream",
          "text": [
            "`%tensorflow_version` only switches the major version: 1.x or 2.x.\n",
            "You set: `1.15.0`. This will be interpreted as: `1.x`.\n",
            "\n",
            "\n",
            "TensorFlow is already loaded. Please restart the runtime to change versions.\n"
          ],
          "name": "stdout"
        }
      ]
    },
    {
      "cell_type": "code",
      "metadata": {
        "id": "P0OSGDFAJ0cQ",
        "colab_type": "code",
        "colab": {
          "base_uri": "https://localhost:8080/",
          "height": 377
        },
        "outputId": "d160099a-faec-4bbe-de4b-ebbe0780dfe4"
      },
      "source": [
        "# create a count vectorizer object \n",
        "count_vect = CountVectorizer(analyzer='word', token_pattern=r'\\w{1,}')\n",
        "count_vect.fit(df['clean_text'])\n",
        "\n",
        "\n",
        "\n",
        "# transform the training and validation data using count vectorizer object\n",
        "xtrain_count =  count_vect.transform(x_train)\n",
        "xvalid_count =  count_vect.transform(x_val)"
      ],
      "execution_count": null,
      "outputs": [
        {
          "output_type": "error",
          "ename": "AttributeError",
          "evalue": "ignored",
          "traceback": [
            "\u001b[0;31m---------------------------------------------------------------------------\u001b[0m",
            "\u001b[0;31mAttributeError\u001b[0m                            Traceback (most recent call last)",
            "\u001b[0;32m<ipython-input-77-c80d9468fd84>\u001b[0m in \u001b[0;36m<module>\u001b[0;34m()\u001b[0m\n\u001b[1;32m      6\u001b[0m \u001b[0;34m\u001b[0m\u001b[0m\n\u001b[1;32m      7\u001b[0m \u001b[0;31m# transform the training and validation data using count vectorizer object\u001b[0m\u001b[0;34m\u001b[0m\u001b[0;34m\u001b[0m\u001b[0;34m\u001b[0m\u001b[0m\n\u001b[0;32m----> 8\u001b[0;31m \u001b[0mxtrain_count\u001b[0m \u001b[0;34m=\u001b[0m  \u001b[0mcount_vect\u001b[0m\u001b[0;34m.\u001b[0m\u001b[0mtransform\u001b[0m\u001b[0;34m(\u001b[0m\u001b[0mx_train\u001b[0m\u001b[0;34m)\u001b[0m\u001b[0;34m\u001b[0m\u001b[0;34m\u001b[0m\u001b[0m\n\u001b[0m\u001b[1;32m      9\u001b[0m \u001b[0mxvalid_count\u001b[0m \u001b[0;34m=\u001b[0m  \u001b[0mcount_vect\u001b[0m\u001b[0;34m.\u001b[0m\u001b[0mtransform\u001b[0m\u001b[0;34m(\u001b[0m\u001b[0mx_val\u001b[0m\u001b[0;34m)\u001b[0m\u001b[0;34m\u001b[0m\u001b[0;34m\u001b[0m\u001b[0m\n",
            "\u001b[0;32m/usr/local/lib/python3.6/dist-packages/sklearn/feature_extraction/text.py\u001b[0m in \u001b[0;36mtransform\u001b[0;34m(self, raw_documents)\u001b[0m\n\u001b[1;32m   1268\u001b[0m \u001b[0;34m\u001b[0m\u001b[0m\n\u001b[1;32m   1269\u001b[0m         \u001b[0;31m# use the same matrix-building strategy as fit_transform\u001b[0m\u001b[0;34m\u001b[0m\u001b[0;34m\u001b[0m\u001b[0;34m\u001b[0m\u001b[0m\n\u001b[0;32m-> 1270\u001b[0;31m         \u001b[0m_\u001b[0m\u001b[0;34m,\u001b[0m \u001b[0mX\u001b[0m \u001b[0;34m=\u001b[0m \u001b[0mself\u001b[0m\u001b[0;34m.\u001b[0m\u001b[0m_count_vocab\u001b[0m\u001b[0;34m(\u001b[0m\u001b[0mraw_documents\u001b[0m\u001b[0;34m,\u001b[0m \u001b[0mfixed_vocab\u001b[0m\u001b[0;34m=\u001b[0m\u001b[0;32mTrue\u001b[0m\u001b[0;34m)\u001b[0m\u001b[0;34m\u001b[0m\u001b[0;34m\u001b[0m\u001b[0m\n\u001b[0m\u001b[1;32m   1271\u001b[0m         \u001b[0;32mif\u001b[0m \u001b[0mself\u001b[0m\u001b[0;34m.\u001b[0m\u001b[0mbinary\u001b[0m\u001b[0;34m:\u001b[0m\u001b[0;34m\u001b[0m\u001b[0;34m\u001b[0m\u001b[0m\n\u001b[1;32m   1272\u001b[0m             \u001b[0mX\u001b[0m\u001b[0;34m.\u001b[0m\u001b[0mdata\u001b[0m\u001b[0;34m.\u001b[0m\u001b[0mfill\u001b[0m\u001b[0;34m(\u001b[0m\u001b[0;36m1\u001b[0m\u001b[0;34m)\u001b[0m\u001b[0;34m\u001b[0m\u001b[0;34m\u001b[0m\u001b[0m\n",
            "\u001b[0;32m/usr/local/lib/python3.6/dist-packages/sklearn/feature_extraction/text.py\u001b[0m in \u001b[0;36m_count_vocab\u001b[0;34m(self, raw_documents, fixed_vocab)\u001b[0m\n\u001b[1;32m   1129\u001b[0m         \u001b[0;32mfor\u001b[0m \u001b[0mdoc\u001b[0m \u001b[0;32min\u001b[0m \u001b[0mraw_documents\u001b[0m\u001b[0;34m:\u001b[0m\u001b[0;34m\u001b[0m\u001b[0;34m\u001b[0m\u001b[0m\n\u001b[1;32m   1130\u001b[0m             \u001b[0mfeature_counter\u001b[0m \u001b[0;34m=\u001b[0m \u001b[0;34m{\u001b[0m\u001b[0;34m}\u001b[0m\u001b[0;34m\u001b[0m\u001b[0;34m\u001b[0m\u001b[0m\n\u001b[0;32m-> 1131\u001b[0;31m             \u001b[0;32mfor\u001b[0m \u001b[0mfeature\u001b[0m \u001b[0;32min\u001b[0m \u001b[0manalyze\u001b[0m\u001b[0;34m(\u001b[0m\u001b[0mdoc\u001b[0m\u001b[0;34m)\u001b[0m\u001b[0;34m:\u001b[0m\u001b[0;34m\u001b[0m\u001b[0;34m\u001b[0m\u001b[0m\n\u001b[0m\u001b[1;32m   1132\u001b[0m                 \u001b[0;32mtry\u001b[0m\u001b[0;34m:\u001b[0m\u001b[0;34m\u001b[0m\u001b[0;34m\u001b[0m\u001b[0m\n\u001b[1;32m   1133\u001b[0m                     \u001b[0mfeature_idx\u001b[0m \u001b[0;34m=\u001b[0m \u001b[0mvocabulary\u001b[0m\u001b[0;34m[\u001b[0m\u001b[0mfeature\u001b[0m\u001b[0;34m]\u001b[0m\u001b[0;34m\u001b[0m\u001b[0;34m\u001b[0m\u001b[0m\n",
            "\u001b[0;32m/usr/local/lib/python3.6/dist-packages/sklearn/feature_extraction/text.py\u001b[0m in \u001b[0;36m_analyze\u001b[0;34m(doc, analyzer, tokenizer, ngrams, preprocessor, decoder, stop_words)\u001b[0m\n\u001b[1;32m    101\u001b[0m     \u001b[0;32melse\u001b[0m\u001b[0;34m:\u001b[0m\u001b[0;34m\u001b[0m\u001b[0;34m\u001b[0m\u001b[0m\n\u001b[1;32m    102\u001b[0m         \u001b[0;32mif\u001b[0m \u001b[0mpreprocessor\u001b[0m \u001b[0;32mis\u001b[0m \u001b[0;32mnot\u001b[0m \u001b[0;32mNone\u001b[0m\u001b[0;34m:\u001b[0m\u001b[0;34m\u001b[0m\u001b[0;34m\u001b[0m\u001b[0m\n\u001b[0;32m--> 103\u001b[0;31m             \u001b[0mdoc\u001b[0m \u001b[0;34m=\u001b[0m \u001b[0mpreprocessor\u001b[0m\u001b[0;34m(\u001b[0m\u001b[0mdoc\u001b[0m\u001b[0;34m)\u001b[0m\u001b[0;34m\u001b[0m\u001b[0;34m\u001b[0m\u001b[0m\n\u001b[0m\u001b[1;32m    104\u001b[0m         \u001b[0;32mif\u001b[0m \u001b[0mtokenizer\u001b[0m \u001b[0;32mis\u001b[0m \u001b[0;32mnot\u001b[0m \u001b[0;32mNone\u001b[0m\u001b[0;34m:\u001b[0m\u001b[0;34m\u001b[0m\u001b[0;34m\u001b[0m\u001b[0m\n\u001b[1;32m    105\u001b[0m             \u001b[0mdoc\u001b[0m \u001b[0;34m=\u001b[0m \u001b[0mtokenizer\u001b[0m\u001b[0;34m(\u001b[0m\u001b[0mdoc\u001b[0m\u001b[0;34m)\u001b[0m\u001b[0;34m\u001b[0m\u001b[0;34m\u001b[0m\u001b[0m\n",
            "\u001b[0;32m/usr/local/lib/python3.6/dist-packages/sklearn/feature_extraction/text.py\u001b[0m in \u001b[0;36m_preprocess\u001b[0;34m(doc, accent_function, lower)\u001b[0m\n\u001b[1;32m     66\u001b[0m     \"\"\"\n\u001b[1;32m     67\u001b[0m     \u001b[0;32mif\u001b[0m \u001b[0mlower\u001b[0m\u001b[0;34m:\u001b[0m\u001b[0;34m\u001b[0m\u001b[0;34m\u001b[0m\u001b[0m\n\u001b[0;32m---> 68\u001b[0;31m         \u001b[0mdoc\u001b[0m \u001b[0;34m=\u001b[0m \u001b[0mdoc\u001b[0m\u001b[0;34m.\u001b[0m\u001b[0mlower\u001b[0m\u001b[0;34m(\u001b[0m\u001b[0;34m)\u001b[0m\u001b[0;34m\u001b[0m\u001b[0;34m\u001b[0m\u001b[0m\n\u001b[0m\u001b[1;32m     69\u001b[0m     \u001b[0;32mif\u001b[0m \u001b[0maccent_function\u001b[0m \u001b[0;32mis\u001b[0m \u001b[0;32mnot\u001b[0m \u001b[0;32mNone\u001b[0m\u001b[0;34m:\u001b[0m\u001b[0;34m\u001b[0m\u001b[0;34m\u001b[0m\u001b[0m\n\u001b[1;32m     70\u001b[0m         \u001b[0mdoc\u001b[0m \u001b[0;34m=\u001b[0m \u001b[0maccent_function\u001b[0m\u001b[0;34m(\u001b[0m\u001b[0mdoc\u001b[0m\u001b[0;34m)\u001b[0m\u001b[0;34m\u001b[0m\u001b[0;34m\u001b[0m\u001b[0m\n",
            "\u001b[0;31mAttributeError\u001b[0m: 'numpy.ndarray' object has no attribute 'lower'"
          ]
        }
      ]
    },
    {
      "cell_type": "markdown",
      "metadata": {
        "id": "05b8YZ8JxTT8",
        "colab_type": "text"
      },
      "source": [
        "Below I use latent Dirichlet allocation to extract topic summaries for the entire data set. "
      ]
    },
    {
      "cell_type": "code",
      "metadata": {
        "id": "_Eo4cvRcKNS0",
        "colab_type": "code",
        "colab": {
          "base_uri": "https://localhost:8080/",
          "height": 251
        },
        "outputId": "0ceccc97-38e9-4e87-a130-f8a9cb62d952"
      },
      "source": [
        "# train a LDA Model\n",
        "lda_model = decomposition.LatentDirichletAllocation(n_components=20, learning_method='online', max_iter=20)\n",
        "X_topics = lda_model.fit_transform(xtrain_count)\n",
        "topic_word = lda_model.components_ \n",
        "vocab = count_vect.get_feature_names()\n",
        "\n"
      ],
      "execution_count": null,
      "outputs": [
        {
          "output_type": "error",
          "ename": "NameError",
          "evalue": "ignored",
          "traceback": [
            "\u001b[0;31m---------------------------------------------------------------------------\u001b[0m",
            "\u001b[0;31mNameError\u001b[0m                                 Traceback (most recent call last)",
            "\u001b[0;32m<ipython-input-69-8445ebba25ae>\u001b[0m in \u001b[0;36m<module>\u001b[0;34m()\u001b[0m\n\u001b[1;32m      1\u001b[0m \u001b[0;31m# train a LDA Model\u001b[0m\u001b[0;34m\u001b[0m\u001b[0;34m\u001b[0m\u001b[0;34m\u001b[0m\u001b[0m\n\u001b[1;32m      2\u001b[0m \u001b[0mlda_model\u001b[0m \u001b[0;34m=\u001b[0m \u001b[0mdecomposition\u001b[0m\u001b[0;34m.\u001b[0m\u001b[0mLatentDirichletAllocation\u001b[0m\u001b[0;34m(\u001b[0m\u001b[0mn_components\u001b[0m\u001b[0;34m=\u001b[0m\u001b[0;36m20\u001b[0m\u001b[0;34m,\u001b[0m \u001b[0mlearning_method\u001b[0m\u001b[0;34m=\u001b[0m\u001b[0;34m'online'\u001b[0m\u001b[0;34m,\u001b[0m \u001b[0mmax_iter\u001b[0m\u001b[0;34m=\u001b[0m\u001b[0;36m20\u001b[0m\u001b[0;34m)\u001b[0m\u001b[0;34m\u001b[0m\u001b[0;34m\u001b[0m\u001b[0m\n\u001b[0;32m----> 3\u001b[0;31m \u001b[0mX_topics\u001b[0m \u001b[0;34m=\u001b[0m \u001b[0mlda_model\u001b[0m\u001b[0;34m.\u001b[0m\u001b[0mfit_transform\u001b[0m\u001b[0;34m(\u001b[0m\u001b[0mxtrain_count\u001b[0m\u001b[0;34m)\u001b[0m\u001b[0;34m\u001b[0m\u001b[0;34m\u001b[0m\u001b[0m\n\u001b[0m\u001b[1;32m      4\u001b[0m \u001b[0mtopic_word\u001b[0m \u001b[0;34m=\u001b[0m \u001b[0mlda_model\u001b[0m\u001b[0;34m.\u001b[0m\u001b[0mcomponents_\u001b[0m\u001b[0;34m\u001b[0m\u001b[0;34m\u001b[0m\u001b[0m\n\u001b[1;32m      5\u001b[0m \u001b[0mvocab\u001b[0m \u001b[0;34m=\u001b[0m \u001b[0mcount_vect\u001b[0m\u001b[0;34m.\u001b[0m\u001b[0mget_feature_names\u001b[0m\u001b[0;34m(\u001b[0m\u001b[0;34m)\u001b[0m\u001b[0;34m\u001b[0m\u001b[0;34m\u001b[0m\u001b[0m\n",
            "\u001b[0;31mNameError\u001b[0m: name 'xtrain_count' is not defined"
          ]
        }
      ]
    },
    {
      "cell_type": "code",
      "metadata": {
        "id": "bZDKi0AC36iC",
        "colab_type": "code",
        "colab": {}
      },
      "source": [
        "# view the topic models\n",
        "n_top_words = 10\n",
        "topic_summaries = []\n",
        "for i, topic_dist in enumerate(topic_word):\n",
        "    topic_words = numpy.array(vocab)[numpy.argsort(topic_dist)][:-(n_top_words+1):-1]\n",
        "    topic_summaries.append(' '.join(topic_words))"
      ],
      "execution_count": null,
      "outputs": []
    },
    {
      "cell_type": "markdown",
      "metadata": {
        "id": "CJqadumbxdOl",
        "colab_type": "text"
      },
      "source": [
        "Below I print out the topic summaries, to get an idea of what the text is about and to find any missing stopwords to add to the dictionary. "
      ]
    },
    {
      "cell_type": "code",
      "metadata": {
        "id": "_iO-EwQmKGFH",
        "colab_type": "code",
        "colab": {}
      },
      "source": [
        "topic_summaries"
      ],
      "execution_count": null,
      "outputs": []
    },
    {
      "cell_type": "markdown",
      "metadata": {
        "id": "NLCVxOrHq_wr",
        "colab_type": "text"
      },
      "source": [
        "## Extra Testing/Accuracy Tries"
      ]
    },
    {
      "cell_type": "code",
      "metadata": {
        "id": "P5aGy5n8hxUa",
        "colab_type": "code",
        "colab": {
          "base_uri": "https://localhost:8080/",
          "height": 34
        },
        "outputId": "1c08d5a1-dc24-4f48-e6d8-f68f409a43c5"
      },
      "source": [
        "\n",
        "# example making new class predictions for a classification problem\n",
        "from keras.models import Sequential\n",
        "from keras.layers import Dense\n",
        "from sklearn.preprocessing import MinMaxScaler\n",
        "\n",
        "y_prob = model.predict(x_val)\n",
        "y_classes = y_prob.argmax(axis = -1)\n",
        "#predicted_labels = sorted(labels)\n",
        "#y_classes\n",
        "\n",
        "# rounded_predictions = model.predict_classes(x_val, verbose=0)\n",
        "# rounded_predictions[1]\n",
        "\n",
        "# y_val[1]"
      ],
      "execution_count": null,
      "outputs": [
        {
          "output_type": "execute_result",
          "data": {
            "text/plain": [
              "array([45, 45, 45, ..., 45, 45, 45])"
            ]
          },
          "metadata": {
            "tags": []
          },
          "execution_count": 78
        }
      ]
    },
    {
      "cell_type": "code",
      "metadata": {
        "id": "jYrPCbBSiPAD",
        "colab_type": "code",
        "colab": {
          "base_uri": "https://localhost:8080/",
          "height": 34
        },
        "outputId": "a21f49c8-dbec-4f16-ccc1-ded716f55481"
      },
      "source": [
        "import numpy as np\n",
        "rounded_labels=np.argmax(y_val, axis=1)\n",
        "rounded_labels[1]"
      ],
      "execution_count": null,
      "outputs": [
        {
          "output_type": "execute_result",
          "data": {
            "text/plain": [
              "115"
            ]
          },
          "metadata": {
            "tags": []
          },
          "execution_count": 80
        }
      ]
    },
    {
      "cell_type": "code",
      "metadata": {
        "id": "Inc4kHIjhxvG",
        "colab_type": "code",
        "colab": {}
      },
      "source": [
        "from sklearn.metrics import confusion_matrix\n",
        "from sklearn import metrics\n",
        "\n",
        "cm = confusion_matrix(rounded_labels, y_classes)\n",
        "cm\n",
        "print(metrics.classification_report(rounded_labels, y_classes))"
      ],
      "execution_count": null,
      "outputs": []
    },
    {
      "cell_type": "code",
      "metadata": {
        "id": "DxW5Xv6HG9Xv",
        "colab_type": "code",
        "colab": {
          "base_uri": "https://localhost:8080/",
          "height": 68
        },
        "outputId": "8278c8e4-bdba-453b-9f4b-d3ac9a48291f"
      },
      "source": [
        "# train = model.evaluate(x_train, y_train, verbose=0)\n",
        "# score = model.evaluate(x_val, y_val, verbose=0)\n",
        "\n",
        "# print('Train accuracy:', train[1])\n",
        "# print('Validation loss:', score[0])\n",
        "# print('Validation accuracy:', score[1])"
      ],
      "execution_count": null,
      "outputs": [
        {
          "output_type": "stream",
          "text": [
            "Train accuracy: 0.15129117667675018\n",
            "Validation loss: 11.842926259341395\n",
            "Validation accuracy: 0.1514054536819458\n"
          ],
          "name": "stdout"
        }
      ]
    },
    {
      "cell_type": "code",
      "metadata": {
        "id": "v28-23pM9b3A",
        "colab_type": "code",
        "colab": {
          "base_uri": "https://localhost:8080/",
          "height": 374
        },
        "outputId": "b7215fc0-db3a-47b7-f66b-d1be90333f8d"
      },
      "source": [
        "import sklearn\n",
        "from sklearn import metrics\n",
        "\n",
        "# Predicted values\n",
        "y_pred = x_train\n",
        "# Actual values\n",
        "y_act = y_train\n",
        "# Printing the confusion matrix\n",
        "# The columns will show the instances predicted for each label,\n",
        "# and the rows will show the actual number of instances for each label.\n",
        "\n",
        "print(metrics.confusion_matrix(y_act, y_pred))\n",
        "# Printing the precision and recall, among other metrics\n",
        "print(metrics.classification_report(y_act, y_pred))"
      ],
      "execution_count": null,
      "outputs": [
        {
          "output_type": "error",
          "ename": "ValueError",
          "evalue": "ignored",
          "traceback": [
            "\u001b[0;31m---------------------------------------------------------------------------\u001b[0m",
            "\u001b[0;31mValueError\u001b[0m                                Traceback (most recent call last)",
            "\u001b[0;32m<ipython-input-83-37c2661b350f>\u001b[0m in \u001b[0;36m<module>\u001b[0;34m()\u001b[0m\n\u001b[1;32m     10\u001b[0m \u001b[0;31m# and the rows will show the actual number of instances for each label.\u001b[0m\u001b[0;34m\u001b[0m\u001b[0;34m\u001b[0m\u001b[0;34m\u001b[0m\u001b[0m\n\u001b[1;32m     11\u001b[0m \u001b[0;34m\u001b[0m\u001b[0m\n\u001b[0;32m---> 12\u001b[0;31m \u001b[0mprint\u001b[0m\u001b[0;34m(\u001b[0m\u001b[0mmetrics\u001b[0m\u001b[0;34m.\u001b[0m\u001b[0mconfusion_matrix\u001b[0m\u001b[0;34m(\u001b[0m\u001b[0my_act\u001b[0m\u001b[0;34m,\u001b[0m \u001b[0my_pred\u001b[0m\u001b[0;34m)\u001b[0m\u001b[0;34m)\u001b[0m\u001b[0;34m\u001b[0m\u001b[0;34m\u001b[0m\u001b[0m\n\u001b[0m\u001b[1;32m     13\u001b[0m \u001b[0;31m# Printing the precision and recall, among other metrics\u001b[0m\u001b[0;34m\u001b[0m\u001b[0;34m\u001b[0m\u001b[0;34m\u001b[0m\u001b[0m\n\u001b[1;32m     14\u001b[0m \u001b[0mprint\u001b[0m\u001b[0;34m(\u001b[0m\u001b[0mmetrics\u001b[0m\u001b[0;34m.\u001b[0m\u001b[0mclassification_report\u001b[0m\u001b[0;34m(\u001b[0m\u001b[0my_act\u001b[0m\u001b[0;34m,\u001b[0m \u001b[0my_pred\u001b[0m\u001b[0;34m)\u001b[0m\u001b[0;34m)\u001b[0m\u001b[0;34m\u001b[0m\u001b[0;34m\u001b[0m\u001b[0m\n",
            "\u001b[0;32m/usr/local/lib/python3.6/dist-packages/sklearn/metrics/_classification.py\u001b[0m in \u001b[0;36mconfusion_matrix\u001b[0;34m(y_true, y_pred, labels, sample_weight, normalize)\u001b[0m\n\u001b[1;32m    266\u001b[0m \u001b[0;34m\u001b[0m\u001b[0m\n\u001b[1;32m    267\u001b[0m     \"\"\"\n\u001b[0;32m--> 268\u001b[0;31m     \u001b[0my_type\u001b[0m\u001b[0;34m,\u001b[0m \u001b[0my_true\u001b[0m\u001b[0;34m,\u001b[0m \u001b[0my_pred\u001b[0m \u001b[0;34m=\u001b[0m \u001b[0m_check_targets\u001b[0m\u001b[0;34m(\u001b[0m\u001b[0my_true\u001b[0m\u001b[0;34m,\u001b[0m \u001b[0my_pred\u001b[0m\u001b[0;34m)\u001b[0m\u001b[0;34m\u001b[0m\u001b[0;34m\u001b[0m\u001b[0m\n\u001b[0m\u001b[1;32m    269\u001b[0m     \u001b[0;32mif\u001b[0m \u001b[0my_type\u001b[0m \u001b[0;32mnot\u001b[0m \u001b[0;32min\u001b[0m \u001b[0;34m(\u001b[0m\u001b[0;34m\"binary\"\u001b[0m\u001b[0;34m,\u001b[0m \u001b[0;34m\"multiclass\"\u001b[0m\u001b[0;34m)\u001b[0m\u001b[0;34m:\u001b[0m\u001b[0;34m\u001b[0m\u001b[0;34m\u001b[0m\u001b[0m\n\u001b[1;32m    270\u001b[0m         \u001b[0;32mraise\u001b[0m \u001b[0mValueError\u001b[0m\u001b[0;34m(\u001b[0m\u001b[0;34m\"%s is not supported\"\u001b[0m \u001b[0;34m%\u001b[0m \u001b[0my_type\u001b[0m\u001b[0;34m)\u001b[0m\u001b[0;34m\u001b[0m\u001b[0;34m\u001b[0m\u001b[0m\n",
            "\u001b[0;32m/usr/local/lib/python3.6/dist-packages/sklearn/metrics/_classification.py\u001b[0m in \u001b[0;36m_check_targets\u001b[0;34m(y_true, y_pred)\u001b[0m\n\u001b[1;32m     88\u001b[0m     \u001b[0;32mif\u001b[0m \u001b[0mlen\u001b[0m\u001b[0;34m(\u001b[0m\u001b[0my_type\u001b[0m\u001b[0;34m)\u001b[0m \u001b[0;34m>\u001b[0m \u001b[0;36m1\u001b[0m\u001b[0;34m:\u001b[0m\u001b[0;34m\u001b[0m\u001b[0;34m\u001b[0m\u001b[0m\n\u001b[1;32m     89\u001b[0m         raise ValueError(\"Classification metrics can't handle a mix of {0} \"\n\u001b[0;32m---> 90\u001b[0;31m                          \"and {1} targets\".format(type_true, type_pred))\n\u001b[0m\u001b[1;32m     91\u001b[0m \u001b[0;34m\u001b[0m\u001b[0m\n\u001b[1;32m     92\u001b[0m     \u001b[0;31m# We can't have more than one value on y_type => The set is no more needed\u001b[0m\u001b[0;34m\u001b[0m\u001b[0;34m\u001b[0m\u001b[0;34m\u001b[0m\u001b[0m\n",
            "\u001b[0;31mValueError\u001b[0m: Classification metrics can't handle a mix of multilabel-indicator and unknown targets"
          ]
        }
      ]
    },
    {
      "cell_type": "code",
      "metadata": {
        "id": "w223_sJGYvO-",
        "colab_type": "code",
        "colab": {
          "base_uri": "https://localhost:8080/",
          "height": 295
        },
        "outputId": "7d92d98b-3d9e-4833-cbbc-b131c233576d"
      },
      "source": [
        "# #review model accuracy by epochs\n",
        "# plt.plot(history.history['acc'])\n",
        "# plt.plot(history.history['val_acc'])\n",
        "# plt.title('model accuracy')\n",
        "# plt.ylabel('accuracy')\n",
        "# plt.xlabel('epoch')\n",
        "# plt.legend(['train', 'validation'], loc='upper left')\n",
        "# plt.show()"
      ],
      "execution_count": null,
      "outputs": [
        {
          "output_type": "display_data",
          "data": {
            "image/png": "[encoded data removed]",
            "text/plain": [
              "<Figure size 432x288 with 1 Axes>"
            ]
          },
          "metadata": {
            "tags": [],
            "needs_background": "light"
          }
        }
      ]
    },
    {
      "cell_type": "code",
      "metadata": {
        "id": "y8uoO_8BYw6z",
        "colab_type": "code",
        "colab": {
          "base_uri": "https://localhost:8080/",
          "height": 295
        },
        "outputId": "bd04b86c-1509-4c88-d169-29c5dfdcf2e9"
      },
      "source": [
        "# #review model loss by epochs\n",
        "# plt.plot(history.history['loss'])\n",
        "# plt.plot(history.history['val_loss'])\n",
        "# plt.title('model loss')\n",
        "# plt.ylabel('loss')\n",
        "# plt.xlabel('epoch')\n",
        "# plt.legend(['train', 'validation'], loc='upper left')\n",
        "# plt.show()"
      ],
      "execution_count": null,
      "outputs": [
        {
          "output_type": "display_data",
          "data": {
            "image/png": "[encoded data removed]",
            "text/plain": [
              "<Figure size 432x288 with 1 Axes>"
            ]
          },
          "metadata": {
            "tags": [],
            "needs_background": "light"
          }
        }
      ]
    },
    {
      "cell_type": "code",
      "metadata": {
        "id": "kEmTCCyp4pr_",
        "colab_type": "code",
        "colab": {}
      },
      "source": [
        "from sklearn.linear_model import LogisticRegression\n",
        "\n",
        "# Binary Relevance\n",
        "from sklearn.multiclass import OneVsRestClassifier"
      ],
      "execution_count": null,
      "outputs": []
    },
    {
      "cell_type": "code",
      "metadata": {
        "id": "r12VOtxNsSkE",
        "colab_type": "code",
        "colab": {}
      },
      "source": [
        "lr = LogisticRegression()\n",
        "clf = OneVsRestClassifier(lr)\n",
        "\n",
        "clf.fit(x_train.reshape(1,-1), y_train.reshape(1,-1))\n",
        "\n",
        "# y_pred = clf.predict(y_train)\n",
        "# y_pred = (y_pred > 0.5) #greater than 0.50 on scale 0 to 1\n",
        "# #print(y_pred)\n",
        "# print(\"classification accuracy:\", sum(pred_eval) / len(pred_eval))\n"
      ],
      "execution_count": null,
      "outputs": []
    },
    {
      "cell_type": "code",
      "metadata": {
        "id": "OfENjPUrPCx1",
        "colab_type": "code",
        "colab": {}
      },
      "source": [
        "#Making confusion matrix that checks accuracy of the model\n",
        "from sklearn import metrics\n",
        "from sklearn.metrics import confusion_matrix\n",
        "cm = confusion_matrix(y_val, x_val)\n",
        "print(cm)"
      ],
      "execution_count": null,
      "outputs": []
    },
    {
      "cell_type": "code",
      "metadata": {
        "id": "n0I427tYXiaF",
        "colab_type": "code",
        "colab": {
          "base_uri": "https://localhost:8080/",
          "height": 374
        },
        "outputId": "43127404-e8f4-47e2-db20-ac13f6e673c4"
      },
      "source": [
        "import sklearn\n",
        "\n",
        "\n",
        "\n",
        "\n",
        "\n",
        "#Making confusion matrix that checks accuracy of the model\n",
        "# from sklearn.metrics import confusion_matrix\n",
        "# cm = confusion_matrix(y_test, y_pred)\n",
        "# print(cm)\n",
        "\n",
        "\n",
        "# # y_test = yval\n",
        "# # y_pred = ytrain\n",
        "# # x_test = xval\n",
        "\n",
        "# prediction = model.predict(xval)\n",
        "# #prediction = model.predict(x_test)\n",
        "# # conf_matrix = sklearn.metrics.confusion_matrix(x_test, y_test)\n",
        "# # print(conf_matrix)\n",
        "\n",
        "\n",
        "# print(metrics.confusion_matrix(x_test, y_test))\n",
        "\n",
        "# print(metrics.classification_report(x_test, y_test))"
      ],
      "execution_count": null,
      "outputs": [
        {
          "output_type": "error",
          "ename": "ValueError",
          "evalue": "ignored",
          "traceback": [
            "\u001b[0;31m---------------------------------------------------------------------------\u001b[0m",
            "\u001b[0;31mValueError\u001b[0m                                Traceback (most recent call last)",
            "\u001b[0;32m<ipython-input-82-7afd7a9dd428>\u001b[0m in \u001b[0;36m<module>\u001b[0;34m()\u001b[0m\n\u001b[1;32m     13\u001b[0m \u001b[0;34m\u001b[0m\u001b[0m\n\u001b[1;32m     14\u001b[0m \u001b[0;34m\u001b[0m\u001b[0m\n\u001b[0;32m---> 15\u001b[0;31m \u001b[0mprint\u001b[0m\u001b[0;34m(\u001b[0m\u001b[0mmetrics\u001b[0m\u001b[0;34m.\u001b[0m\u001b[0mconfusion_matrix\u001b[0m\u001b[0;34m(\u001b[0m\u001b[0mx_test\u001b[0m\u001b[0;34m,\u001b[0m \u001b[0my_test\u001b[0m\u001b[0;34m)\u001b[0m\u001b[0;34m)\u001b[0m\u001b[0;34m\u001b[0m\u001b[0;34m\u001b[0m\u001b[0m\n\u001b[0m\u001b[1;32m     16\u001b[0m \u001b[0;34m\u001b[0m\u001b[0m\n\u001b[1;32m     17\u001b[0m \u001b[0mprint\u001b[0m\u001b[0;34m(\u001b[0m\u001b[0mmetrics\u001b[0m\u001b[0;34m.\u001b[0m\u001b[0mclassification_report\u001b[0m\u001b[0;34m(\u001b[0m\u001b[0mx_test\u001b[0m\u001b[0;34m,\u001b[0m \u001b[0my_test\u001b[0m\u001b[0;34m)\u001b[0m\u001b[0;34m)\u001b[0m\u001b[0;34m\u001b[0m\u001b[0;34m\u001b[0m\u001b[0m\n",
            "\u001b[0;32m/usr/local/lib/python3.6/dist-packages/sklearn/metrics/_classification.py\u001b[0m in \u001b[0;36mconfusion_matrix\u001b[0;34m(y_true, y_pred, labels, sample_weight, normalize)\u001b[0m\n\u001b[1;32m    266\u001b[0m \u001b[0;34m\u001b[0m\u001b[0m\n\u001b[1;32m    267\u001b[0m     \"\"\"\n\u001b[0;32m--> 268\u001b[0;31m     \u001b[0my_type\u001b[0m\u001b[0;34m,\u001b[0m \u001b[0my_true\u001b[0m\u001b[0;34m,\u001b[0m \u001b[0my_pred\u001b[0m \u001b[0;34m=\u001b[0m \u001b[0m_check_targets\u001b[0m\u001b[0;34m(\u001b[0m\u001b[0my_true\u001b[0m\u001b[0;34m,\u001b[0m \u001b[0my_pred\u001b[0m\u001b[0;34m)\u001b[0m\u001b[0;34m\u001b[0m\u001b[0;34m\u001b[0m\u001b[0m\n\u001b[0m\u001b[1;32m    269\u001b[0m     \u001b[0;32mif\u001b[0m \u001b[0my_type\u001b[0m \u001b[0;32mnot\u001b[0m \u001b[0;32min\u001b[0m \u001b[0;34m(\u001b[0m\u001b[0;34m\"binary\"\u001b[0m\u001b[0;34m,\u001b[0m \u001b[0;34m\"multiclass\"\u001b[0m\u001b[0;34m)\u001b[0m\u001b[0;34m:\u001b[0m\u001b[0;34m\u001b[0m\u001b[0;34m\u001b[0m\u001b[0m\n\u001b[1;32m    270\u001b[0m         \u001b[0;32mraise\u001b[0m \u001b[0mValueError\u001b[0m\u001b[0;34m(\u001b[0m\u001b[0;34m\"%s is not supported\"\u001b[0m \u001b[0;34m%\u001b[0m \u001b[0my_type\u001b[0m\u001b[0;34m)\u001b[0m\u001b[0;34m\u001b[0m\u001b[0;34m\u001b[0m\u001b[0m\n",
            "\u001b[0;32m/usr/local/lib/python3.6/dist-packages/sklearn/metrics/_classification.py\u001b[0m in \u001b[0;36m_check_targets\u001b[0;34m(y_true, y_pred)\u001b[0m\n\u001b[1;32m     88\u001b[0m     \u001b[0;32mif\u001b[0m \u001b[0mlen\u001b[0m\u001b[0;34m(\u001b[0m\u001b[0my_type\u001b[0m\u001b[0;34m)\u001b[0m \u001b[0;34m>\u001b[0m \u001b[0;36m1\u001b[0m\u001b[0;34m:\u001b[0m\u001b[0;34m\u001b[0m\u001b[0;34m\u001b[0m\u001b[0m\n\u001b[1;32m     89\u001b[0m         raise ValueError(\"Classification metrics can't handle a mix of {0} \"\n\u001b[0;32m---> 90\u001b[0;31m                          \"and {1} targets\".format(type_true, type_pred))\n\u001b[0m\u001b[1;32m     91\u001b[0m \u001b[0;34m\u001b[0m\u001b[0m\n\u001b[1;32m     92\u001b[0m     \u001b[0;31m# We can't have more than one value on y_type => The set is no more needed\u001b[0m\u001b[0;34m\u001b[0m\u001b[0;34m\u001b[0m\u001b[0;34m\u001b[0m\u001b[0m\n",
            "\u001b[0;31mValueError\u001b[0m: Classification metrics can't handle a mix of unknown and multilabel-indicator targets"
          ]
        }
      ]
    },
    {
      "cell_type": "code",
      "metadata": {
        "id": "YChUcCJ60LXT",
        "colab_type": "code",
        "colab": {
          "base_uri": "https://localhost:8080/",
          "height": 231
        },
        "outputId": "ab883c2d-a6cd-4fa5-9363-70377dbcf313"
      },
      "source": [
        "\n",
        "# history = model.fit(x_train, y_train,\n",
        "#                     validation_data=(x_val, y_val),\n",
        "#                     epochs=1,\n",
        "#                     verbose = 1,\n",
        "#                     batch_size=200)\n",
        "\n",
        "# train = model.evaluate(x_train, y_train, verbose = 1)\n",
        "# score = model.evaluate(x_val, y_val, verbose =0)\n",
        "\n",
        "#prediction = model.predict(x_test) where is x_test coming from? can't find it. \n",
        "\n",
        "\n",
        "print('Train accuracy:', train[1])\n",
        "print('Valication loss:', score[0])\n",
        "print('Validation accuracy:', score[1])"
      ],
      "execution_count": null,
      "outputs": [
        {
          "output_type": "error",
          "ename": "NameError",
          "evalue": "ignored",
          "traceback": [
            "\u001b[0;31m---------------------------------------------------------------------------\u001b[0m",
            "\u001b[0;31mNameError\u001b[0m                                 Traceback (most recent call last)",
            "\u001b[0;32m<ipython-input-89-f232920dda2a>\u001b[0m in \u001b[0;36m<module>\u001b[0;34m()\u001b[0m\n\u001b[1;32m     12\u001b[0m \u001b[0;34m\u001b[0m\u001b[0m\n\u001b[1;32m     13\u001b[0m \u001b[0;34m\u001b[0m\u001b[0m\n\u001b[0;32m---> 14\u001b[0;31m \u001b[0mprint\u001b[0m\u001b[0;34m(\u001b[0m\u001b[0;34m'Train accuracy:'\u001b[0m\u001b[0;34m,\u001b[0m \u001b[0mtrain\u001b[0m\u001b[0;34m[\u001b[0m\u001b[0;36m1\u001b[0m\u001b[0;34m]\u001b[0m\u001b[0;34m)\u001b[0m\u001b[0;34m\u001b[0m\u001b[0;34m\u001b[0m\u001b[0m\n\u001b[0m\u001b[1;32m     15\u001b[0m \u001b[0mprint\u001b[0m\u001b[0;34m(\u001b[0m\u001b[0;34m'Valication loss:'\u001b[0m\u001b[0;34m,\u001b[0m \u001b[0mscore\u001b[0m\u001b[0;34m[\u001b[0m\u001b[0;36m0\u001b[0m\u001b[0;34m]\u001b[0m\u001b[0;34m)\u001b[0m\u001b[0;34m\u001b[0m\u001b[0;34m\u001b[0m\u001b[0m\n\u001b[1;32m     16\u001b[0m \u001b[0mprint\u001b[0m\u001b[0;34m(\u001b[0m\u001b[0;34m'Validation accuracy:'\u001b[0m\u001b[0;34m,\u001b[0m \u001b[0mscore\u001b[0m\u001b[0;34m[\u001b[0m\u001b[0;36m1\u001b[0m\u001b[0;34m]\u001b[0m\u001b[0;34m)\u001b[0m\u001b[0;34m\u001b[0m\u001b[0;34m\u001b[0m\u001b[0m\n",
            "\u001b[0;31mNameError\u001b[0m: name 'train' is not defined"
          ]
        }
      ]
    },
    {
      "cell_type": "code",
      "metadata": {
        "id": "Tt5QlV5wYV8Q",
        "colab_type": "code",
        "colab": {
          "base_uri": "https://localhost:8080/",
          "height": 68
        },
        "outputId": "21d0f55b-e055-4552-d7a5-6a2a904227e6"
      },
      "source": [
        "# Convert predictions\n",
        "predictions_labels = prediction.copy()\n",
        "pred_labels_1D = []\n",
        "labels_1D = []\n",
        "for i in range(len(prediction)):\n",
        "    for j in range(2):\n",
        "        if prediction[i][j] > 0.5:\n",
        "            predictions_labels[i][j] = 1\n",
        "        else:\n",
        "            predictions_labels[i][j] = 0\n",
        "    if prediction[i][0] > 0.5:\n",
        "        pred_labels_1D.append(-1)\n",
        "    else:\n",
        "        pred_labels_1D.append(1)\n",
        "    if y_test[i, 0] == 1: #.iloc deleted this\n",
        "        labels_1D.append(-1)\n",
        "    else:\n",
        "        labels_1D.append(1)\n",
        "\n",
        "pred_eval = [int(labels_1D[i] == pred_labels_1D[i]) for i in range(len(labels_1D))]\n",
        "print(\"classification accuracy:\", sum(pred_eval) / len(pred_eval))\n",
        "\n",
        "conf_matrix = sklearn.metrics.confusion_matrix(labels_1D, pred_labels_1D)\n",
        "print(conf_matrix)"
      ],
      "execution_count": null,
      "outputs": [
        {
          "output_type": "stream",
          "text": [
            "classification accuracy: 0.11178537208559565\n",
            "[[  18    0]\n",
            " [2781  332]]\n"
          ],
          "name": "stdout"
        }
      ]
    },
    {
      "cell_type": "code",
      "metadata": {
        "id": "xBf1M_eF8XVO",
        "colab_type": "code",
        "colab": {
          "base_uri": "https://localhost:8080/",
          "height": 248
        },
        "outputId": "ee5d3904-6289-4636-bb7f-fa7354fe1779"
      },
      "source": [
        ""
      ],
      "execution_count": null,
      "outputs": [
        {
          "output_type": "execute_result",
          "data": {
            "text/plain": [
              "array([[0.10712871, 0.01159143, 0.00391222, ..., 0.46521088, 0.00320926,\n",
              "        0.77347356],\n",
              "       [0.10712871, 0.01159143, 0.00391222, ..., 0.46521088, 0.00320926,\n",
              "        0.77347356],\n",
              "       [0.10712871, 0.01159143, 0.00391222, ..., 0.46521088, 0.00320926,\n",
              "        0.77347356],\n",
              "       ...,\n",
              "       [0.10712871, 0.01159143, 0.00391222, ..., 0.46521088, 0.00320926,\n",
              "        0.77347356],\n",
              "       [0.10712871, 0.01159143, 0.00391222, ..., 0.46521088, 0.00320926,\n",
              "        0.77347356],\n",
              "       [0.10712871, 0.01159143, 0.00391222, ..., 0.46521088, 0.00320926,\n",
              "        0.77347356]], dtype=float32)"
            ]
          },
          "metadata": {
            "tags": []
          },
          "execution_count": 87
        }
      ]
    },
    {
      "cell_type": "code",
      "metadata": {
        "id": "MKLjeukiEIGC",
        "colab_type": "code",
        "colab": {}
      },
      "source": [
        "from sklearn.metrics import classification_report\n",
        "\n",
        "y_pred = model.predict(x_val, batch_size=64, verbose=1)\n",
        "y_pred_bool = np.argmax(y_pred, axis=1)\n",
        "\n",
        "print(classification_report(y_val, y_pred_bool))"
      ],
      "execution_count": null,
      "outputs": []
    }
  ]
}
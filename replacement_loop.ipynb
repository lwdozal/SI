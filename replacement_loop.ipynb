{
  "nbformat": 4,
  "nbformat_minor": 0,
  "metadata": {
    "colab": {
      "name": "replacement_loop.ipynb",
      "provenance": [],
      "collapsed_sections": [
        "Kii9KbrvceWG",
        "WzOingK84OLh"
      ],
      "authorship_tag": "ABX9TyMk/gtbJj3cbG+iJqjkLu1U",
      "include_colab_link": true
    },
    "kernelspec": {
      "name": "python3",
      "display_name": "Python 3"
    }
  },
  "cells": [
    {
      "cell_type": "markdown",
      "metadata": {
        "id": "view-in-github",
        "colab_type": "text"
      },
      "source": [
        "<a href=\"https://colab.research.google.com/github/lwerth/SI/blob/master/replacement_loop.ipynb\" target=\"_parent\"><img src=\"https://colab.research.google.com/assets/colab-badge.svg\" alt=\"Open In Colab\"/></a>"
      ]
    },
    {
      "cell_type": "code",
      "metadata": {
        "id": "frqJ1O65JbvB",
        "colab_type": "code",
        "colab": {}
      },
      "source": [
        "# Laura Werthmann\n",
        "# here I try to implement a find and replace for loop to reduce the classification tags \n",
        "# hopefully this helps with classification accuracy"
      ],
      "execution_count": 34,
      "outputs": []
    },
    {
      "cell_type": "code",
      "metadata": {
        "id": "pdyVOsermwZ5",
        "colab_type": "code",
        "colab": {}
      },
      "source": [
        "#code taken from https://www.kaggle.com/hsankesara/news-classification-using-han/notebook\n",
        "#and\n",
        "#https://colab.research.google.com/drive/1Q2tf4wSQRVq_opjWAYzpbYpPpzcnDaje?usp=sharing\n",
        "#and\n",
        "#https://colab.research.google.com/drive/1Q2tf4wSQRVq_opjWAYzpbYpPpzcnDaje?usp=sharing"
      ],
      "execution_count": 35,
      "outputs": []
    },
    {
      "cell_type": "markdown",
      "metadata": {
        "id": "VdN33RAF4BbQ",
        "colab_type": "text"
      },
      "source": [
        "##Set-up"
      ]
    },
    {
      "cell_type": "code",
      "metadata": {
        "id": "qZp01sKhwv1c",
        "colab_type": "code",
        "colab": {}
      },
      "source": [
        "import pandas as pd\n",
        "import numpy as np\n",
        "from keras.preprocessing.text import Tokenizer,  text_to_word_sequence\n",
        "from keras.engine.topology import Layer\n",
        "from keras import initializers as initializers, regularizers, constraints\n",
        "from keras.callbacks import Callback, ModelCheckpoint\n",
        "from keras.utils.np_utils import to_categorical\n",
        "from keras.layers import Embedding, Input, Dense, LSTM, GRU, Bidirectional, TimeDistributed, Dropout\n",
        "from keras import backend as K\n",
        "from keras import optimizers\n",
        "from keras.models import Model\n",
        "import nltk\n",
        "import re\n",
        "import matplotlib.pyplot as plt\n",
        "import sys\n",
        "from sklearn.metrics import roc_auc_score\n",
        "from nltk import tokenize\n",
        "import seaborn as sns\n",
        "import json\n",
        "from tqdm import tqdm\n",
        "from sklearn.feature_extraction.text import TfidfVectorizer\n",
        "from sklearn.model_selection import train_test_split"
      ],
      "execution_count": 36,
      "outputs": []
    },
    {
      "cell_type": "code",
      "metadata": {
        "id": "0-IvAiQBxPFG",
        "colab_type": "code",
        "colab": {}
      },
      "source": [
        "from sklearn.utils import shuffle"
      ],
      "execution_count": 37,
      "outputs": []
    },
    {
      "cell_type": "code",
      "metadata": {
        "id": "q_zIe_7mqw1z",
        "colab_type": "code",
        "colab": {
          "base_uri": "https://localhost:8080/",
          "height": 34
        },
        "outputId": "598cdfc7-0101-4747-918c-d7579d565992"
      },
      "source": [
        "from google.colab import drive\n",
        "drive.mount('/content/drive')"
      ],
      "execution_count": 38,
      "outputs": [
        {
          "output_type": "stream",
          "text": [
            "Drive already mounted at /content/drive; to attempt to forcibly remount, call drive.mount(\"/content/drive\", force_remount=True).\n"
          ],
          "name": "stdout"
        }
      ]
    },
    {
      "cell_type": "markdown",
      "metadata": {
        "id": "vTQytHgGakY5",
        "colab_type": "text"
      },
      "source": [
        ""
      ]
    },
    {
      "cell_type": "code",
      "metadata": {
        "id": "1TLtyl1dq6u5",
        "colab_type": "code",
        "colab": {
          "base_uri": "https://localhost:8080/",
          "height": 51
        },
        "outputId": "e6b37425-2bee-4202-9748-b7588488592b"
      },
      "source": [
        "%cd /content/drive\n",
        "!ls\n"
      ],
      "execution_count": 39,
      "outputs": [
        {
          "output_type": "stream",
          "text": [
            "/content/drive\n",
            "'My Drive'\n"
          ],
          "name": "stdout"
        }
      ]
    },
    {
      "cell_type": "code",
      "metadata": {
        "id": "ccHo_O2RrEpQ",
        "colab_type": "code",
        "colab": {}
      },
      "source": [
        "import pandas as pd"
      ],
      "execution_count": 40,
      "outputs": []
    },
    {
      "cell_type": "markdown",
      "metadata": {
        "id": "-BI5w-qZ4GdH",
        "colab_type": "text"
      },
      "source": [
        "##Pre-Processing"
      ]
    },
    {
      "cell_type": "markdown",
      "metadata": {
        "id": "DCeYOAgGs7If",
        "colab_type": "text"
      },
      "source": [
        "Let's read in the csv file created from the spider crawl. Make sure encoding is utf-8 and we are dropping rows with no observations. "
      ]
    },
    {
      "cell_type": "code",
      "metadata": {
        "id": "7-h4VGEX19RD",
        "colab_type": "code",
        "colab": {}
      },
      "source": [
        "#df = pd.read_csv('My Drive/Projects/InSightCrime/Insight_Crime/scrape/insight/InsightCrime_News.csv' ).dropna()\n",
        "df = pd.read_csv('My Drive/Projects/InSightCrime/Insight_Crime/scrape/insight/InsightCrime_News.csv', encoding='utf-8').dropna()\n",
        "new_tags = pd.read_excel('My Drive/Projects/InSightCrime/Insight_Crime/categories_v5.xlsx', encoding='utf-8')\n"
      ],
      "execution_count": 41,
      "outputs": []
    },
    {
      "cell_type": "markdown",
      "metadata": {
        "id": "UtL_x6I_yxin",
        "colab_type": "text"
      },
      "source": [
        "\n",
        "Review the number of \"unique\" tags per article. some tags could still be repeated because of their list-like nature."
      ]
    },
    {
      "cell_type": "code",
      "metadata": {
        "id": "udUtYQ_PxmGJ",
        "colab_type": "code",
        "colab": {
          "base_uri": "https://localhost:8080/",
          "height": 34
        },
        "outputId": "e4f664e5-5af3-4fb6-b670-67744d8b61c5"
      },
      "source": [
        "len(df.tags.unique())"
      ],
      "execution_count": 42,
      "outputs": [
        {
          "output_type": "execute_result",
          "data": {
            "text/plain": [
              "5365"
            ]
          },
          "metadata": {
            "tags": []
          },
          "execution_count": 42
        }
      ]
    },
    {
      "cell_type": "code",
      "metadata": {
        "id": "pAflUXFExwRM",
        "colab_type": "code",
        "colab": {
          "base_uri": "https://localhost:8080/",
          "height": 204
        },
        "outputId": "e0e8f7bc-59fa-4acc-a950-77f7d680923a"
      },
      "source": [
        "df.head()"
      ],
      "execution_count": 43,
      "outputs": [
        {
          "output_type": "execute_result",
          "data": {
            "text/html": [
              "<div>\n",
              "<style scoped>\n",
              "    .dataframe tbody tr th:only-of-type {\n",
              "        vertical-align: middle;\n",
              "    }\n",
              "\n",
              "    .dataframe tbody tr th {\n",
              "        vertical-align: top;\n",
              "    }\n",
              "\n",
              "    .dataframe thead th {\n",
              "        text-align: right;\n",
              "    }\n",
              "</style>\n",
              "<table border=\"1\" class=\"dataframe\">\n",
              "  <thead>\n",
              "    <tr style=\"text-align: right;\">\n",
              "      <th></th>\n",
              "      <th>author</th>\n",
              "      <th>content</th>\n",
              "      <th>date</th>\n",
              "      <th>tags</th>\n",
              "      <th>title</th>\n",
              "      <th>type</th>\n",
              "      <th>url</th>\n",
              "    </tr>\n",
              "  </thead>\n",
              "  <tbody>\n",
              "    <tr>\n",
              "      <th>0</th>\n",
              "      <td>Max Radwin</td>\n",
              "      <td>Protests broke out in Bolivia last year in the...</td>\n",
              "      <td>2020-03-09</td>\n",
              "      <td>Bolivia,Cocaine,Elites and Organized Crime,Inf...</td>\n",
              "      <td>Bolivia Investigations Target Members of Evo M...</td>\n",
              "      <td>Analysis</td>\n",
              "      <td>https://www.insightcrime.org/news/analysis/bol...</td>\n",
              "    </tr>\n",
              "    <tr>\n",
              "      <th>1</th>\n",
              "      <td>Chris Dalby</td>\n",
              "      <td>Increased security of containers entering the ...</td>\n",
              "      <td>2020-02-27</td>\n",
              "      <td>Brazil,Cocaine,European Organized Crime,Securi...</td>\n",
              "      <td>Can Port of Antwerp Truly Stem Cocaine Enterin...</td>\n",
              "      <td>Analysis</td>\n",
              "      <td>https://www.insightcrime.org/news/analysis/por...</td>\n",
              "    </tr>\n",
              "    <tr>\n",
              "      <th>2</th>\n",
              "      <td>Chris Dalby and Charlotte Dierkes</td>\n",
              "      <td>The sight of children bearing arms in Guerrero...</td>\n",
              "      <td>2020-02-17</td>\n",
              "      <td>Homicides,Mexico</td>\n",
              "      <td>Los Ardillos Continue Terrorizing Indigenous C...</td>\n",
              "      <td>Analysis</td>\n",
              "      <td>https://www.insightcrime.org/news/analysis/los...</td>\n",
              "    </tr>\n",
              "    <tr>\n",
              "      <th>3</th>\n",
              "      <td>Maria Fernanda Ramírez</td>\n",
              "      <td>Helena is one of the many former FARC members ...</td>\n",
              "      <td>2020-02-04</td>\n",
              "      <td>Colombia,FARC,FARC peace,Gender and Organized ...</td>\n",
              "      <td>Former FARC Guerrillas Recognized as Victims o...</td>\n",
              "      <td>Brief</td>\n",
              "      <td>https://www.insightcrime.org/news/brief/colomb...</td>\n",
              "    </tr>\n",
              "    <tr>\n",
              "      <th>4</th>\n",
              "      <td>Maria Alejandra Navarrete</td>\n",
              "      <td>Luis Del Río Jiménez, alias “el Tío,” or “Seño...</td>\n",
              "      <td>2020-01-21</td>\n",
              "      <td>Colombia,Elites and Organized Crime</td>\n",
              "      <td>Was ‘Señor T’ One of Colombia’s Invisible Drug...</td>\n",
              "      <td>Analysis</td>\n",
              "      <td>https://www.insightcrime.org/news/analysis/sen...</td>\n",
              "    </tr>\n",
              "  </tbody>\n",
              "</table>\n",
              "</div>"
            ],
            "text/plain": [
              "                              author  ...                                                url\n",
              "0                         Max Radwin  ...  https://www.insightcrime.org/news/analysis/bol...\n",
              "1                        Chris Dalby  ...  https://www.insightcrime.org/news/analysis/por...\n",
              "2  Chris Dalby and Charlotte Dierkes  ...  https://www.insightcrime.org/news/analysis/los...\n",
              "3             Maria Fernanda Ramírez  ...  https://www.insightcrime.org/news/brief/colomb...\n",
              "4          Maria Alejandra Navarrete  ...  https://www.insightcrime.org/news/analysis/sen...\n",
              "\n",
              "[5 rows x 7 columns]"
            ]
          },
          "metadata": {
            "tags": []
          },
          "execution_count": 43
        }
      ]
    },
    {
      "cell_type": "code",
      "metadata": {
        "id": "UBpbha7vCx7V",
        "colab_type": "code",
        "colab": {
          "base_uri": "https://localhost:8080/",
          "height": 204
        },
        "outputId": "2decd388-2aec-449c-8f16-933036195ace"
      },
      "source": [
        "new_tags.head()"
      ],
      "execution_count": 44,
      "outputs": [
        {
          "output_type": "execute_result",
          "data": {
            "text/html": [
              "<div>\n",
              "<style scoped>\n",
              "    .dataframe tbody tr th:only-of-type {\n",
              "        vertical-align: middle;\n",
              "    }\n",
              "\n",
              "    .dataframe tbody tr th {\n",
              "        vertical-align: top;\n",
              "    }\n",
              "\n",
              "    .dataframe thead th {\n",
              "        text-align: right;\n",
              "    }\n",
              "</style>\n",
              "<table border=\"1\" class=\"dataframe\">\n",
              "  <thead>\n",
              "    <tr style=\"text-align: right;\">\n",
              "      <th></th>\n",
              "      <th>actor</th>\n",
              "      <th>actor detail</th>\n",
              "      <th>action</th>\n",
              "      <th>action definition</th>\n",
              "      <th>country</th>\n",
              "      <th>Tags</th>\n",
              "    </tr>\n",
              "  </thead>\n",
              "  <tbody>\n",
              "    <tr>\n",
              "      <th>0</th>\n",
              "      <td>Águilas Negras</td>\n",
              "      <td>NaN</td>\n",
              "      <td>Arms Trafficking</td>\n",
              "      <td>The purchase, sale, or illegal transportation ...</td>\n",
              "      <td>Argentina</td>\n",
              "      <td>Arms Trafficking</td>\n",
              "    </tr>\n",
              "    <tr>\n",
              "      <th>1</th>\n",
              "      <td>Amigos dos Amigos</td>\n",
              "      <td>NaN</td>\n",
              "      <td>Contraband</td>\n",
              "      <td>Refers to items that are illegaly sold or tran...</td>\n",
              "      <td>Belize</td>\n",
              "      <td>Contraband</td>\n",
              "    </tr>\n",
              "    <tr>\n",
              "      <th>2</th>\n",
              "      <td>AUC</td>\n",
              "      <td>NaN</td>\n",
              "      <td>Corruption</td>\n",
              "      <td>This category corresponds to the Insight Crime...</td>\n",
              "      <td>Bolivia</td>\n",
              "      <td>Corruption</td>\n",
              "    </tr>\n",
              "    <tr>\n",
              "      <th>3</th>\n",
              "      <td>Autodefensas</td>\n",
              "      <td>NaN</td>\n",
              "      <td>Counterfeit</td>\n",
              "      <td>Fake items, includes: fake money, consumer goo...</td>\n",
              "      <td>Brazil</td>\n",
              "      <td>Counterfeit</td>\n",
              "    </tr>\n",
              "    <tr>\n",
              "      <th>4</th>\n",
              "      <td>Bagdad</td>\n",
              "      <td>NaN</td>\n",
              "      <td>Criminal Migration</td>\n",
              "      <td>The relocation of armed groups, gangs, or cart...</td>\n",
              "      <td>Canada</td>\n",
              "      <td>Criminal Migration</td>\n",
              "    </tr>\n",
              "  </tbody>\n",
              "</table>\n",
              "</div>"
            ],
            "text/plain": [
              "               actor actor detail  ...    country                Tags\n",
              "0     Águilas Negras          NaN  ...  Argentina    Arms Trafficking\n",
              "1  Amigos dos Amigos          NaN  ...     Belize          Contraband\n",
              "2                AUC          NaN  ...    Bolivia          Corruption\n",
              "3       Autodefensas          NaN  ...     Brazil         Counterfeit\n",
              "4             Bagdad          NaN  ...     Canada  Criminal Migration\n",
              "\n",
              "[5 rows x 6 columns]"
            ]
          },
          "metadata": {
            "tags": []
          },
          "execution_count": 44
        }
      ]
    },
    {
      "cell_type": "code",
      "metadata": {
        "id": "3s3LDnyk0lNu",
        "colab_type": "code",
        "colab": {
          "base_uri": "https://localhost:8080/",
          "height": 289
        },
        "outputId": "bc000e9e-63f6-44a8-eae2-dab667d48aec"
      },
      "source": [
        "df['text'] = df['title'] +'. ' +df['content']\n",
        "df.head()"
      ],
      "execution_count": 45,
      "outputs": [
        {
          "output_type": "execute_result",
          "data": {
            "text/html": [
              "<div>\n",
              "<style scoped>\n",
              "    .dataframe tbody tr th:only-of-type {\n",
              "        vertical-align: middle;\n",
              "    }\n",
              "\n",
              "    .dataframe tbody tr th {\n",
              "        vertical-align: top;\n",
              "    }\n",
              "\n",
              "    .dataframe thead th {\n",
              "        text-align: right;\n",
              "    }\n",
              "</style>\n",
              "<table border=\"1\" class=\"dataframe\">\n",
              "  <thead>\n",
              "    <tr style=\"text-align: right;\">\n",
              "      <th></th>\n",
              "      <th>author</th>\n",
              "      <th>content</th>\n",
              "      <th>date</th>\n",
              "      <th>tags</th>\n",
              "      <th>title</th>\n",
              "      <th>type</th>\n",
              "      <th>url</th>\n",
              "      <th>text</th>\n",
              "    </tr>\n",
              "  </thead>\n",
              "  <tbody>\n",
              "    <tr>\n",
              "      <th>0</th>\n",
              "      <td>Max Radwin</td>\n",
              "      <td>Protests broke out in Bolivia last year in the...</td>\n",
              "      <td>2020-03-09</td>\n",
              "      <td>Bolivia,Cocaine,Elites and Organized Crime,Inf...</td>\n",
              "      <td>Bolivia Investigations Target Members of Evo M...</td>\n",
              "      <td>Analysis</td>\n",
              "      <td>https://www.insightcrime.org/news/analysis/bol...</td>\n",
              "      <td>Bolivia Investigations Target Members of Evo M...</td>\n",
              "    </tr>\n",
              "    <tr>\n",
              "      <th>1</th>\n",
              "      <td>Chris Dalby</td>\n",
              "      <td>Increased security of containers entering the ...</td>\n",
              "      <td>2020-02-27</td>\n",
              "      <td>Brazil,Cocaine,European Organized Crime,Securi...</td>\n",
              "      <td>Can Port of Antwerp Truly Stem Cocaine Enterin...</td>\n",
              "      <td>Analysis</td>\n",
              "      <td>https://www.insightcrime.org/news/analysis/por...</td>\n",
              "      <td>Can Port of Antwerp Truly Stem Cocaine Enterin...</td>\n",
              "    </tr>\n",
              "    <tr>\n",
              "      <th>2</th>\n",
              "      <td>Chris Dalby and Charlotte Dierkes</td>\n",
              "      <td>The sight of children bearing arms in Guerrero...</td>\n",
              "      <td>2020-02-17</td>\n",
              "      <td>Homicides,Mexico</td>\n",
              "      <td>Los Ardillos Continue Terrorizing Indigenous C...</td>\n",
              "      <td>Analysis</td>\n",
              "      <td>https://www.insightcrime.org/news/analysis/los...</td>\n",
              "      <td>Los Ardillos Continue Terrorizing Indigenous C...</td>\n",
              "    </tr>\n",
              "    <tr>\n",
              "      <th>3</th>\n",
              "      <td>Maria Fernanda Ramírez</td>\n",
              "      <td>Helena is one of the many former FARC members ...</td>\n",
              "      <td>2020-02-04</td>\n",
              "      <td>Colombia,FARC,FARC peace,Gender and Organized ...</td>\n",
              "      <td>Former FARC Guerrillas Recognized as Victims o...</td>\n",
              "      <td>Brief</td>\n",
              "      <td>https://www.insightcrime.org/news/brief/colomb...</td>\n",
              "      <td>Former FARC Guerrillas Recognized as Victims o...</td>\n",
              "    </tr>\n",
              "    <tr>\n",
              "      <th>4</th>\n",
              "      <td>Maria Alejandra Navarrete</td>\n",
              "      <td>Luis Del Río Jiménez, alias “el Tío,” or “Seño...</td>\n",
              "      <td>2020-01-21</td>\n",
              "      <td>Colombia,Elites and Organized Crime</td>\n",
              "      <td>Was ‘Señor T’ One of Colombia’s Invisible Drug...</td>\n",
              "      <td>Analysis</td>\n",
              "      <td>https://www.insightcrime.org/news/analysis/sen...</td>\n",
              "      <td>Was ‘Señor T’ One of Colombia’s Invisible Drug...</td>\n",
              "    </tr>\n",
              "  </tbody>\n",
              "</table>\n",
              "</div>"
            ],
            "text/plain": [
              "                              author  ...                                               text\n",
              "0                         Max Radwin  ...  Bolivia Investigations Target Members of Evo M...\n",
              "1                        Chris Dalby  ...  Can Port of Antwerp Truly Stem Cocaine Enterin...\n",
              "2  Chris Dalby and Charlotte Dierkes  ...  Los Ardillos Continue Terrorizing Indigenous C...\n",
              "3             Maria Fernanda Ramírez  ...  Former FARC Guerrillas Recognized as Victims o...\n",
              "4          Maria Alejandra Navarrete  ...  Was ‘Señor T’ One of Colombia’s Invisible Drug...\n",
              "\n",
              "[5 rows x 8 columns]"
            ]
          },
          "metadata": {
            "tags": []
          },
          "execution_count": 45
        }
      ]
    },
    {
      "cell_type": "markdown",
      "metadata": {
        "id": "5rc1h3lYycI6",
        "colab_type": "text"
      },
      "source": [
        "Check for reduncancies and replace them.\n",
        "\n",
        "The accents are not counted as redundant here"
      ]
    },
    {
      "cell_type": "code",
      "metadata": {
        "id": "zSC6lffNx0TN",
        "colab_type": "code",
        "colab": {
          "base_uri": "https://localhost:8080/",
          "height": 119
        },
        "outputId": "64d47296-15b9-4a86-9f69-54510d6a8472"
      },
      "source": [
        "df.tags.unique()"
      ],
      "execution_count": 46,
      "outputs": [
        {
          "output_type": "execute_result",
          "data": {
            "text/plain": [
              "array(['Bolivia,Cocaine,Elites and Organized Crime,Infographics',\n",
              "       'Brazil,Cocaine,European Organized Crime,Security Policy,Suriname',\n",
              "       'Homicides,Mexico', ...,\n",
              "       'Colombia,Oficina de Envigado,Sebastián (oficina)',\n",
              "       'Cartel de Juárez,Cartel de Sinaloa,El Chapo,Homicidios,México',\n",
              "       'Costa Rica,Lavado de dinero,Nicaragua'], dtype=object)"
            ]
          },
          "metadata": {
            "tags": []
          },
          "execution_count": 46
        }
      ]
    },
    {
      "cell_type": "code",
      "metadata": {
        "id": "CuakjylEC5cw",
        "colab_type": "code",
        "colab": {
          "base_uri": "https://localhost:8080/",
          "height": 34
        },
        "outputId": "a967936f-4a6a-416d-b5f0-2b32ee89f116"
      },
      "source": [
        "len(df.tags.unique())"
      ],
      "execution_count": 65,
      "outputs": [
        {
          "output_type": "execute_result",
          "data": {
            "text/plain": [
              "5361"
            ]
          },
          "metadata": {
            "tags": []
          },
          "execution_count": 65
        }
      ]
    },
    {
      "cell_type": "code",
      "metadata": {
        "id": "JdDh44ICx91T",
        "colab_type": "code",
        "colab": {}
      },
      "source": [
        "#df.tags = df.tags.map(lambda x: \"Juarez\" if x == \"Juárez\" else x)\n",
        "df.tags = df.tags.map(lambda x: \"Elites and Organized Crime\" if x == \"Élites y Crimen Organizado\" else x)\n",
        "df.tags = df.tags.map(lambda x: \"Mexico\" if x == \"México\" else x)\n",
        "df.tags = df.tags.map(lambda x: \"Brazil\" if x == \"Brasil\" else x)\n",
        "#df.tags = df.tags.map(lambda x: \"Human Rights\" if x == \"Derechos Humanos\" else x)\n",
        "df.tags = df.tags.map(lambda x: \"Peru\" if x == \"Perú\" else x)\n",
        "#df.tags = df.tags.map(lambda x: \"Sinaloa Cartel\" if x == \"Cartel de Sinaloa\" else x)\n",
        "# df.tags = df.tags.map(lambda x: \"FARC peace\" if x == \"Paz FARC\" else x)\n",
        "# df.tags = df.tags.map(lambda x: \"Money Laudering\" if x == \"Lavado de dinero\" else x)"
      ],
      "execution_count": 64,
      "outputs": []
    },
    {
      "cell_type": "code",
      "metadata": {
        "id": "RPki0CGN5OQH",
        "colab_type": "code",
        "colab": {
          "base_uri": "https://localhost:8080/",
          "height": 119
        },
        "outputId": "5698e5f0-fe9f-4bab-dd6d-a370e46e1559"
      },
      "source": [
        "df.tags.unique()"
      ],
      "execution_count": 54,
      "outputs": [
        {
          "output_type": "execute_result",
          "data": {
            "text/plain": [
              "array(['Bolivia,Cocaine,Elites and Organized Crime,Infographics',\n",
              "       'Brazil,Cocaine,European Organized Crime,Security Policy,Suriname',\n",
              "       'Homicides,Mexico', ...,\n",
              "       'Colombia,Oficina de Envigado,Sebastián (oficina)',\n",
              "       'Cartel de Juárez,Cartel de Sinaloa,El Chapo,Homicidios,México',\n",
              "       'Costa Rica,Lavado de dinero,Nicaragua'], dtype=object)"
            ]
          },
          "metadata": {
            "tags": []
          },
          "execution_count": 54
        }
      ]
    },
    {
      "cell_type": "code",
      "metadata": {
        "id": "I4uwZqr4EhMK",
        "colab_type": "code",
        "colab": {
          "base_uri": "https://localhost:8080/",
          "height": 34
        },
        "outputId": "19191d2e-0b77-4e5a-9ea3-3ccf580661da"
      },
      "source": [
        "len(df.tags.unique())"
      ],
      "execution_count": 52,
      "outputs": [
        {
          "output_type": "execute_result",
          "data": {
            "text/plain": [
              "5363"
            ]
          },
          "metadata": {
            "tags": []
          },
          "execution_count": 52
        }
      ]
    },
    {
      "cell_type": "code",
      "metadata": {
        "id": "O1idu1NEzq52",
        "colab_type": "code",
        "colab": {}
      },
      "source": [
        "df['cats'] = df.tags.str.split(\",\", expand=False)"
      ],
      "execution_count": 58,
      "outputs": []
    },
    {
      "cell_type": "code",
      "metadata": {
        "id": "0JFeADzj0hM4",
        "colab_type": "code",
        "colab": {
          "base_uri": "https://localhost:8080/",
          "height": 34
        },
        "outputId": "b4a2f441-3808-4e16-ba7d-08aa837bb647"
      },
      "source": [
        "df['cats'][0]\n"
      ],
      "execution_count": 72,
      "outputs": [
        {
          "output_type": "execute_result",
          "data": {
            "text/plain": [
              "['Bolivia', 'Cocaine', 'Elites and Organized Crime', 'Infographics']"
            ]
          },
          "metadata": {
            "tags": []
          },
          "execution_count": 72
        }
      ]
    },
    {
      "cell_type": "code",
      "metadata": {
        "id": "s7Ra0QN93WTt",
        "colab_type": "code",
        "colab": {}
      },
      "source": [
        "# df.cats = df.cats.map(lambda x: \"Elites and Organized Crime\" if x == \"Élites y Crimen Organizado\" else x)\n",
        "# df.cats = df.cats.map(lambda x: \"Mexico\" if x == \"México\" else x)\n",
        "# df.cats = df.cats.map(lambda x: \"Brazil\" if x == \"Brasil\" else x)\n",
        "# df.cats = df.cats.map(lambda x: \"Human Rights\" if x == \"Derechos Humanos\" else x)\n",
        "# df.cats = df.cats.map(lambda x: \"Peru\" if x == \"Perú\" else x)\n",
        "# df.cats = df.cats.map(lambda x: \"Sinaloa Cartel\" if x == \"Cartel de Sinaloa\" else x)\n",
        "# df.cats = df.cats.map(lambda x: \"FARC peace\" if x == \"Paz FARC\" else x)"
      ],
      "execution_count": 31,
      "outputs": []
    },
    {
      "cell_type": "code",
      "metadata": {
        "id": "hEEqRtM6pI9w",
        "colab_type": "code",
        "colab": {}
      },
      "source": [
        "def cambios(nuevo, original):\n",
        "  df['cats'].map(lambda x: str(nuevo) if x == str(original) else x)\n",
        "  return None\n",
        "\n",
        "  cambios(\"Elites and Organized Crime\",\"Élites y Crimen Organizado\")\n",
        "  cambios('corruption', 'Elites and Organized Crime')\n",
        "  cambios(\"Mexico\", \"México\")\n",
        "  cambios(\"Brazil\",\"Brasil\")\n",
        "  cambios(\"Human Rights\",\"Derechos Humanos\")\n",
        "  cambios(\"Peru\",\"Perú\")\n",
        "  cambios(\"Sinaloa Cartel\",\"Cartel de Sinaloa\")\n",
        "  cambios(\"FARC peace\",\"Paz FARC\")\n",
        "  cambios(\"Money Laundering\", \"Lavado de dinero\")\n"
      ],
      "execution_count": 75,
      "outputs": []
    },
    {
      "cell_type": "code",
      "metadata": {
        "id": "XZslTaUSJff6",
        "colab_type": "code",
        "colab": {}
      },
      "source": [
        "categories = df['cats']\n",
        "categorias = df.tags\n",
        "\n",
        "def cambios(nuevo, original):\n",
        "  for i in (categorias.index):\n",
        "    categorias.map(lambda x: str(nuevo) if x == str(original) else x)\n",
        "    print('we changed', original, \"to\", nuevo)\n",
        "    return categorias.map(lambda x: str(nuevo) if x == str(original) else x)\n",
        "\n",
        "  cambios(\"Elites and Organized Crime\",\"Élites y Crimen Organizado\")\n",
        "  cambios('corruption', 'Elites and Organized Crime')\n",
        "  cambios(\"Mexico\", \"México\")\n",
        "  cambios(\"Brazil\",\"Brasil\")\n",
        "  cambios(\"Human Rights\",\"Derechos Humanos\")\n",
        "  cambios(\"Peru\",\"Perú\")\n",
        "  cambios(\"Sinaloa Cartel\",\"Cartel de Sinaloa\")\n",
        "  cambios(\"FARC peace\",\"Paz FARC\")\n",
        "  cambios(\"Money Laundering\", \"Lavado de dinero\")"
      ],
      "execution_count": 84,
      "outputs": []
    },
    {
      "cell_type": "code",
      "metadata": {
        "id": "boKs2LuWCcJW",
        "colab_type": "code",
        "colab": {
          "base_uri": "https://localhost:8080/",
          "height": 221
        },
        "outputId": "06ddaf39-4df9-4172-bf2d-728c28fa0da4"
      },
      "source": [
        "df.tags.unique"
      ],
      "execution_count": 85,
      "outputs": [
        {
          "output_type": "execute_result",
          "data": {
            "text/plain": [
              "<bound method Series.unique of 0        Bolivia,Cocaine,Elites and Organized Crime,Inf...\n",
              "1        Brazil,Cocaine,European Organized Crime,Securi...\n",
              "2                                         Homicides,Mexico\n",
              "3        Colombia,FARC,FARC peace,Gender and Organized ...\n",
              "4                      Colombia,Elites and Organized Crime\n",
              "                               ...                        \n",
              "15764                            El Loco Barrera,Venezuela\n",
              "15765                  Frontera EU/México,Tráfico de armas\n",
              "15766                Costa Rica,Lavado de dinero,Nicaragua\n",
              "15767                                               Mexico\n",
              "15768                                              Uruguay\n",
              "Name: tags, Length: 15655, dtype: object>"
            ]
          },
          "metadata": {
            "tags": []
          },
          "execution_count": 85
        }
      ]
    },
    {
      "cell_type": "code",
      "metadata": {
        "id": "KOzU2rEuOyFg",
        "colab_type": "code",
        "colab": {
          "base_uri": "https://localhost:8080/",
          "height": 204
        },
        "outputId": "e91cfaff-ec65-46da-c14f-e6446c43a956"
      },
      "source": [
        "new_tags = new_tags[['actor','actor detail', 'action', 'country','Tags']]\n",
        "new_tags['combined_tags'] = new_tags['Tags']\n",
        "new_tags = new_tags[['actor', 'actor detail', 'action', 'country', 'combined_tags']]\n",
        "new_tags.head()"
      ],
      "execution_count": null,
      "outputs": [
        {
          "output_type": "execute_result",
          "data": {
            "text/html": [
              "<div>\n",
              "<style scoped>\n",
              "    .dataframe tbody tr th:only-of-type {\n",
              "        vertical-align: middle;\n",
              "    }\n",
              "\n",
              "    .dataframe tbody tr th {\n",
              "        vertical-align: top;\n",
              "    }\n",
              "\n",
              "    .dataframe thead th {\n",
              "        text-align: right;\n",
              "    }\n",
              "</style>\n",
              "<table border=\"1\" class=\"dataframe\">\n",
              "  <thead>\n",
              "    <tr style=\"text-align: right;\">\n",
              "      <th></th>\n",
              "      <th>actor</th>\n",
              "      <th>actor detail</th>\n",
              "      <th>action</th>\n",
              "      <th>country</th>\n",
              "      <th>combined_tags</th>\n",
              "    </tr>\n",
              "  </thead>\n",
              "  <tbody>\n",
              "    <tr>\n",
              "      <th>0</th>\n",
              "      <td>Águilas Negras</td>\n",
              "      <td>NaN</td>\n",
              "      <td>Arms Trafficking</td>\n",
              "      <td>Argentina</td>\n",
              "      <td>Arms Trafficking</td>\n",
              "    </tr>\n",
              "    <tr>\n",
              "      <th>1</th>\n",
              "      <td>Amigos dos Amigos</td>\n",
              "      <td>NaN</td>\n",
              "      <td>Contraband</td>\n",
              "      <td>Belize</td>\n",
              "      <td>Contraband</td>\n",
              "    </tr>\n",
              "    <tr>\n",
              "      <th>2</th>\n",
              "      <td>AUC</td>\n",
              "      <td>NaN</td>\n",
              "      <td>Corruption</td>\n",
              "      <td>Bolivia</td>\n",
              "      <td>Corruption</td>\n",
              "    </tr>\n",
              "    <tr>\n",
              "      <th>3</th>\n",
              "      <td>Autodefensas</td>\n",
              "      <td>NaN</td>\n",
              "      <td>Counterfeit</td>\n",
              "      <td>Brazil</td>\n",
              "      <td>Counterfeit</td>\n",
              "    </tr>\n",
              "    <tr>\n",
              "      <th>4</th>\n",
              "      <td>Bagdad</td>\n",
              "      <td>NaN</td>\n",
              "      <td>Criminal Migration</td>\n",
              "      <td>Canada</td>\n",
              "      <td>Criminal Migration</td>\n",
              "    </tr>\n",
              "  </tbody>\n",
              "</table>\n",
              "</div>"
            ],
            "text/plain": [
              "               actor actor detail  ...    country       combined_tags\n",
              "0     Águilas Negras          NaN  ...  Argentina    Arms Trafficking\n",
              "1  Amigos dos Amigos          NaN  ...     Belize          Contraband\n",
              "2                AUC          NaN  ...    Bolivia          Corruption\n",
              "3       Autodefensas          NaN  ...     Brazil         Counterfeit\n",
              "4             Bagdad          NaN  ...     Canada  Criminal Migration\n",
              "\n",
              "[5 rows x 5 columns]"
            ]
          },
          "metadata": {
            "tags": []
          },
          "execution_count": 70
        }
      ]
    },
    {
      "cell_type": "code",
      "metadata": {
        "id": "uZTR2XTH4Clj",
        "colab_type": "code",
        "colab": {
          "base_uri": "https://localhost:8080/",
          "height": 391
        },
        "outputId": "100142b9-5523-4146-840e-f12214ecb642"
      },
      "source": [
        "#merge the datasets\n",
        "new = pd.concat([df, new_tags], axis=1, sort=False)\n",
        "new.head()"
      ],
      "execution_count": null,
      "outputs": [
        {
          "output_type": "execute_result",
          "data": {
            "text/html": [
              "<div>\n",
              "<style scoped>\n",
              "    .dataframe tbody tr th:only-of-type {\n",
              "        vertical-align: middle;\n",
              "    }\n",
              "\n",
              "    .dataframe tbody tr th {\n",
              "        vertical-align: top;\n",
              "    }\n",
              "\n",
              "    .dataframe thead th {\n",
              "        text-align: right;\n",
              "    }\n",
              "</style>\n",
              "<table border=\"1\" class=\"dataframe\">\n",
              "  <thead>\n",
              "    <tr style=\"text-align: right;\">\n",
              "      <th></th>\n",
              "      <th>author</th>\n",
              "      <th>content</th>\n",
              "      <th>date</th>\n",
              "      <th>tags</th>\n",
              "      <th>title</th>\n",
              "      <th>type</th>\n",
              "      <th>url</th>\n",
              "      <th>text</th>\n",
              "      <th>cats</th>\n",
              "      <th>actor</th>\n",
              "      <th>action</th>\n",
              "      <th>country</th>\n",
              "      <th>combined_tags</th>\n",
              "    </tr>\n",
              "  </thead>\n",
              "  <tbody>\n",
              "    <tr>\n",
              "      <th>0</th>\n",
              "      <td>Max Radwin</td>\n",
              "      <td>Protests broke out in Bolivia last year in the...</td>\n",
              "      <td>2020-03-09</td>\n",
              "      <td>Bolivia,Cocaine,Elites and Organized Crime,Inf...</td>\n",
              "      <td>Bolivia Investigations Target Members of Evo M...</td>\n",
              "      <td>Analysis</td>\n",
              "      <td>https://www.insightcrime.org/news/analysis/bol...</td>\n",
              "      <td>Bolivia Investigations Target Members of Evo M...</td>\n",
              "      <td>[Bolivia, Cocaine, Elites and Organized Crime,...</td>\n",
              "      <td>Águilas Negras</td>\n",
              "      <td>Arms Trafficking</td>\n",
              "      <td>Argentina</td>\n",
              "      <td>Arms Trafficking</td>\n",
              "    </tr>\n",
              "    <tr>\n",
              "      <th>1</th>\n",
              "      <td>Chris Dalby</td>\n",
              "      <td>Increased security of containers entering the ...</td>\n",
              "      <td>2020-02-27</td>\n",
              "      <td>Brazil,Cocaine,European Organized Crime,Securi...</td>\n",
              "      <td>Can Port of Antwerp Truly Stem Cocaine Enterin...</td>\n",
              "      <td>Analysis</td>\n",
              "      <td>https://www.insightcrime.org/news/analysis/por...</td>\n",
              "      <td>Can Port of Antwerp Truly Stem Cocaine Enterin...</td>\n",
              "      <td>[Brazil, Cocaine, European Organized Crime, Se...</td>\n",
              "      <td>Amigos dos Amigos</td>\n",
              "      <td>Contraband</td>\n",
              "      <td>Belize</td>\n",
              "      <td>Contraband</td>\n",
              "    </tr>\n",
              "    <tr>\n",
              "      <th>2</th>\n",
              "      <td>Chris Dalby and Charlotte Dierkes</td>\n",
              "      <td>The sight of children bearing arms in Guerrero...</td>\n",
              "      <td>2020-02-17</td>\n",
              "      <td>Homicides,Mexico</td>\n",
              "      <td>Los Ardillos Continue Terrorizing Indigenous C...</td>\n",
              "      <td>Analysis</td>\n",
              "      <td>https://www.insightcrime.org/news/analysis/los...</td>\n",
              "      <td>Los Ardillos Continue Terrorizing Indigenous C...</td>\n",
              "      <td>[Homicides, Mexico]</td>\n",
              "      <td>AUC</td>\n",
              "      <td>Corruption</td>\n",
              "      <td>Bolivia</td>\n",
              "      <td>Corruption</td>\n",
              "    </tr>\n",
              "    <tr>\n",
              "      <th>3</th>\n",
              "      <td>Maria Fernanda Ramírez</td>\n",
              "      <td>Helena is one of the many former FARC members ...</td>\n",
              "      <td>2020-02-04</td>\n",
              "      <td>Colombia,FARC,FARC peace,Gender and Organized ...</td>\n",
              "      <td>Former FARC Guerrillas Recognized as Victims o...</td>\n",
              "      <td>Brief</td>\n",
              "      <td>https://www.insightcrime.org/news/brief/colomb...</td>\n",
              "      <td>Former FARC Guerrillas Recognized as Victims o...</td>\n",
              "      <td>[Colombia, FARC, FARC peace, Gender and Organi...</td>\n",
              "      <td>Autodefensas</td>\n",
              "      <td>Counterfeit</td>\n",
              "      <td>Brazil</td>\n",
              "      <td>Counterfeit</td>\n",
              "    </tr>\n",
              "    <tr>\n",
              "      <th>4</th>\n",
              "      <td>Maria Alejandra Navarrete</td>\n",
              "      <td>Luis Del Río Jiménez, alias “el Tío,” or “Seño...</td>\n",
              "      <td>2020-01-21</td>\n",
              "      <td>Colombia,Elites and Organized Crime</td>\n",
              "      <td>Was ‘Señor T’ One of Colombia’s Invisible Drug...</td>\n",
              "      <td>Analysis</td>\n",
              "      <td>https://www.insightcrime.org/news/analysis/sen...</td>\n",
              "      <td>Was ‘Señor T’ One of Colombia’s Invisible Drug...</td>\n",
              "      <td>[Colombia, Elites and Organized Crime]</td>\n",
              "      <td>Bagdad</td>\n",
              "      <td>Criminal Migration</td>\n",
              "      <td>Canada</td>\n",
              "      <td>Criminal Migration</td>\n",
              "    </tr>\n",
              "  </tbody>\n",
              "</table>\n",
              "</div>"
            ],
            "text/plain": [
              "                              author  ...       combined_tags\n",
              "0                         Max Radwin  ...    Arms Trafficking\n",
              "1                        Chris Dalby  ...          Contraband\n",
              "2  Chris Dalby and Charlotte Dierkes  ...          Corruption\n",
              "3             Maria Fernanda Ramírez  ...         Counterfeit\n",
              "4          Maria Alejandra Navarrete  ...  Criminal Migration\n",
              "\n",
              "[5 rows x 13 columns]"
            ]
          },
          "metadata": {
            "tags": []
          },
          "execution_count": 23
        }
      ]
    },
    {
      "cell_type": "markdown",
      "metadata": {
        "id": "EWFah71T2X7O",
        "colab_type": "text"
      },
      "source": [
        "##Replacement Tries\n"
      ]
    },
    {
      "cell_type": "code",
      "metadata": {
        "id": "ZeBsnVySEEq7",
        "colab_type": "code",
        "colab": {}
      },
      "source": [
        "#Sample Code\n",
        "\n",
        "for i in range(len(a)):\n",
        "    # you can do intersection/comparisons more easily with sets\n",
        "    set_a = set(a[i])\n",
        "    set_b = set(b[i])\n",
        "    this_c_diff = set_a.difference(set_b)\n",
        "    c_diff.append(list(this_c_diff))\n",
        "print(np.array(c_diff))\n",
        "\n",
        "#///////////////////////////////////////////////////\n",
        "for i in range(len(series.index)):\n",
        "    for key in label_dict:\n",
        "        if series.iloc[i] in label_dict[key]:\n",
        "            series_copy.iloc[i] = key"
      ],
      "execution_count": null,
      "outputs": []
    },
    {
      "cell_type": "code",
      "metadata": {
        "id": "xtbku4drA4SJ",
        "colab_type": "code",
        "colab": {}
      },
      "source": [
        "'''\n",
        "I want to reduce the article tags to already decided genre tags. \n",
        "Each cell can have multiple tags, I want to single out each tag and replace it \n",
        "with a reduced tag if necessary.\n",
        "They don't match up evenly so I need to find a way to replace the tags. \n",
        "They are originally separated into genres, but I combined them to keep \n",
        "one list of all the redecued tags.\n",
        "I might go one genre at a time, i.e. actor, action, country\n",
        "I'm going to start with country because that might be the easiest to work with\n",
        "\n",
        "'''\n",
        "\n",
        "def reduce_replace(series, country):\n",
        "  country = new_tags['country']\n",
        "  series = df['cats']\n",
        "  series_copy = []\n",
        "  #tag_country = []\n",
        "\n",
        "  \n",
        "  for i in range(len(series.index)):\n",
        "    for key in country:\n",
        "      if series.iloc[i] in country[key]:\n",
        "        series_copy.iloc[i] = key\n",
        "      print(np.array(reduce_replace))\n",
        "      print(series_copy)\n"
      ],
      "execution_count": null,
      "outputs": []
    },
    {
      "cell_type": "code",
      "metadata": {
        "id": "ceExeR82k1V0",
        "colab_type": "code",
        "colab": {}
      },
      "source": [
        "# new_tags['tags'] = new_tags.combined_tags\n",
        "# df_outer = pd.merge(df, new_tags, on= 'tags', how='outer', suffixes=('_og', '_new') )\n",
        "# df_outer"
      ],
      "execution_count": null,
      "outputs": []
    },
    {
      "cell_type": "code",
      "metadata": {
        "id": "fRBDubRm4RoH",
        "colab_type": "code",
        "colab": {
          "base_uri": "https://localhost:8080/",
          "height": 221
        },
        "outputId": "86a989e3-c0fc-4a02-edad-a19a344d304a"
      },
      "source": [
        "string = df.cats\n",
        "actor_mappings = new_tags.combined_tags.iloc\n",
        "\n",
        "def keymap_replace(\n",
        "    string: str, \n",
        "    actor_mappings: dict,\n",
        "    *,\n",
        "    lower_keys=False,\n",
        "    lower_values=False,\n",
        "    lower_string=False,\n",
        ") -> str:\n",
        "    replaced_string = string.lower() if lower_string else string\n",
        "    for character, replacement in actor_mappings.items():\n",
        "        replaced_string = replaced_string.replace(\n",
        "            character.lower() if lower_keys else character,\n",
        "            replacement.lower() if lower_values else replacement\n",
        "        )\n",
        "    return replaced_string\n",
        "\n",
        "print(keymap_replace(string, {\n",
        "    'El Chayo' : 'Caballeros Templarios',\n",
        "     'La Tuta': 'Caballeros Templarios',\n",
        "    'El Mencho': 'Cartel de Jalisco',\n",
        "    'El Ingeniero (Juarez)': 'Cartel de Juárez',\n",
        "    'El Viceroy' : 'Cartel de Juárez',\n",
        "    'Walid Makled' : 'Cartel de los Soles',\n",
        "    'El Turco' : 'Cartel de los Soles',\n",
        "    'El Arabe' : 'Cartel de los Soles',\n",
        "    'El Loco Barrera' : 'Rastrojos'\n",
        "}))"
      ],
      "execution_count": null,
      "outputs": [
        {
          "output_type": "stream",
          "text": [
            "0        [Bolivia, Cocaine, Elites and Organized Crime,...\n",
            "1        [Brazil, Cocaine, European Organized Crime, Se...\n",
            "2                                      [Homicides, Mexico]\n",
            "3        [Colombia, FARC, FARC peace, Gender and Organi...\n",
            "4                   [Colombia, Elites and Organized Crime]\n",
            "                               ...                        \n",
            "15764                         [El Loco Barrera, Venezuela]\n",
            "15765               [Frontera EU/México, Tráfico de armas]\n",
            "15766            [Costa Rica, Lavado de dinero, Nicaragua]\n",
            "15767                                             [Mexico]\n",
            "15768                                            [Uruguay]\n",
            "Name: cats, Length: 15655, dtype: object\n"
          ],
          "name": "stdout"
        }
      ]
    },
    {
      "cell_type": "markdown",
      "metadata": {
        "id": "o11mUf494W-R",
        "colab_type": "text"
      },
      "source": [
        "Look here for potential help:\n",
        "\n",
        "http://pythoninthewyld.com/2018/03/12/dict-based-find-and-replace-deluxe/\n",
        "\n",
        "https://stackoverflow.com/questions/19961432/find-and-replace-strings-in-a-python-dictionary\n",
        "\n",
        "https://docs.python.org/3/library/stdtypes.html#str.translate\n",
        "\n",
        "https://codereview.stackexchange.com/questions/97318/string-replacement-using-dictionaries"
      ]
    },
    {
      "cell_type": "code",
      "metadata": {
        "id": "QLVYieY4UanC",
        "colab_type": "code",
        "colab": {
          "base_uri": "https://localhost:8080/",
          "height": 221
        },
        "outputId": "4e118d4e-00ca-44a7-a6dd-0f0c4ead062d"
      },
      "source": [
        "#Frist attempt, need to figure out how to change the key, and not sure this acctually works\n",
        "class tag_replacer():\n",
        "    def __init__(self, text, reduced):\n",
        "        self.text = original\n",
        "        self.iterate(reduced)\n",
        "\n",
        "    def replace_kv(self, _dict):\n",
        "        \"\"\"Replace any occurrence of a value with the key\"\"\"\n",
        "\n",
        "        for key, value in _dict.items():\n",
        "            label = \"\"\"[[ {0} ]]\"\"\".format(key) #new_tags['combined_tags'].key(value) \n",
        "            self.text = self.text.replace(value, label)\n",
        "            return self.text\n",
        "\n",
        "    def iterate(self, reduced):\n",
        "        \"\"\"Iterate over each dict object in a given list of dicts, `reduced` \"\"\"\n",
        "\n",
        "        for _dict in reduced:\n",
        "            self.text = self.replace_kv(_dict)\n",
        "        return self.text\n",
        "\n",
        "original = df.cats\n",
        "reduced = [{'action':new_tags['action']}, {'actor': new_tags['actor']}, {'country': new_tags['country']}]\n",
        "processed = tag_replacer(original, reduced)\n",
        "processed.text"
      ],
      "execution_count": null,
      "outputs": [
        {
          "output_type": "execute_result",
          "data": {
            "text/plain": [
              "0        [Bolivia, Cocaine, Elites and Organized Crime,...\n",
              "1        [Brazil, Cocaine, European Organized Crime, Se...\n",
              "2                                      [Homicides, Mexico]\n",
              "3        [Colombia, FARC, FARC peace, Gender and Organi...\n",
              "4                   [Colombia, Elites and Organized Crime]\n",
              "                               ...                        \n",
              "15764                         [El Loco Barrera, Venezuela]\n",
              "15765               [Frontera EU/México, Tráfico de armas]\n",
              "15766            [Costa Rica, Lavado de dinero, Nicaragua]\n",
              "15767                                             [Mexico]\n",
              "15768                                            [Uruguay]\n",
              "Name: cats, Length: 15655, dtype: object"
            ]
          },
          "metadata": {
            "tags": []
          },
          "execution_count": 60
        }
      ]
    },
    {
      "cell_type": "code",
      "metadata": {
        "id": "y-KEHT2W42pM",
        "colab_type": "code",
        "colab": {}
      },
      "source": [
        "#second attempt, needs a little help but this might be a good start. \n",
        "tags_sincasa = []\n",
        "\n",
        "actor_list = new_tags['actor']\n",
        "action_list = new_tags['action']\n",
        "country_list = new_tags['country']\n",
        "\n",
        "#start with intersections and comparisons\n",
        "for line in new_tags['actor']:\n",
        "  set_actor = set(actor_list[line])\n",
        "  set_tags = set(df.tags[line])\n",
        "\n",
        "  non_actor = set_actor.difference(set_tags)\n",
        "  tags_sincasa.append(list(non_actor))\n",
        "\n",
        "for line in new_tags['action']:\n",
        "  set_action = set(action_list[line])\n",
        "  set_tags = set(df.tags[line])\n",
        "  non_action = set_action.difference(set_tags)\n",
        "  tags_sincasa.append(list(non_action))\n",
        "\n",
        "for line in new_tags['country']:\n",
        "  set_country = set(country_list[line])\n",
        "  set_tags = set(df.tags[line])\n",
        "  non_country = set_country.difference(set_tags)\n",
        "  tags_sincasa.append(list(non_country))\n",
        "\n",
        "print(np.array(tags_reduced))"
      ],
      "execution_count": null,
      "outputs": []
    },
    {
      "cell_type": "code",
      "metadata": {
        "id": "kIFGh9YvKekl",
        "colab_type": "code",
        "colab": {
          "base_uri": "https://localhost:8080/",
          "height": 204
        },
        "outputId": "549795b6-b805-4f76-a6aa-188ce3b4f3e1"
      },
      "source": [
        "new_tags.head()"
      ],
      "execution_count": null,
      "outputs": [
        {
          "output_type": "execute_result",
          "data": {
            "text/html": [
              "<div>\n",
              "<style scoped>\n",
              "    .dataframe tbody tr th:only-of-type {\n",
              "        vertical-align: middle;\n",
              "    }\n",
              "\n",
              "    .dataframe tbody tr th {\n",
              "        vertical-align: top;\n",
              "    }\n",
              "\n",
              "    .dataframe thead th {\n",
              "        text-align: right;\n",
              "    }\n",
              "</style>\n",
              "<table border=\"1\" class=\"dataframe\">\n",
              "  <thead>\n",
              "    <tr style=\"text-align: right;\">\n",
              "      <th></th>\n",
              "      <th>actor</th>\n",
              "      <th>action</th>\n",
              "      <th>country</th>\n",
              "      <th>Tags</th>\n",
              "    </tr>\n",
              "  </thead>\n",
              "  <tbody>\n",
              "    <tr>\n",
              "      <th>0</th>\n",
              "      <td>Águilas Negras</td>\n",
              "      <td>Arms Trafficking</td>\n",
              "      <td>Argentina</td>\n",
              "      <td>Arms Trafficking</td>\n",
              "    </tr>\n",
              "    <tr>\n",
              "      <th>1</th>\n",
              "      <td>Amigos dos Amigos</td>\n",
              "      <td>Contraband</td>\n",
              "      <td>Belize</td>\n",
              "      <td>Contraband</td>\n",
              "    </tr>\n",
              "    <tr>\n",
              "      <th>2</th>\n",
              "      <td>AUC</td>\n",
              "      <td>Corruption</td>\n",
              "      <td>Bolivia</td>\n",
              "      <td>Corruption</td>\n",
              "    </tr>\n",
              "    <tr>\n",
              "      <th>3</th>\n",
              "      <td>Autodefensas</td>\n",
              "      <td>Counterfeit</td>\n",
              "      <td>Brazil</td>\n",
              "      <td>Counterfeit</td>\n",
              "    </tr>\n",
              "    <tr>\n",
              "      <th>4</th>\n",
              "      <td>Bagdad</td>\n",
              "      <td>Criminal Migration</td>\n",
              "      <td>Canada</td>\n",
              "      <td>Criminal Migration</td>\n",
              "    </tr>\n",
              "  </tbody>\n",
              "</table>\n",
              "</div>"
            ],
            "text/plain": [
              "               actor              action    country                Tags\n",
              "0     Águilas Negras    Arms Trafficking  Argentina    Arms Trafficking\n",
              "1  Amigos dos Amigos          Contraband     Belize          Contraband\n",
              "2                AUC          Corruption    Bolivia          Corruption\n",
              "3       Autodefensas         Counterfeit     Brazil         Counterfeit\n",
              "4             Bagdad  Criminal Migration     Canada  Criminal Migration"
            ]
          },
          "metadata": {
            "tags": []
          },
          "execution_count": 28
        }
      ]
    },
    {
      "cell_type": "markdown",
      "metadata": {
        "id": "voIP9SKaKubi",
        "colab_type": "text"
      },
      "source": [
        "What I'm trying to do is create a dictionary with the reduced categories that will replace the og categories as keys (key labels), and mapped to those keys will be the lists containing all the og categories we want to replace with that particular key label. \n",
        "\n",
        "Then, we can loop over the labels and have an inner loop traversing over the dictionary checking to see if the og category is in the list for each key. If it is, replace the og category in the labels with the key label... but I keep getting stuck."
      ]
    },
    {
      "cell_type": "code",
      "metadata": {
        "id": "rlB8_J3h5FJJ",
        "colab_type": "code",
        "colab": {
          "base_uri": "https://localhost:8080/",
          "height": 493
        },
        "outputId": "32a2f650-a655-42e3-8fd1-93089b89f45f"
      },
      "source": [
        "series = df['cats']\n",
        "label_dict = new_tags['Tags']\n",
        "series_copy = []\n",
        "\n",
        "for i in range(len(series.index)):\n",
        "    for key in label_dict:\n",
        "        if series.iloc[i] in label_dict[key]:\n",
        "            series_copy.iloc[i] = key"
      ],
      "execution_count": null,
      "outputs": [
        {
          "output_type": "error",
          "ename": "KeyError",
          "evalue": "ignored",
          "traceback": [
            "\u001b[0;31m---------------------------------------------------------------------------\u001b[0m",
            "\u001b[0;31mKeyError\u001b[0m                                  Traceback (most recent call last)",
            "\u001b[0;32m<ipython-input-33-2c401ccef659>\u001b[0m in \u001b[0;36m<module>\u001b[0;34m()\u001b[0m\n\u001b[1;32m      5\u001b[0m \u001b[0;32mfor\u001b[0m \u001b[0mi\u001b[0m \u001b[0;32min\u001b[0m \u001b[0mrange\u001b[0m\u001b[0;34m(\u001b[0m\u001b[0mlen\u001b[0m\u001b[0;34m(\u001b[0m\u001b[0mseries\u001b[0m\u001b[0;34m.\u001b[0m\u001b[0mindex\u001b[0m\u001b[0;34m)\u001b[0m\u001b[0;34m)\u001b[0m\u001b[0;34m:\u001b[0m\u001b[0;34m\u001b[0m\u001b[0;34m\u001b[0m\u001b[0m\n\u001b[1;32m      6\u001b[0m     \u001b[0;32mfor\u001b[0m \u001b[0mkey\u001b[0m \u001b[0;32min\u001b[0m \u001b[0mlabel_dict\u001b[0m\u001b[0;34m:\u001b[0m\u001b[0;34m\u001b[0m\u001b[0;34m\u001b[0m\u001b[0m\n\u001b[0;32m----> 7\u001b[0;31m         \u001b[0;32mif\u001b[0m \u001b[0mseries\u001b[0m\u001b[0;34m.\u001b[0m\u001b[0miloc\u001b[0m\u001b[0;34m[\u001b[0m\u001b[0mi\u001b[0m\u001b[0;34m]\u001b[0m \u001b[0;32min\u001b[0m \u001b[0mlabel_dict\u001b[0m\u001b[0;34m[\u001b[0m\u001b[0mkey\u001b[0m\u001b[0;34m]\u001b[0m\u001b[0;34m:\u001b[0m\u001b[0;34m\u001b[0m\u001b[0;34m\u001b[0m\u001b[0m\n\u001b[0m\u001b[1;32m      8\u001b[0m             \u001b[0mseries_copy\u001b[0m\u001b[0;34m.\u001b[0m\u001b[0miloc\u001b[0m\u001b[0;34m[\u001b[0m\u001b[0mi\u001b[0m\u001b[0;34m]\u001b[0m \u001b[0;34m=\u001b[0m \u001b[0mkey\u001b[0m\u001b[0;34m\u001b[0m\u001b[0;34m\u001b[0m\u001b[0m\n",
            "\u001b[0;32m/usr/local/lib/python3.6/dist-packages/pandas/core/series.py\u001b[0m in \u001b[0;36m__getitem__\u001b[0;34m(self, key)\u001b[0m\n\u001b[1;32m    869\u001b[0m         \u001b[0mkey\u001b[0m \u001b[0;34m=\u001b[0m \u001b[0mcom\u001b[0m\u001b[0;34m.\u001b[0m\u001b[0mapply_if_callable\u001b[0m\u001b[0;34m(\u001b[0m\u001b[0mkey\u001b[0m\u001b[0;34m,\u001b[0m \u001b[0mself\u001b[0m\u001b[0;34m)\u001b[0m\u001b[0;34m\u001b[0m\u001b[0;34m\u001b[0m\u001b[0m\n\u001b[1;32m    870\u001b[0m         \u001b[0;32mtry\u001b[0m\u001b[0;34m:\u001b[0m\u001b[0;34m\u001b[0m\u001b[0;34m\u001b[0m\u001b[0m\n\u001b[0;32m--> 871\u001b[0;31m             \u001b[0mresult\u001b[0m \u001b[0;34m=\u001b[0m \u001b[0mself\u001b[0m\u001b[0;34m.\u001b[0m\u001b[0mindex\u001b[0m\u001b[0;34m.\u001b[0m\u001b[0mget_value\u001b[0m\u001b[0;34m(\u001b[0m\u001b[0mself\u001b[0m\u001b[0;34m,\u001b[0m \u001b[0mkey\u001b[0m\u001b[0;34m)\u001b[0m\u001b[0;34m\u001b[0m\u001b[0;34m\u001b[0m\u001b[0m\n\u001b[0m\u001b[1;32m    872\u001b[0m \u001b[0;34m\u001b[0m\u001b[0m\n\u001b[1;32m    873\u001b[0m             \u001b[0;32mif\u001b[0m \u001b[0;32mnot\u001b[0m \u001b[0mis_scalar\u001b[0m\u001b[0;34m(\u001b[0m\u001b[0mresult\u001b[0m\u001b[0;34m)\u001b[0m\u001b[0;34m:\u001b[0m\u001b[0;34m\u001b[0m\u001b[0;34m\u001b[0m\u001b[0m\n",
            "\u001b[0;32m/usr/local/lib/python3.6/dist-packages/pandas/core/indexes/base.py\u001b[0m in \u001b[0;36mget_value\u001b[0;34m(self, series, key)\u001b[0m\n\u001b[1;32m   4403\u001b[0m         \u001b[0mk\u001b[0m \u001b[0;34m=\u001b[0m \u001b[0mself\u001b[0m\u001b[0;34m.\u001b[0m\u001b[0m_convert_scalar_indexer\u001b[0m\u001b[0;34m(\u001b[0m\u001b[0mk\u001b[0m\u001b[0;34m,\u001b[0m \u001b[0mkind\u001b[0m\u001b[0;34m=\u001b[0m\u001b[0;34m\"getitem\"\u001b[0m\u001b[0;34m)\u001b[0m\u001b[0;34m\u001b[0m\u001b[0;34m\u001b[0m\u001b[0m\n\u001b[1;32m   4404\u001b[0m         \u001b[0;32mtry\u001b[0m\u001b[0;34m:\u001b[0m\u001b[0;34m\u001b[0m\u001b[0;34m\u001b[0m\u001b[0m\n\u001b[0;32m-> 4405\u001b[0;31m             \u001b[0;32mreturn\u001b[0m \u001b[0mself\u001b[0m\u001b[0;34m.\u001b[0m\u001b[0m_engine\u001b[0m\u001b[0;34m.\u001b[0m\u001b[0mget_value\u001b[0m\u001b[0;34m(\u001b[0m\u001b[0ms\u001b[0m\u001b[0;34m,\u001b[0m \u001b[0mk\u001b[0m\u001b[0;34m,\u001b[0m \u001b[0mtz\u001b[0m\u001b[0;34m=\u001b[0m\u001b[0mgetattr\u001b[0m\u001b[0;34m(\u001b[0m\u001b[0mseries\u001b[0m\u001b[0;34m.\u001b[0m\u001b[0mdtype\u001b[0m\u001b[0;34m,\u001b[0m \u001b[0;34m\"tz\"\u001b[0m\u001b[0;34m,\u001b[0m \u001b[0;32mNone\u001b[0m\u001b[0;34m)\u001b[0m\u001b[0;34m)\u001b[0m\u001b[0;34m\u001b[0m\u001b[0;34m\u001b[0m\u001b[0m\n\u001b[0m\u001b[1;32m   4406\u001b[0m         \u001b[0;32mexcept\u001b[0m \u001b[0mKeyError\u001b[0m \u001b[0;32mas\u001b[0m \u001b[0me1\u001b[0m\u001b[0;34m:\u001b[0m\u001b[0;34m\u001b[0m\u001b[0;34m\u001b[0m\u001b[0m\n\u001b[1;32m   4407\u001b[0m             \u001b[0;32mif\u001b[0m \u001b[0mlen\u001b[0m\u001b[0;34m(\u001b[0m\u001b[0mself\u001b[0m\u001b[0;34m)\u001b[0m \u001b[0;34m>\u001b[0m \u001b[0;36m0\u001b[0m \u001b[0;32mand\u001b[0m \u001b[0;34m(\u001b[0m\u001b[0mself\u001b[0m\u001b[0;34m.\u001b[0m\u001b[0mholds_integer\u001b[0m\u001b[0;34m(\u001b[0m\u001b[0;34m)\u001b[0m \u001b[0;32mor\u001b[0m \u001b[0mself\u001b[0m\u001b[0;34m.\u001b[0m\u001b[0mis_boolean\u001b[0m\u001b[0;34m(\u001b[0m\u001b[0;34m)\u001b[0m\u001b[0;34m)\u001b[0m\u001b[0;34m:\u001b[0m\u001b[0;34m\u001b[0m\u001b[0;34m\u001b[0m\u001b[0m\n",
            "\u001b[0;32mpandas/_libs/index.pyx\u001b[0m in \u001b[0;36mpandas._libs.index.IndexEngine.get_value\u001b[0;34m()\u001b[0m\n",
            "\u001b[0;32mpandas/_libs/index.pyx\u001b[0m in \u001b[0;36mpandas._libs.index.IndexEngine.get_value\u001b[0;34m()\u001b[0m\n",
            "\u001b[0;32mpandas/_libs/index.pyx\u001b[0m in \u001b[0;36mpandas._libs.index.IndexEngine.get_loc\u001b[0;34m()\u001b[0m\n",
            "\u001b[0;32mpandas/_libs/index_class_helper.pxi\u001b[0m in \u001b[0;36mpandas._libs.index.Int64Engine._check_type\u001b[0;34m()\u001b[0m\n",
            "\u001b[0;31mKeyError\u001b[0m: 'Arms Trafficking'"
          ]
        }
      ]
    },
    {
      "cell_type": "code",
      "metadata": {
        "id": "Ds4bff01l3lB",
        "colab_type": "code",
        "colab": {}
      },
      "source": [
        "new_tags_transp = new_tags.T"
      ],
      "execution_count": null,
      "outputs": []
    },
    {
      "cell_type": "code",
      "metadata": {
        "id": "gjbw9TSymLqY",
        "colab_type": "code",
        "colab": {
          "base_uri": "https://localhost:8080/",
          "height": 136
        },
        "outputId": "93cc9d1d-8fc7-46d8-a84c-498f185ae9b9"
      },
      "source": [
        "new_tags_transp.head"
      ],
      "execution_count": null,
      "outputs": [
        {
          "output_type": "execute_result",
          "data": {
            "text/plain": [
              "<bound method NDFrame.head of                       0                  1    ...  104        105\n",
              "actor      Águilas Negras  Amigos dos Amigos  ...  NaN        NaN\n",
              "action   Arms Trafficking         Contraband  ...  NaN        NaN\n",
              "country         Argentina             Belize  ...  NaN        NaN\n",
              "Tags     Arms Trafficking         Contraband  ...  USA  Venezuela\n",
              "\n",
              "[4 rows x 106 columns]>"
            ]
          },
          "metadata": {
            "tags": []
          },
          "execution_count": 207
        }
      ]
    },
    {
      "cell_type": "markdown",
      "metadata": {
        "id": "-c3-CW2dMm_j",
        "colab_type": "text"
      },
      "source": [
        "I'm trying to implement the for loop in two different way with these next few scripts, I'm just not sure how to continue or fix them ... Doing another google search, I think I might have the correct language now."
      ]
    },
    {
      "cell_type": "code",
      "metadata": {
        "id": "eP-Jc8cTeS1N",
        "colab_type": "code",
        "colab": {}
      },
      "source": [
        "def reduce_tags(self, action_tags, actor_tags, country_tags, reduced_column):\n",
        "  tags_sincasa = []\n",
        "  tags_actor = []\n",
        "  tags_action = []\n",
        "  tags_country = []\n",
        "  reduced_column = []\n",
        "  new_tags_file = csv.writer(new_tags, delimiter = ';', lineterminator='\\n')\n",
        "\n",
        "  og_tags = df['tags']\n",
        "  \n",
        "  for line in og_tags:\n",
        "    tags_action[line].replace(action_tags[line])\n",
        "    tags_actor[line].replace(actor_tags[line])\n",
        "    tags_country[line].replace(country_tags[line])\n",
        "\n",
        "  new_tags_file.writerows(reduced_column)"
      ],
      "execution_count": null,
      "outputs": []
    },
    {
      "cell_type": "code",
      "metadata": {
        "id": "lQS8XMVXySRn",
        "colab_type": "code",
        "colab": {
          "base_uri": "https://localhost:8080/",
          "height": 231
        },
        "outputId": "2bf13cb1-7073-4ac2-dced-9d8d5d1760b6"
      },
      "source": [
        "#def replce(self, )\n",
        "tags_sincasa = []\n",
        "tags_actor = []\n",
        "tags_action = []\n",
        "tags_country = []\n",
        "\n",
        "actor_list = new_tags['actor'].tolist()\n",
        "action_list = new_tags['action'].tolist()\n",
        "country_list = new_tags['country'].tolist()\n",
        "\n",
        "# with open(new_tags, 'r') as infile:\n",
        "#   \n",
        "\n",
        "for line in new_tags:\n",
        "  # tags_actor[line].append(new_tags.actor[line])\n",
        "  # tags_action[line].append(new_tags.action[line])\n",
        "  # tags_country[line].append(new_tags.country[line])\n",
        "\n",
        "\n",
        "  set_action = set(actor_list[line])\n",
        "  set_actor = set(action_list[line])\n",
        "  set_country = set(country_list[line])\n",
        "  set_tags = set(df.tags[line])\n",
        "\n",
        "  non_action = set_action.difference(set_tags)\n",
        "  tags_sincasa.append(list(non_action))\n",
        "\n",
        "print(np.array(tags_reduced))\n",
        "\n",
        "\n",
        "def fill_csv(self, array_urls, array_dates, csv_file_path):\n",
        "    result_array = []\n",
        "    array_length = str(len(array_dates))\n",
        "\n",
        "    # We fill the CSV file\n",
        "    file = open(csv_file_path, \"w\")\n",
        "    csv_file = csv.writer(file, delimiter=';', lineterminator='\\n')\n",
        "\n",
        "    # We merge the two arrays in one\n",
        "\n",
        "    for i in array_length:\n",
        "        result_array[i][0].append(array_urls[i])\n",
        "        result_array[i][1].append(array_dates[i])\n",
        "        i += 1\n",
        "\n",
        "    csv_file.writerows(result_array)\n",
        "\n",
        "\n",
        "\n",
        "# for i in range(len(df.tags)):\n",
        "#   if (df.tags[i] == new_tags.action[i]):\n",
        "#     tags_reduced = new_tags.action\n",
        "#   elif (df.tags == new_tags.actor):\n",
        "#     tags_reduced = new_tags.actor\n",
        "#   elif (df.tags == new_tags.country):\n",
        "#     tags_reduced = new_tags.country\n",
        "# print(tags_reduced.head())"
      ],
      "execution_count": null,
      "outputs": [
        {
          "output_type": "error",
          "ename": "TypeError",
          "evalue": "ignored",
          "traceback": [
            "\u001b[0;31m---------------------------------------------------------------------------\u001b[0m",
            "\u001b[0;31mTypeError\u001b[0m                                 Traceback (most recent call last)",
            "\u001b[0;32m<ipython-input-36-705ab5f29e3a>\u001b[0m in \u001b[0;36m<module>\u001b[0;34m()\u001b[0m\n\u001b[1;32m      5\u001b[0m \u001b[0mtags_country\u001b[0m \u001b[0;34m=\u001b[0m \u001b[0;34m[\u001b[0m\u001b[0;34m]\u001b[0m\u001b[0;34m\u001b[0m\u001b[0;34m\u001b[0m\u001b[0m\n\u001b[1;32m      6\u001b[0m \u001b[0;34m\u001b[0m\u001b[0m\n\u001b[0;32m----> 7\u001b[0;31m \u001b[0mactor_list\u001b[0m \u001b[0;34m=\u001b[0m \u001b[0mnew_tags\u001b[0m\u001b[0;34m[\u001b[0m\u001b[0;34m'actor'\u001b[0m\u001b[0;34m]\u001b[0m\u001b[0;34m.\u001b[0m\u001b[0mtolist\u001b[0m\u001b[0;34m(\u001b[0m\u001b[0mord\u001b[0m\u001b[0;34m(\u001b[0m\u001b[0;34m)\u001b[0m\u001b[0;34m)\u001b[0m\u001b[0;34m\u001b[0m\u001b[0;34m\u001b[0m\u001b[0m\n\u001b[0m\u001b[1;32m      8\u001b[0m \u001b[0maction_list\u001b[0m \u001b[0;34m=\u001b[0m \u001b[0mnew_tags\u001b[0m\u001b[0;34m[\u001b[0m\u001b[0;34m'action'\u001b[0m\u001b[0;34m]\u001b[0m\u001b[0;34m.\u001b[0m\u001b[0mtolist\u001b[0m\u001b[0;34m(\u001b[0m\u001b[0mord\u001b[0m\u001b[0;34m(\u001b[0m\u001b[0;34m)\u001b[0m\u001b[0;34m)\u001b[0m\u001b[0;34m\u001b[0m\u001b[0;34m\u001b[0m\u001b[0m\n\u001b[1;32m      9\u001b[0m \u001b[0mcountry_list\u001b[0m \u001b[0;34m=\u001b[0m \u001b[0mnew_tags\u001b[0m\u001b[0;34m[\u001b[0m\u001b[0;34m'country'\u001b[0m\u001b[0;34m]\u001b[0m\u001b[0;34m.\u001b[0m\u001b[0mtolist\u001b[0m\u001b[0;34m(\u001b[0m\u001b[0mord\u001b[0m\u001b[0;34m(\u001b[0m\u001b[0;34m)\u001b[0m\u001b[0;34m)\u001b[0m\u001b[0;34m\u001b[0m\u001b[0;34m\u001b[0m\u001b[0m\n",
            "\u001b[0;31mTypeError\u001b[0m: ord() takes exactly one argument (0 given)"
          ]
        }
      ]
    },
    {
      "cell_type": "code",
      "metadata": {
        "id": "cTWUe5SUDxAC",
        "colab_type": "code",
        "colab": {}
      },
      "source": [
        "# for i in lines:\n",
        "#     temp = str(i)\n",
        "#     temp2 = temp.replace(' ', ', ',2)\n",
        "#     linesNew.append(temp2)\n",
        "\n",
        "#lines = df.readlines()\n",
        "linesNew = []\n",
        "temp = None\n",
        "\n",
        "\n",
        "for lines in df.tags:\n",
        "  temp = str(df.cats)\n",
        "  temp2 = lines.replace(df.cats, new_tags.action)\n",
        "  linesNew.append(temp2)"
      ],
      "execution_count": null,
      "outputs": []
    },
    {
      "cell_type": "code",
      "metadata": {
        "id": "bL_FwRjDCI4I",
        "colab_type": "code",
        "colab": {}
      },
      "source": [
        "from pandas import DataFrame\n",
        "\n",
        "# names = {'First_name': ['Jon','Bill','Maria','Emma']}\n",
        "# df = DataFrame(names,columns=['First_name'])\n",
        "\n",
        "# df.loc[(df['First_name'] == 'Bill') | (df['First_name'] == 'Emma'), 'name_match'] = 'Match'  \n",
        "# df.loc[(df['First_name'] != 'Bill') & (df['First_name'] != 'Emma'), 'name_match'] = 'Mismatch'  \n",
        "\n",
        "# print (df)\n",
        "\n",
        "# new_tags.loc[(new_tags['actor'] == df.tags), 'Reduced'] = new_tags['actor']\n",
        "# new_tags.head()"
      ],
      "execution_count": null,
      "outputs": []
    },
    {
      "cell_type": "code",
      "metadata": {
        "id": "ePeHqjZzuvrj",
        "colab_type": "code",
        "colab": {
          "base_uri": "https://localhost:8080/",
          "height": 479
        },
        "outputId": "ca5e158b-e188-4a89-ddd9-460e9662260b"
      },
      "source": [
        "df.tail()"
      ],
      "execution_count": null,
      "outputs": [
        {
          "output_type": "execute_result",
          "data": {
            "text/html": [
              "<div>\n",
              "<style scoped>\n",
              "    .dataframe tbody tr th:only-of-type {\n",
              "        vertical-align: middle;\n",
              "    }\n",
              "\n",
              "    .dataframe tbody tr th {\n",
              "        vertical-align: top;\n",
              "    }\n",
              "\n",
              "    .dataframe thead th {\n",
              "        text-align: right;\n",
              "    }\n",
              "</style>\n",
              "<table border=\"1\" class=\"dataframe\">\n",
              "  <thead>\n",
              "    <tr style=\"text-align: right;\">\n",
              "      <th></th>\n",
              "      <th>author</th>\n",
              "      <th>content</th>\n",
              "      <th>date</th>\n",
              "      <th>tags</th>\n",
              "      <th>title</th>\n",
              "      <th>type</th>\n",
              "      <th>url</th>\n",
              "      <th>text</th>\n",
              "      <th>cats</th>\n",
              "    </tr>\n",
              "  </thead>\n",
              "  <tbody>\n",
              "    <tr>\n",
              "      <th>15764</th>\n",
              "      <td>Elyssa Pachico</td>\n",
              "      <td>SHARE\\nLa captura de Daniel “El Loco” Barrera ...</td>\n",
              "      <td>2012-09-19</td>\n",
              "      <td>El Loco Barrera,Venezuela</td>\n",
              "      <td>El arresto del ‘Loco Barrera’ muestra a Venezu...</td>\n",
              "      <td>Análisis</td>\n",
              "      <td>https://es.insightcrime.org/noticias/analisis/...</td>\n",
              "      <td>El arresto del ‘Loco Barrera’ muestra a Venezu...</td>\n",
              "      <td>[El Loco Barrera, Venezuela]</td>\n",
              "    </tr>\n",
              "    <tr>\n",
              "      <th>15765</th>\n",
              "      <td>Daniela Castro</td>\n",
              "      <td>SHARE\\nEl informe\\nelaborado por el inspector ...</td>\n",
              "      <td>2012-09-20</td>\n",
              "      <td>Frontera EU/México,Tráfico de armas</td>\n",
              "      <td>Veredicto sobre la Operación ‘Rápido y Furioso’</td>\n",
              "      <td>Noticias del día</td>\n",
              "      <td>https://es.insightcrime.org/noticias/noticias-...</td>\n",
              "      <td>Veredicto sobre la Operación ‘Rápido y Furioso...</td>\n",
              "      <td>[Frontera EU/México, Tráfico de armas]</td>\n",
              "    </tr>\n",
              "    <tr>\n",
              "      <th>15766</th>\n",
              "      <td>Daniela Castro</td>\n",
              "      <td>SHARE\\nFalsos periodistas de la cadena Televis...</td>\n",
              "      <td>2012-09-20</td>\n",
              "      <td>Costa Rica,Lavado de dinero,Nicaragua</td>\n",
              "      <td>Falsos Periodistas Acusados por los Delitos de...</td>\n",
              "      <td>Noticias del día</td>\n",
              "      <td>https://es.insightcrime.org/noticias/noticias-...</td>\n",
              "      <td>Falsos Periodistas Acusados por los Delitos de...</td>\n",
              "      <td>[Costa Rica, Lavado de dinero, Nicaragua]</td>\n",
              "    </tr>\n",
              "    <tr>\n",
              "      <th>15767</th>\n",
              "      <td>Andres Ortiz</td>\n",
              "      <td>SHARE\\nEn lo corrido del año, la Secretaría de...</td>\n",
              "      <td>2012-09-21</td>\n",
              "      <td>Mexico</td>\n",
              "      <td>Aproximadamente 8.000 Detenidos por Narcotráfi...</td>\n",
              "      <td>Noticias del día</td>\n",
              "      <td>https://es.insightcrime.org/noticias/noticias-...</td>\n",
              "      <td>Aproximadamente 8.000 Detenidos por Narcotráfi...</td>\n",
              "      <td>[Mexico]</td>\n",
              "    </tr>\n",
              "    <tr>\n",
              "      <th>15768</th>\n",
              "      <td>Andres Ortiz</td>\n",
              "      <td>SHARE\\nLuego de retirarse del país en 1994 por...</td>\n",
              "      <td>2012-09-21</td>\n",
              "      <td>Uruguay</td>\n",
              "      <td>La DEA Vuelve a Pisar Uruguay</td>\n",
              "      <td>Noticias del día</td>\n",
              "      <td>https://es.insightcrime.org/noticias/noticias-...</td>\n",
              "      <td>La DEA Vuelve a Pisar Uruguay. SHARE\\nLuego de...</td>\n",
              "      <td>[Uruguay]</td>\n",
              "    </tr>\n",
              "  </tbody>\n",
              "</table>\n",
              "</div>"
            ],
            "text/plain": [
              "               author  ...                                       cats\n",
              "15764  Elyssa Pachico  ...               [El Loco Barrera, Venezuela]\n",
              "15765  Daniela Castro  ...     [Frontera EU/México, Tráfico de armas]\n",
              "15766  Daniela Castro  ...  [Costa Rica, Lavado de dinero, Nicaragua]\n",
              "15767    Andres Ortiz  ...                                   [Mexico]\n",
              "15768    Andres Ortiz  ...                                  [Uruguay]\n",
              "\n",
              "[5 rows x 9 columns]"
            ]
          },
          "metadata": {
            "tags": []
          },
          "execution_count": 22
        }
      ]
    },
    {
      "cell_type": "code",
      "metadata": {
        "id": "CcAHR66V1JhL",
        "colab_type": "code",
        "colab": {}
      },
      "source": [
        "df = df[['title', 'text', 'cats','tags','content']]"
      ],
      "execution_count": null,
      "outputs": []
    },
    {
      "cell_type": "code",
      "metadata": {
        "id": "etUV8MhO1UYO",
        "colab_type": "code",
        "colab": {
          "base_uri": "https://localhost:8080/",
          "height": 221
        },
        "outputId": "22d49388-4d05-4f4b-f5b8-53490be682fb"
      },
      "source": [
        "df.info()"
      ],
      "execution_count": null,
      "outputs": [
        {
          "output_type": "stream",
          "text": [
            "<class 'pandas.core.frame.DataFrame'>\n",
            "Int64Index: 15655 entries, 0 to 15768\n",
            "Data columns (total 5 columns):\n",
            " #   Column   Non-Null Count  Dtype \n",
            "---  ------   --------------  ----- \n",
            " 0   title    15655 non-null  object\n",
            " 1   text     15655 non-null  object\n",
            " 2   cats     15655 non-null  object\n",
            " 3   tags     15655 non-null  object\n",
            " 4   content  15655 non-null  object\n",
            "dtypes: object(5)\n",
            "memory usage: 1.3+ MB\n"
          ],
          "name": "stdout"
        }
      ]
    },
    {
      "cell_type": "markdown",
      "metadata": {
        "id": "Kii9KbrvceWG",
        "colab_type": "text"
      },
      "source": [
        "##Genres"
      ]
    },
    {
      "cell_type": "markdown",
      "metadata": {
        "id": "nqqLIFNYIfNh",
        "colab_type": "text"
      },
      "source": [
        "I'm going to edit out the genres tab because it only has 253 rows when we need 15655. I though this would help with binarization but it does not."
      ]
    },
    {
      "cell_type": "code",
      "metadata": {
        "id": "0zMa8_4qVSb9",
        "colab_type": "code",
        "colab": {}
      },
      "source": [
        "# select a column as series and then convert it into a column\n",
        "list_of_names = df.cats.to_list()\n",
        "#list_of_names"
      ],
      "execution_count": null,
      "outputs": []
    },
    {
      "cell_type": "code",
      "metadata": {
        "id": "qVIM0pWR5KZA",
        "colab_type": "code",
        "colab": {
          "base_uri": "https://localhost:8080/",
          "height": 34
        },
        "outputId": "5bc1f494-5bc3-47ff-e42c-113ba325a3ff"
      },
      "source": [
        "all_genres = sum(list_of_names, [])\n",
        "len(set(all_genres))"
      ],
      "execution_count": null,
      "outputs": [
        {
          "output_type": "execute_result",
          "data": {
            "text/plain": [
              "253"
            ]
          },
          "metadata": {
            "tags": []
          },
          "execution_count": 26
        }
      ]
    },
    {
      "cell_type": "code",
      "metadata": {
        "id": "mi_IWr0hoOsK",
        "colab_type": "code",
        "colab": {
          "base_uri": "https://localhost:8080/",
          "height": 255
        },
        "outputId": "3c51ab2e-4754-4b25-e005-5912481e079d"
      },
      "source": [
        "all_genres = nltk.FreqDist(all_genres) \n",
        "\n",
        "# create dataframe\n",
        "all_genres_df = pd.DataFrame({'Genre': list(all_genres.keys()), \n",
        "                              'Count': list(all_genres.values())})\n",
        "\n",
        "all_genres_df.head"
      ],
      "execution_count": null,
      "outputs": [
        {
          "output_type": "execute_result",
          "data": {
            "text/plain": [
              "<bound method NDFrame.head of                           Genre  Count\n",
              "0                       Bolivia    541\n",
              "1                       Cocaine    141\n",
              "2    Elites and Organized Crime    792\n",
              "3                  Infographics    368\n",
              "4                        Brazil    696\n",
              "..                          ...    ...\n",
              "248         Cartel los Perrones     12\n",
              "249             Cartel de Texis     43\n",
              "250             Víctor Carranza      8\n",
              "251             Pijarbey Farfan      4\n",
              "252         Sebastián (oficina)      1\n",
              "\n",
              "[253 rows x 2 columns]>"
            ]
          },
          "metadata": {
            "tags": []
          },
          "execution_count": 27
        }
      ]
    },
    {
      "cell_type": "markdown",
      "metadata": {
        "id": "Qno14Af_G1MN",
        "colab_type": "text"
      },
      "source": [
        "Figure out how to reduce the 253 \"genres\", \"tags\", or categories and replace them with the ~60 chosen by the Insight Crime Group"
      ]
    },
    {
      "cell_type": "code",
      "metadata": {
        "id": "1wyey1VJmz-P",
        "colab_type": "code",
        "colab": {
          "base_uri": "https://localhost:8080/",
          "height": 374
        },
        "outputId": "1f8a54db-57d5-4c98-db8b-e691c65780b2"
      },
      "source": [
        "class TextLabeler():\n",
        "    def __init__(self, text, lod):\n",
        "        self.text = text\n",
        "        self.iterate(lod)\n",
        "\n",
        "    def replace_kv(self, _dict):\n",
        "        \"\"\"Replace any occurrence of a value with the key\"\"\"\n",
        "\n",
        "        for key, value in _dict.iteritems():\n",
        "            label = \"\"\"[[ {0} ]]\"\"\".format(key)\n",
        "            self.text = self.text.replace(value, label)\n",
        "            return self.text\n",
        "\n",
        "    def iterate(self, lod):\n",
        "        \"\"\"Iterate over each dict object in a given list of dicts, `lod` \"\"\"\n",
        "\n",
        "        for _dict in lod:\n",
        "            self.text = self.replace_kv(_dict)\n",
        "        return self.text\n",
        "\n",
        "string = \"Let's take a trip to Paris next January\"\n",
        "lod = [{'city':'Paris'}, {'month':'January'}]\n",
        "processed = TextLabeler(string, lod)\n",
        "processed.text\n",
        "#Let's take a trip to [[ city ]] next [[ month ]]"
      ],
      "execution_count": null,
      "outputs": [
        {
          "output_type": "error",
          "ename": "AttributeError",
          "evalue": "ignored",
          "traceback": [
            "\u001b[0;31m---------------------------------------------------------------------------\u001b[0m",
            "\u001b[0;31mAttributeError\u001b[0m                            Traceback (most recent call last)",
            "\u001b[0;32m<ipython-input-28-b4bc7d45dc5e>\u001b[0m in \u001b[0;36m<module>\u001b[0;34m()\u001b[0m\n\u001b[1;32m     21\u001b[0m \u001b[0mstring\u001b[0m \u001b[0;34m=\u001b[0m \u001b[0;34m\"Let's take a trip to Paris next January\"\u001b[0m\u001b[0;34m\u001b[0m\u001b[0;34m\u001b[0m\u001b[0m\n\u001b[1;32m     22\u001b[0m \u001b[0mlod\u001b[0m \u001b[0;34m=\u001b[0m \u001b[0;34m[\u001b[0m\u001b[0;34m{\u001b[0m\u001b[0;34m'city'\u001b[0m\u001b[0;34m:\u001b[0m\u001b[0;34m'Paris'\u001b[0m\u001b[0;34m}\u001b[0m\u001b[0;34m,\u001b[0m \u001b[0;34m{\u001b[0m\u001b[0;34m'month'\u001b[0m\u001b[0;34m:\u001b[0m\u001b[0;34m'January'\u001b[0m\u001b[0;34m}\u001b[0m\u001b[0;34m]\u001b[0m\u001b[0;34m\u001b[0m\u001b[0;34m\u001b[0m\u001b[0m\n\u001b[0;32m---> 23\u001b[0;31m \u001b[0mprocessed\u001b[0m \u001b[0;34m=\u001b[0m \u001b[0mTextLabeler\u001b[0m\u001b[0;34m(\u001b[0m\u001b[0mstring\u001b[0m\u001b[0;34m,\u001b[0m \u001b[0mlod\u001b[0m\u001b[0;34m)\u001b[0m\u001b[0;34m\u001b[0m\u001b[0;34m\u001b[0m\u001b[0m\n\u001b[0m\u001b[1;32m     24\u001b[0m \u001b[0mprocessed\u001b[0m\u001b[0;34m.\u001b[0m\u001b[0mtext\u001b[0m\u001b[0;34m\u001b[0m\u001b[0;34m\u001b[0m\u001b[0m\n\u001b[1;32m     25\u001b[0m \u001b[0;31m#Let's take a trip to [[ city ]] next [[ month ]]\u001b[0m\u001b[0;34m\u001b[0m\u001b[0;34m\u001b[0m\u001b[0;34m\u001b[0m\u001b[0m\n",
            "\u001b[0;32m<ipython-input-28-b4bc7d45dc5e>\u001b[0m in \u001b[0;36m__init__\u001b[0;34m(self, text, lod)\u001b[0m\n\u001b[1;32m      2\u001b[0m     \u001b[0;32mdef\u001b[0m \u001b[0m__init__\u001b[0m\u001b[0;34m(\u001b[0m\u001b[0mself\u001b[0m\u001b[0;34m,\u001b[0m \u001b[0mtext\u001b[0m\u001b[0;34m,\u001b[0m \u001b[0mlod\u001b[0m\u001b[0;34m)\u001b[0m\u001b[0;34m:\u001b[0m\u001b[0;34m\u001b[0m\u001b[0;34m\u001b[0m\u001b[0m\n\u001b[1;32m      3\u001b[0m         \u001b[0mself\u001b[0m\u001b[0;34m.\u001b[0m\u001b[0mtext\u001b[0m \u001b[0;34m=\u001b[0m \u001b[0mtext\u001b[0m\u001b[0;34m\u001b[0m\u001b[0;34m\u001b[0m\u001b[0m\n\u001b[0;32m----> 4\u001b[0;31m         \u001b[0mself\u001b[0m\u001b[0;34m.\u001b[0m\u001b[0miterate\u001b[0m\u001b[0;34m(\u001b[0m\u001b[0mlod\u001b[0m\u001b[0;34m)\u001b[0m\u001b[0;34m\u001b[0m\u001b[0;34m\u001b[0m\u001b[0m\n\u001b[0m\u001b[1;32m      5\u001b[0m \u001b[0;34m\u001b[0m\u001b[0m\n\u001b[1;32m      6\u001b[0m     \u001b[0;32mdef\u001b[0m \u001b[0mreplace_kv\u001b[0m\u001b[0;34m(\u001b[0m\u001b[0mself\u001b[0m\u001b[0;34m,\u001b[0m \u001b[0m_dict\u001b[0m\u001b[0;34m)\u001b[0m\u001b[0;34m:\u001b[0m\u001b[0;34m\u001b[0m\u001b[0;34m\u001b[0m\u001b[0m\n",
            "\u001b[0;32m<ipython-input-28-b4bc7d45dc5e>\u001b[0m in \u001b[0;36miterate\u001b[0;34m(self, lod)\u001b[0m\n\u001b[1;32m     16\u001b[0m \u001b[0;34m\u001b[0m\u001b[0m\n\u001b[1;32m     17\u001b[0m         \u001b[0;32mfor\u001b[0m \u001b[0m_dict\u001b[0m \u001b[0;32min\u001b[0m \u001b[0mlod\u001b[0m\u001b[0;34m:\u001b[0m\u001b[0;34m\u001b[0m\u001b[0;34m\u001b[0m\u001b[0m\n\u001b[0;32m---> 18\u001b[0;31m             \u001b[0mself\u001b[0m\u001b[0;34m.\u001b[0m\u001b[0mtext\u001b[0m \u001b[0;34m=\u001b[0m \u001b[0mself\u001b[0m\u001b[0;34m.\u001b[0m\u001b[0mreplace_kv\u001b[0m\u001b[0;34m(\u001b[0m\u001b[0m_dict\u001b[0m\u001b[0;34m)\u001b[0m\u001b[0;34m\u001b[0m\u001b[0;34m\u001b[0m\u001b[0m\n\u001b[0m\u001b[1;32m     19\u001b[0m         \u001b[0;32mreturn\u001b[0m \u001b[0mself\u001b[0m\u001b[0;34m.\u001b[0m\u001b[0mtext\u001b[0m\u001b[0;34m\u001b[0m\u001b[0;34m\u001b[0m\u001b[0m\n\u001b[1;32m     20\u001b[0m \u001b[0;34m\u001b[0m\u001b[0m\n",
            "\u001b[0;32m<ipython-input-28-b4bc7d45dc5e>\u001b[0m in \u001b[0;36mreplace_kv\u001b[0;34m(self, _dict)\u001b[0m\n\u001b[1;32m      7\u001b[0m         \u001b[0;34m\"\"\"Replace any occurrence of a value with the key\"\"\"\u001b[0m\u001b[0;34m\u001b[0m\u001b[0;34m\u001b[0m\u001b[0m\n\u001b[1;32m      8\u001b[0m \u001b[0;34m\u001b[0m\u001b[0m\n\u001b[0;32m----> 9\u001b[0;31m         \u001b[0;32mfor\u001b[0m \u001b[0mkey\u001b[0m\u001b[0;34m,\u001b[0m \u001b[0mvalue\u001b[0m \u001b[0;32min\u001b[0m \u001b[0m_dict\u001b[0m\u001b[0;34m.\u001b[0m\u001b[0miteritems\u001b[0m\u001b[0;34m(\u001b[0m\u001b[0;34m)\u001b[0m\u001b[0;34m:\u001b[0m\u001b[0;34m\u001b[0m\u001b[0;34m\u001b[0m\u001b[0m\n\u001b[0m\u001b[1;32m     10\u001b[0m             \u001b[0mlabel\u001b[0m \u001b[0;34m=\u001b[0m \u001b[0;34m\"\"\"[[ {0} ]]\"\"\"\u001b[0m\u001b[0;34m.\u001b[0m\u001b[0mformat\u001b[0m\u001b[0;34m(\u001b[0m\u001b[0mkey\u001b[0m\u001b[0;34m)\u001b[0m\u001b[0;34m\u001b[0m\u001b[0;34m\u001b[0m\u001b[0m\n\u001b[1;32m     11\u001b[0m             \u001b[0mself\u001b[0m\u001b[0;34m.\u001b[0m\u001b[0mtext\u001b[0m \u001b[0;34m=\u001b[0m \u001b[0mself\u001b[0m\u001b[0;34m.\u001b[0m\u001b[0mtext\u001b[0m\u001b[0;34m.\u001b[0m\u001b[0mreplace\u001b[0m\u001b[0;34m(\u001b[0m\u001b[0mvalue\u001b[0m\u001b[0;34m,\u001b[0m \u001b[0mlabel\u001b[0m\u001b[0;34m)\u001b[0m\u001b[0;34m\u001b[0m\u001b[0;34m\u001b[0m\u001b[0m\n",
            "\u001b[0;31mAttributeError\u001b[0m: 'dict' object has no attribute 'iteritems'"
          ]
        }
      ]
    },
    {
      "cell_type": "code",
      "metadata": {
        "id": "Rhz_EJSZoTyV",
        "colab_type": "code",
        "colab": {}
      },
      "source": [
        "#Strings are immutable. replace returns a new string, which is what you have to insert into the linesNew list\n",
        "\n",
        "for i in lines:\n",
        "    temp = str(i)\n",
        "    temp2 = temp.replace(' ', ', ',2)\n",
        "    linesNew.append(temp2)"
      ],
      "execution_count": null,
      "outputs": []
    },
    {
      "cell_type": "markdown",
      "metadata": {
        "id": "WzOingK84OLh",
        "colab_type": "text"
      },
      "source": [
        "##LDA Try"
      ]
    },
    {
      "cell_type": "markdown",
      "metadata": {
        "id": "SX7ResuYssjZ",
        "colab_type": "text"
      },
      "source": [
        "Instead of using "
      ]
    },
    {
      "cell_type": "code",
      "metadata": {
        "id": "SxNbNA2MrdzF",
        "colab_type": "code",
        "colab": {
          "base_uri": "https://localhost:8080/",
          "height": 326
        },
        "outputId": "9ff4daf8-e06e-4d0d-99c1-b45db07aa524"
      },
      "source": [
        "!pip install gensim\n",
        "import gensim\n",
        "from gensim.utils import simple_preprocess\n",
        "from gensim.parsing.preprocessing import STOPWORDS\n",
        "from nltk.stem import WordNetLemmatizer, SnowballStemmer\n",
        "from nltk.stem.porter import *\n",
        "import numpy as np\n",
        "np.random.seed(400)"
      ],
      "execution_count": null,
      "outputs": [
        {
          "output_type": "stream",
          "text": [
            "Requirement already satisfied: gensim in /usr/local/lib/python3.6/dist-packages (3.6.0)\n",
            "Requirement already satisfied: scipy>=0.18.1 in /usr/local/lib/python3.6/dist-packages (from gensim) (1.4.1)\n",
            "Requirement already satisfied: six>=1.5.0 in /usr/local/lib/python3.6/dist-packages (from gensim) (1.12.0)\n",
            "Requirement already satisfied: numpy>=1.11.3 in /usr/local/lib/python3.6/dist-packages (from gensim) (1.18.5)\n",
            "Requirement already satisfied: smart-open>=1.2.1 in /usr/local/lib/python3.6/dist-packages (from gensim) (2.0.0)\n",
            "Requirement already satisfied: boto3 in /usr/local/lib/python3.6/dist-packages (from smart-open>=1.2.1->gensim) (1.14.5)\n",
            "Requirement already satisfied: boto in /usr/local/lib/python3.6/dist-packages (from smart-open>=1.2.1->gensim) (2.49.0)\n",
            "Requirement already satisfied: requests in /usr/local/lib/python3.6/dist-packages (from smart-open>=1.2.1->gensim) (2.23.0)\n",
            "Requirement already satisfied: botocore<1.18.0,>=1.17.5 in /usr/local/lib/python3.6/dist-packages (from boto3->smart-open>=1.2.1->gensim) (1.17.5)\n",
            "Requirement already satisfied: jmespath<1.0.0,>=0.7.1 in /usr/local/lib/python3.6/dist-packages (from boto3->smart-open>=1.2.1->gensim) (0.10.0)\n",
            "Requirement already satisfied: s3transfer<0.4.0,>=0.3.0 in /usr/local/lib/python3.6/dist-packages (from boto3->smart-open>=1.2.1->gensim) (0.3.3)\n",
            "Requirement already satisfied: certifi>=2017.4.17 in /usr/local/lib/python3.6/dist-packages (from requests->smart-open>=1.2.1->gensim) (2020.4.5.2)\n",
            "Requirement already satisfied: chardet<4,>=3.0.2 in /usr/local/lib/python3.6/dist-packages (from requests->smart-open>=1.2.1->gensim) (3.0.4)\n",
            "Requirement already satisfied: idna<3,>=2.5 in /usr/local/lib/python3.6/dist-packages (from requests->smart-open>=1.2.1->gensim) (2.9)\n",
            "Requirement already satisfied: urllib3!=1.25.0,!=1.25.1,<1.26,>=1.21.1 in /usr/local/lib/python3.6/dist-packages (from requests->smart-open>=1.2.1->gensim) (1.24.3)\n",
            "Requirement already satisfied: docutils<0.16,>=0.10 in /usr/local/lib/python3.6/dist-packages (from botocore<1.18.0,>=1.17.5->boto3->smart-open>=1.2.1->gensim) (0.15.2)\n",
            "Requirement already satisfied: python-dateutil<3.0.0,>=2.1 in /usr/local/lib/python3.6/dist-packages (from botocore<1.18.0,>=1.17.5->boto3->smart-open>=1.2.1->gensim) (2.8.1)\n"
          ],
          "name": "stdout"
        }
      ]
    },
    {
      "cell_type": "code",
      "metadata": {
        "id": "AeTIUrdi0O9B",
        "colab_type": "code",
        "colab": {
          "base_uri": "https://localhost:8080/",
          "height": 68
        },
        "outputId": "4dc88054-519e-4149-9b24-df4ba2866075"
      },
      "source": [
        "import nltk\n",
        "nltk.download('wordnet')"
      ],
      "execution_count": null,
      "outputs": [
        {
          "output_type": "stream",
          "text": [
            "[nltk_data] Downloading package wordnet to /root/nltk_data...\n",
            "[nltk_data]   Unzipping corpora/wordnet.zip.\n"
          ],
          "name": "stdout"
        },
        {
          "output_type": "execute_result",
          "data": {
            "text/plain": [
              "True"
            ]
          },
          "metadata": {
            "tags": []
          },
          "execution_count": 71
        }
      ]
    }
  ]
}